{
  "nbformat": 4,
  "nbformat_minor": 0,
  "metadata": {
    "kernelspec": {
      "display_name": "Python 3",
      "language": "python",
      "name": "python3"
    },
    "language_info": {
      "codemirror_mode": {
        "name": "ipython",
        "version": 3
      },
      "file_extension": ".py",
      "mimetype": "text/x-python",
      "name": "python",
      "nbconvert_exporter": "python",
      "pygments_lexer": "ipython3",
      "version": "3.8.3"
    },
    "colab": {
      "name": "LGBIO2072_chapitre1.ipynb",
      "provenance": [],
      "collapsed_sections": [],
      "include_colab_link": true
    }
  },
  "cells": [
    {
      "cell_type": "markdown",
      "metadata": {
        "id": "view-in-github",
        "colab_type": "text"
      },
      "source": [
        "<a href=\"https://colab.research.google.com/github/fblondiaux/LGBIO2072-2020/blob/update/LGBIO2072_chapitre1.ipynb\" target=\"_parent\"><img src=\"https://colab.research.google.com/assets/colab-badge.svg\" alt=\"Open In Colab\"/></a>"
      ]
    },
    {
      "cell_type": "markdown",
      "metadata": {
        "id": "3dfPteL6r_fC",
        "colab_type": "text"
      },
      "source": [
        "# Leaky Integrate and Fire (LIF) Tutorial\n",
        "__Authors:__ Antoine de Comite and Florence Blondiaux\n",
        "\n",
        "__Content inspired from__: Neuromatch Academy github.com/NeuromatchAcademy\n",
        "\n",
        "Please run the cells below to initialize the notebook."
      ]
    },
    {
      "cell_type": "code",
      "metadata": {
        "id": "4bYIj4tBr_fL",
        "colab_type": "code",
        "colab": {}
      },
      "source": [
        "#Useful libraries\n",
        "import numpy as np\n",
        "import matplotlib.pyplot as plt\n",
        "\n"
      ],
      "execution_count": null,
      "outputs": []
    },
    {
      "cell_type": "code",
      "metadata": {
        "id": "pJwr1fQ8r_fa",
        "colab_type": "code",
        "colab": {}
      },
      "source": [
        "# @title Figure Settings\n",
        "import ipywidgets as widgets  # interactive display\n",
        "%config InlineBackend.figure_format = 'retina'\n",
        "# use NMA plot style\n",
        "plt.style.use(\"https://raw.githubusercontent.com/NeuromatchAcademy/course-content/master/nma.mplstyle\")\n",
        "my_layout = widgets.Layout()"
      ],
      "execution_count": null,
      "outputs": []
    },
    {
      "cell_type": "markdown",
      "metadata": {
        "id": "YdjGjCOIr_fF",
        "colab_type": "text"
      },
      "source": [
        "---\n",
        "## Tutorial Objectives\n",
        " In this tutorial, we will build up a leaky integrate-and-fire (LIF) neuron model and study its dynamics in response to various types of inputs. In particular, we are going to write a few lines of code to:  \n",
        "\n",
        "- simulate the LIF neuron model\n",
        "\n",
        "- drive the LIF neuron with external inputs, such as direct currents, Gaussian white noise, sinusoidal currents, ...\n",
        "- study how different inputs affect the  LIF neuron's output (firing rate and spike time irregularity)\n",
        "\n",
        "Here, we will especially emphasize identifying conditions (input statistics) under which a neuron can spike at low firing rates and in an irregular manner. The reason for focusing on this is that in most cases, neocortical neurons spike in an irregular manner."
      ]
    },
    {
      "cell_type": "markdown",
      "metadata": {
        "id": "hX_rGdJsr_fH",
        "colab_type": "text"
      },
      "source": [
        "---\n",
        "## Reminder\n",
        "\n",
        "A *membrane equation* and a *reset condition* define our *leaky-integrate-and-fire (LIF)* neuron:\n",
        "\n",
        "\n",
        "\\begin{equation*}\n",
        "\\tau_m \\frac{du}{dt} = -\\left(u(t)-u_{rest}\\right) +RI(t)  \\;\\;\\; if \\; u(t)\\leq \\theta\n",
        "\\end{equation*}\n",
        "\\begin{equation*}\n",
        "u(t) = u_{reset}  \\;\\;\\;\\;\\;\\;\\;\\;\\;  otherwise\n",
        "\\end{equation*}\n",
        "\n",
        "\n",
        "The membrane equation is an *ordinary differential equation (ODE)* that describes the time evolution of membrane potential $u(t)$ in response to synaptic input and leaking of change across the cell membrane. To find an approximation of the solution of this ODE, you can use explicit Euler integration over one time step.\n",
        "Euler integration :\n",
        "\\begin{equation*}\n",
        "\\frac{dX(t)}{dt} \\simeq \\frac{X(t+\\Delta t) - X(t)}{\\Delta t}\n",
        "\\end{equation*}"
      ]
    },
    {
      "cell_type": "markdown",
      "metadata": {
        "id": "yzgkkTUcr_fn",
        "colab_type": "text"
      },
      "source": [
        "## Synaptic input\n",
        "\n",
        "![synaptic input](https://github.com/mpbrigham/colaboratory-figures/raw/master/nma/python-for-nma/synaptic_input.png)\n",
        "\n",
        "We start with a sinusoidal model to simulate the synaptic input $I(t)$ given by:\n",
        "\\begin{align*}\n",
        "\\\\\n",
        "I(t)=I_{mean}\\left(1+\\sin\\left(\\frac{2 \\pi}{0.01}\\,t\\right)\\right)\\\\\n",
        "\\\\\n",
        "\\end{align*}\n",
        "\n",
        "### Exercice 1\n",
        "Compute the values of synaptic input $I(t)$ "
      ]
    },
    {
      "cell_type": "code",
      "metadata": {
        "id": "2Rwr4Q9Ar_fp",
        "colab_type": "code",
        "colab": {}
      },
      "source": [
        "def syn_in(t, imean = 25e-11):\n",
        "    \"\"\"\n",
        "    Function that produces sinusoidal input\n",
        "\n",
        "    Args:\n",
        "      t          : Vector of discretized time points (numpy array)\n",
        "      imean      : current mean amplitude [A] (integer)\n",
        "\n",
        "    Returns:\n",
        "      sin_i       : Sinusoidal input current (numpy array)\n",
        "    \"\"\"\n",
        "    ########################\n",
        "    #### Your code here ####\n",
        "    ########################\n",
        "    return sin_i\n",
        "\n",
        "t_max = 150e-3   # second\n",
        "dt = .1e-3        # second\n",
        "t_range = ... #Fill here\n",
        "\n",
        "#Plot here\n"
      ],
      "execution_count": null,
      "outputs": []
    },
    {
      "cell_type": "markdown",
      "metadata": {
        "id": "cJkjDKGJqKYK",
        "colab_type": "text"
      },
      "source": [
        "Click [here](https://github.com/fblondiaux/LGBIO2072-2020/blob/master/Solutions/TP1-Ex1.py) for solution."
      ]
    },
    {
      "cell_type": "markdown",
      "metadata": {
        "id": "VnQi9EGyr_fz",
        "colab_type": "text"
      },
      "source": [
        "---\n",
        "## ODE integration without spikes\n",
        "In the next exercise, we now simulate the evolution of the membrane equation in discrete time steps, with a sufficiently small $\\Delta t$.\n",
        "\n",
        "**Start by writing an approximation for the time derivative $\\dfrac{d}{dt}\\,u(t)$ in discrete time** using discrete-time integration methods such as Euler method. See [Numerical methods for ordinary differential equations](https://en.wikipedia.org/wiki/Numerical_methods_for_ordinary_differential_equations) for additional details.\n",
        "\n",
        "### Exercice 2 \n",
        "Implement the evolution of the membrane potential in response to an input_current"
      ]
    },
    {
      "cell_type": "code",
      "metadata": {
        "id": "wPLB624zr_f0",
        "colab_type": "code",
        "colab": {}
      },
      "source": [
        "def membranePot(input_current, t, tau= 20e-3 , urest= -60e-3 , r= 100e6):\n",
        "    \"\"\"\n",
        "    Authors : Antoine de Comite and Florence Blondiaux\n",
        "    Simulate the integration of the membrane potential with external input current\n",
        "\n",
        "    Args:\n",
        "      input_current   : Vector containing the input current [A].\n",
        "      t               : Vector containing the discretized time points [s].\n",
        "      tau             : Membrane time constant. Default value: 20e-3 [s]\n",
        "      urest           : Leak potential. Default value: -60e-3 [V]\n",
        "      r               : Leak resistance. Default value: 100e6 [Ohm]\n",
        "    Returns:\n",
        "      u               : membrane potential [V]\n",
        "    \"\"\"\n",
        "    ########################\n",
        "    #### Your code here ####\n",
        "    ########################\n",
        "    return u\n",
        "\n",
        "#Plot your results here"
      ],
      "execution_count": null,
      "outputs": []
    },
    {
      "cell_type": "markdown",
      "metadata": {
        "id": "OKgevsxjpp4f",
        "colab_type": "text"
      },
      "source": [
        "Click [here](https://github.com/fblondiaux/LGBIO2072-2020/blob/master/Solutions/TP1-Ex2.py) for solution.\n",
        "\n",
        "*Example output:*\n",
        "\n",
        "\n",
        "<img alt='Solution hint' align='left' width=413 height=300 src=https://raw.githubusercontent.com/fblondiaux/LGBIO2072-2020/master/Solutions/TP1-Ex2.png>"
      ]
    },
    {
      "cell_type": "markdown",
      "metadata": {
        "id": "dQ1GNvF-r_f_",
        "colab_type": "text"
      },
      "source": [
        "---\n",
        "# Introduce spikes\n",
        "A spike takes place whenever $u(t)$ crosses $\\theta$. In that case, a spike is recorded and $u(t)$ resets to $u_{reset}$ value. This is summarized in the *reset condition*:\n",
        "$$u(t) = u_{reset}\\quad \\text{ if } u(t)\\geq \\theta$$\n",
        "\n",
        "For more information about spikes or action potentials see [here](https://en.wikipedia.org/wiki/Action_potential).\n",
        "\n",
        "\n",
        "![spikes cartoon](https://raw.githubusercontent.com/fblondiaux/LGBIO2072-2020/master/Solutions/spikes_carton.png)\n",
        "\n",
        "### Exercice 3 \n",
        "Add the spiking process to your LIF model"
      ]
    },
    {
      "cell_type": "code",
      "metadata": {
        "id": "AWXY5ag2r_gA",
        "colab_type": "code",
        "colab": {}
      },
      "source": [
        "def simple_LIF(input_current,t,  tau= 20e-3 , urest= -60e-3 , r= 100e6, ureset = -70e-3 \\\n",
        "               ,theta = -50e-3 ):\n",
        "    \"\"\"\n",
        "    Authors : Antoine de Comite and Florence Blondiaux\n",
        "    Simulate the integration of the membrane potential and the generation of spikes\n",
        "    in response to an external input current\n",
        "\n",
        "    Args:\n",
        "      input_current   : Vector containing the input current [A].\n",
        "      t               : Vector containing the discretized time points [s]\n",
        "      tau             : Membrane time constant. Default value: 20e-3 [s]\n",
        "      urest           : Leak potential. Default value: -60e-3 [V]\n",
        "      r               : Leak resistance. Default value: 100e6 [Ohm]\n",
        "      ureset          : Reset potential. Default value: -70e-3[V]\n",
        "      theta           : Firing threashold. Default value: -50e-3 [V]\n",
        "    Returns:\n",
        "      u               : membrane potential [V]\n",
        "      ts              : spike times [s]\n",
        "    \"\"\"\n",
        "    ########################\n",
        "    #### Your code here ####\n",
        "    ########################\n",
        "    return u, ts\n",
        "\n",
        "t_max = 150e-3   # second\n",
        "dt = .1e-3       # second\n",
        "t_range = np.arange(0,t_max,dt)\n",
        "input_current = syn_in(t_range)\n",
        "u ,ts = simple_LIF(input_current, t_range)\n",
        "\n",
        "#plot your results here (use a subplot with the top panel representing the input current and bottom panel representing the membrane potential as well as the spikes)\n"
      ],
      "execution_count": null,
      "outputs": []
    },
    {
      "cell_type": "markdown",
      "metadata": {
        "id": "IiRFUsBH3Wf3",
        "colab_type": "text"
      },
      "source": [
        "Click [here](https://github.com/fblondiaux/LGBIO2072-2020/blob/master/Solutions/TP1-Ex3.py) for solution.\n",
        "\n",
        "*Example output:*\n",
        "\n",
        "\n",
        "<img alt='Solution hint' align='left' width=413 height=300 src=https://raw.githubusercontent.com/fblondiaux/LGBIO2072-2020/master/Solutions/TP1-Ex3.png>"
      ]
    },
    {
      "cell_type": "markdown",
      "metadata": {
        "id": "idDCAOtmr_gJ",
        "colab_type": "text"
      },
      "source": [
        "---\n",
        "# Refractory period\n",
        "\n",
        "The absolute refractory period is a time interval in the order of a few milliseconds during which synaptic input will not lead to a 2nd spike, no matter how strong. This effect is due to the biophysics of the neuron membrane channels, and you can read more about absolute and relative refractory period [here](https://content.byui.edu/file/a236934c-3c60-4fe9-90aa-d343b3e3a640/1/module5/readings/refractory_periods.html) and [here](https://en.wikipedia.org/wiki/Refractory_period_(physiology)).\n",
        "\n",
        "![refractory period plot](https://github.com/mpbrigham/colaboratory-figures/raw/master/nma/python-for-nma/refractory_period.png)\n",
        "\n",
        "### Exercise 4 \n",
        "Add the refractory period to your model"
      ]
    },
    {
      "cell_type": "code",
      "metadata": {
        "id": "njc8BtKIr_gK",
        "colab_type": "code",
        "colab": {}
      },
      "source": [
        "\n",
        "def LIF(input_current,t,  tau= 20e-3 , urest= -60e-3 , r= 100e6, ureset = -70e-3 \\\n",
        "               ,theta = -50e-3, t_ref = 10e-3 ): \n",
        "    \"\"\"\n",
        "    Authors : Antoine de Comite and Florence Blondiaux\n",
        "    Simulate the LIF model in response to an external input current\n",
        "\n",
        "    Args:\n",
        "      input_current   : Vector containing the input current [A].\n",
        "      t               : Vector containing the discretized time points [s]\n",
        "      tau             : Membrane time constant. Default value: 20e-3 [s]\n",
        "      urest           : Leak potential. Default value: -60e-3 [V]\n",
        "      r               : Leak resistance. Default value: 100e6 [Ohm]\n",
        "      ureset          : Reset potential. Default value: -70e-3[V]\n",
        "      theta           : Firing threashold. Default value: -50e-3 [V]\n",
        "      t_ref           : Refractory period. Default value: 10e-3 [S]\n",
        "    Returns:\n",
        "      u               : membrane potential [V]\n",
        "      ts              : spike times [s]\n",
        "    \"\"\"\n",
        "    ########################\n",
        "    #### Your code here ####\n",
        "    ########################\n",
        "    return u, ts\n",
        "\n",
        "t_max = 150e-3   # second\n",
        "dt = .1e-3        # second\n",
        "t_range = np.arange(0,t_max,dt)\n",
        "input_current = syn_in(t_range)\n",
        "u,ts = LIF(input_current, t_range)\n",
        "\n",
        "#plot here"
      ],
      "execution_count": null,
      "outputs": []
    },
    {
      "cell_type": "markdown",
      "metadata": {
        "id": "nQ8Mv5MW41T1",
        "colab_type": "text"
      },
      "source": [
        "Click [here](https://github.com/fblondiaux/LGBIO2072-2020/blob/master/Solutions/TP1-Ex4.py) for solution.\n",
        "\n",
        "*Example output:*\n",
        "\n",
        "\n",
        "<img alt='Solution hint' align='left' width=413 height=300 src=https://raw.githubusercontent.com/fblondiaux/LGBIO2072-2020/master/Solutions/TP1-Ex4.png>"
      ]
    },
    {
      "cell_type": "markdown",
      "metadata": {
        "id": "6Mjkfp26r_gQ",
        "colab_type": "text"
      },
      "source": [
        "### Exercice 5\n",
        "Explore different values for LIF parameters. *tref* is expressed in [ms], *R* in [MOhm], *tau_m* in [ms] and *theta_th* in [mV]."
      ]
    },
    {
      "cell_type": "code",
      "metadata": {
        "id": "OHRlgNCZr_gR",
        "colab_type": "code",
        "colab": {}
      },
      "source": [
        "my_layout.width = '450px'\n",
        "@widgets.interact(\n",
        "    tref=widgets.FloatSlider(10, min=0, max=30, step=2, layout=my_layout),\n",
        "    R=widgets.FloatSlider(100, min=10, max=200, step=10, layout=my_layout),\n",
        "    tau_m = widgets.FloatSlider(20, min=5, max=40, step=2.5, layout=my_layout),\n",
        "    theta_th = widgets.FloatSlider(-50, min=-55, max=-45, step=1, layout=my_layout)\n",
        ")\n",
        "\n",
        "def diff_tref(tref = 10e-3, R = 100, tau_m= 20, theta_th = -50):\n",
        "    \n",
        "    t_max = 150e-3   # second\n",
        "    dt = .1e-3        # second\n",
        "    t_range = np.arange(0,t_max,dt)\n",
        "    input_current = syn_in(t_range)\n",
        "    u,ts = LIF(input_current, t_range,t_ref = tref*1e-3, r=R*1e6, tau = tau_m *1e-3,theta = theta_th*1e-3 )\n",
        "\n",
        "    fig, axs = plt.subplots(2)\n",
        "    axs[0].plot(t_range,input_current)\n",
        "    axs[0].set(title = \"Input current\", ylabel = \"I [A]\")\n",
        "    axs[1].plot(t_range,u)\n",
        "    axs[1].plot(ts,np.ones(len(ts))*-40e-3,'r.',markersize=12)\n",
        "    axs[1].set(title = \"Membrane potential\", ylabel = \"u [V]\", xlabel= \"Time [S]\")\n",
        "    plt.show()"
      ],
      "execution_count": null,
      "outputs": []
    },
    {
      "cell_type": "markdown",
      "metadata": {
        "id": "Qs7OSZDdr_gX",
        "colab_type": "text"
      },
      "source": [
        "---\n",
        "## Random synaptic input\n",
        "From the perspective of neurons, synaptic input is random (or stochastic). We'll improve the synaptic input model by introducing random input current with statistical properties similar to the previous exercise:\n",
        "\n",
        "\\begin{align*}\n",
        "\\\\\n",
        "I(t)=I_{mean}\\left(1+0.1\\sqrt{\\frac{t_{max}}{\\Delta t}}\\,\\xi(t)\\right)\\qquad\\text{with }\\xi(t)\\sim \\mathcal{N}(0,\\sigma)\\\\\n",
        "\\\\\n",
        "\\end{align*}\n",
        "\n",
        "where $\\mathcal{N}(0,\\sigma)$ is the [gaussian distribution](https://en.wikipedia.org/wiki/Normal_distribution).\n",
        "\n",
        "Random synaptic input $I(t)$ results in random time course for $u(t)$."
      ]
    },
    {
      "cell_type": "markdown",
      "metadata": {
        "id": "DugJys0Rr_gY",
        "colab_type": "text"
      },
      "source": [
        "### Exercise 6\n",
        "Implement a function that generates the input current given above\n"
      ]
    },
    {
      "cell_type": "code",
      "metadata": {
        "id": "5ELv8qv8r_ga",
        "colab_type": "code",
        "colab": {}
      },
      "source": [
        "def rand_syn(t,sigma = 0.1, imean = 25e-11):\n",
        "    \"\"\"\n",
        "    Function that produces random input current\n",
        "\n",
        "    Args:\n",
        "      t          : vector of discretized time points \n",
        "      imean      : current mean amplitude [A]\n",
        "      sigma      : variance of the random input current\n",
        "\n",
        "    Returns:\n",
        "      sin_i       : Sinusoidal input current\n",
        "    \"\"\"\n",
        "    ########################\n",
        "    #### Your code here ####\n",
        "    ########################\n",
        "    return rand_i\n",
        "\n",
        "#Plot your results\n",
        "    "
      ],
      "execution_count": null,
      "outputs": []
    },
    {
      "cell_type": "markdown",
      "metadata": {
        "id": "HzKwM4Qa9dTu",
        "colab_type": "text"
      },
      "source": [
        "Click [here](https://github.com/fblondiaux/LGBIO2072-2020/blob/master/Solutions/TP1-Ex6.py) for solution.\n",
        "\n",
        "*Example output:*\n",
        "\n",
        "\n",
        "<img alt='Solution hint' align='left' width=413 height=300 src=https://raw.githubusercontent.com/fblondiaux/LGBIO2072-2020/master/Solutions/TP1-Ex6.png>"
      ]
    },
    {
      "cell_type": "markdown",
      "metadata": {
        "id": "FR3ChJGhr_gg",
        "colab_type": "text"
      },
      "source": [
        "Once you have implemented the random input current, explore the effect different values of sigma have on the membrane potential"
      ]
    },
    {
      "cell_type": "code",
      "metadata": {
        "id": "-0U8W2Mtr_gh",
        "colab_type": "code",
        "colab": {}
      },
      "source": [
        "# @title\n",
        "# @markdown Make sure you execute this cell to enable the widget!\n",
        "my_layout.width = '450px'\n",
        "@widgets.interact(\n",
        "    sigma=widgets.FloatSlider(0.8, min=0, max=5, step=0.2, layout=my_layout)\n",
        "\n",
        ")\n",
        "\n",
        "def diff_DC(sigma = 0.1):\n",
        "    t_max = 150e-3   # second\n",
        "    dt = 1e-3        # second\n",
        "    t_range = np.arange(0,t_max,dt)\n",
        "    input_current = rand_syn(t_range, sigma)\n",
        "    u,ts, S = LIF(input_current, t_range)\n",
        "    \n",
        "    fig, axs = plt.subplots(2)\n",
        "    axs[0].plot(t_range,input_current)\n",
        "    axs[0].set(title = \"Input current\", ylabel = \"I [A]\")\n",
        "    axs[1].plot(t_range,u)\n",
        "    axs[1].plot(ts,np.ones(len(ts))*-40e-3,'r.',markersize=12)\n",
        "    axs[1].set(title = \"Membrane potential\", ylabel = \"u [V]\", xlabel= \"Time [S]\")\n",
        "    plt.show()"
      ],
      "execution_count": null,
      "outputs": []
    },
    {
      "cell_type": "markdown",
      "metadata": {
        "id": "IfjFKaour_hP",
        "colab_type": "text"
      },
      "source": [
        "## Orenstein-Uhlenbeck Process\n",
        "\n",
        "When a neuron receives spiking input, the synaptic current is Shot Noise -- which is a kind of colored noise and the spectrum of the noise determined by the synaptic kernel time constant. That is, a neuron is driven by **colored noise** and not GWN.\n",
        "\n",
        "We can model colored noise using the Ohrenstein-Uhlenbeck process - filtered white noise. "
      ]
    },
    {
      "cell_type": "markdown",
      "metadata": {
        "id": "C9tfhj4Ir_hP",
        "colab_type": "text"
      },
      "source": [
        "## Ornstein-Uhlenbeck (OU) current\n",
        "\n",
        "Exercice 7: We next study if the input current is temporally correlated and is modeled as an Ornstein-Uhlenbeck process $\\eta(t)$, i.e., low-pass filtered GWN with a time constant $\\tau_{\\eta}$: \n",
        "\n",
        "$$\\tau_\\eta \\frac{d}{dt}\\eta(t) = \\mu-\\eta(t) + \\sigma_\\eta\\sqrt{2\\tau_\\eta}\\xi(t).$$\n",
        "\n",
        "**Hint:** An OU process as defined above has\n",
        "\n",
        "$$E[\\eta(t)]=\\mu$$ \n",
        "\n",
        "and autocovariance \n",
        "\n",
        "$$[\\eta(t)\\eta(t+\\tau)]=\\sigma_\\eta^2e^{-|t-\\tau|/\\tau_\\eta},$$\n",
        "\n",
        "which can be used to check your code. "
      ]
    },
    {
      "cell_type": "code",
      "metadata": {
        "id": "7dafqzTFr_hS",
        "colab_type": "code",
        "colab": {}
      },
      "source": [
        "def my_OU(range_t, tau_ou, mu, sig, myseed=2072):\n",
        "    \"\"\"\n",
        "    Function that produces Ornstein-Uhlenbeck input\n",
        "    Args:\n",
        "        tau_ou     : time constant [s]\n",
        "        mu         : mean noise [A]\n",
        "        sig        : noise amplitude [A]\n",
        "        myseed     : random seed. int or boolean\n",
        "\n",
        "    Returns:\n",
        "        I_ou       : Ornstein-Uhlenbeck input current [A]\n",
        "    \"\"\"\n",
        "    # set random seed\n",
        "    if myseed:\n",
        "      np.random.seed(seed=myseed)\n",
        "    else:\n",
        "      np.random.seed()\n",
        "    \n",
        "    ########################\n",
        "    #### Your code here ####\n",
        "    ########################\n",
        "    return I_ou\n",
        "\n",
        "#Plot your current here\n"
      ],
      "execution_count": null,
      "outputs": []
    },
    {
      "cell_type": "markdown",
      "metadata": {
        "id": "6dzJwrR6EPPf",
        "colab_type": "text"
      },
      "source": [
        "Click [here](https://github.com/fblondiaux/LGBIO2072-2020/blob/master/Solutions/TP1-Ex7.py) for solution.\n",
        "\n",
        "*Example output:*\n",
        "\n",
        "\n",
        "<img alt='Solution hint' align='left' width=413 height=300 src=https://raw.githubusercontent.com/fblondiaux/LGBIO2072-2020/master/Solutions/TP1-Ex7.png>"
      ]
    },
    {
      "cell_type": "markdown",
      "metadata": {
        "id": "jMB1Yu2Ur_hW",
        "colab_type": "text"
      },
      "source": [
        "### Interactive Demo: LIF Explorer with OU input\n",
        "In the following, we will check how a neuron responds to a noisy current that follows the statistics of an OU process. *tau_ou* is expressed in [ms] and *mu_ou* and *sigma_ou* in [pA] "
      ]
    },
    {
      "cell_type": "code",
      "metadata": {
        "id": "S_rENXkRr_hX",
        "colab_type": "code",
        "colab": {}
      },
      "source": [
        "my_layout.width = '450px'\n",
        "@widgets.interact(\n",
        "    tau_ou=widgets.FloatSlider(20.0, min=15, max=25,\n",
        "                             step=2.5, layout=my_layout), \n",
        "    mu_ou=widgets.FloatSlider(100, min=70, max=170, step=10, layout=my_layout),\n",
        "    sig_ou=widgets.FloatSlider(20, min=0, max=150,\n",
        "                             step=10, layout=my_layout)\n",
        "\n",
        ")\n",
        "\n",
        "\n",
        "def LIF_with_OU(tau_ou=10 , mu_ou=25e-11, sig_ou=10e-11):\n",
        "    t_max = 1000e-3   # second\n",
        "    dt = .1e-3        # second\n",
        "    t_range = np.arange(0,t_max,dt)\n",
        "\n",
        "    I_ou = my_OU(t_range,tau_ou*1e-3,mu_ou * 1e-12, sig_ou*1e-12)\n",
        "    u,stime = LIF(I_ou,t_range)\n",
        "\n",
        "    plt.figure(figsize=(12, 4))\n",
        "    plt.subplot(121)\n",
        "    plt.plot(t_range, I_ou, 'b', lw=1.0)\n",
        "    plt.xlabel('Time (ms)')\n",
        "    plt.ylabel(r'$I_{\\mathrm{OU}}$')\n",
        "    plt.subplot(122)\n",
        "    plt.plot(t_range, u)\n",
        "    plt.xlabel('Time (s)')\n",
        "    plt.ylabel('u (V)')\n",
        "    plt.tight_layout()\n",
        "    plt.show()"
      ],
      "execution_count": null,
      "outputs": []
    }
  ]
}