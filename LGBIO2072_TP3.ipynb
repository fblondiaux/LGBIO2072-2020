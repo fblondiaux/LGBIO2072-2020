{
  "nbformat": 4,
  "nbformat_minor": 0,
  "metadata": {
    "kernelspec": {
      "display_name": "Python 3",
      "language": "python",
      "name": "python3"
    },
    "language_info": {
      "codemirror_mode": {
        "name": "ipython",
        "version": 3
      },
      "file_extension": ".py",
      "mimetype": "text/x-python",
      "name": "python",
      "nbconvert_exporter": "python",
      "pygments_lexer": "ipython3",
      "version": "3.8.3"
    },
    "colab": {
      "name": "LGBIO2072-TP3.ipynb",
      "provenance": [],
      "collapsed_sections": [],
      "include_colab_link": true
    }
  },
  "cells": [
    {
      "cell_type": "markdown",
      "metadata": {
        "id": "view-in-github",
        "colab_type": "text"
      },
      "source": [
        "<a href=\"https://colab.research.google.com/github/fblondiaux/LGBIO2072-2020/blob/TP3-Draft/LGBIO2072_TP3.ipynb\" target=\"_parent\"><img src=\"https://colab.research.google.com/assets/colab-badge.svg\" alt=\"Open In Colab\"/></a>"
      ]
    },
    {
      "cell_type": "markdown",
      "metadata": {
        "id": "uGmMBRwg7OQH"
      },
      "source": [
        "# LGBIO2072 - Mathematical models in Neuroscience\n",
        "# Chapter 3 - Dynamical networks and decision making \n",
        "\n",
        "**Teaching assistants** : Florence Blondiaux & Antoine de Comite\n",
        "\n",
        "\n",
        "**Professor** : Frederic Crevecoeur\n",
        "\n"
      ]
    },
    {
      "cell_type": "markdown",
      "metadata": {
        "id": "5ybMNhpVLzEL"
      },
      "source": [
        "**Imports and graph settings**"
      ]
    },
    {
      "cell_type": "code",
      "metadata": {
        "id": "YrXc6uYm67xv"
      },
      "source": [
        "import numpy as np\n",
        "import matplotlib.pyplot as plt"
      ],
      "execution_count": null,
      "outputs": []
    },
    {
      "cell_type": "code",
      "metadata": {
        "id": "0DQ3BwHRhdHD",
        "cellView": "form"
      },
      "source": [
        "# @title Figure Settings\n",
        "import ipywidgets as widgets  # interactive display\n",
        "%config InlineBackend.figure_format = 'retina'\n",
        "# use NMA plot style\n",
        "plt.style.use(\"https://raw.githubusercontent.com/NeuromatchAcademy/course-content/master/nma.mplstyle\")\n",
        "my_layout = widgets.Layout()"
      ],
      "execution_count": null,
      "outputs": []
    },
    {
      "cell_type": "markdown",
      "metadata": {
        "id": "VQog-ZZ3-tcL"
      },
      "source": [
        "## Introduction\n",
        "\n",
        "In the previous sessions, we saw that the communication between neurons is performed through the temporal pattern of the spiking train they transfer to their neighbours. However, when humans or animals perform a complex task such as choosing between a chocolate or a vanilla ice cream, more than one neuron is involved. In this session, we will study a model of neuronal population dynamics represented by a system of differential equations.\n",
        "\n",
        "At the end of this session you should be able to\n",
        "\n",
        "* Explain with your own words the different terms in the system of equations\n",
        "\n",
        "* Explain the notion of activation function\n",
        "\n",
        "* Model and understand the population' dynamics for the two excitatory populations\n",
        "\n",
        "* Investigate the fixed points\n",
        "\n",
        "* Model and understand the winner takes all model\n",
        "\n",
        "\n",
        "## Competition through common inhibition\n",
        "\n",
        "In this first section, we will consider a system characterised by two different populations, left and right, that can decide for different outcome of a binary decision. These two populations are inhibited by an inhibitory population (the lower population on the figure).\n",
        "\n",
        "The dynamic of the three populations present in this system can be described by equations 1 to 3.\n",
        "\\begin{eqnarray}\n",
        "& & \\\\\n",
        "\\tau _E \\frac{dh_{E,1}}{dt} & = & -h_{E,1} + w_{EE}g_E(h_{E,1}) +  w_{EI}g_{inh}(h_{inh}) + RI_1 \\tag{1}\\\\\n",
        "\\tau _E \\frac{dh_{E,2}}{dt} & = & -h_{E,2} + w_{EE}g_E(h_{E,2}) +  w_{EI}g_{inh}(h_{inh}) + RI_2 \\tag{2} \\\\\n",
        "\\tau _{inh} \\frac{dh_{inh}}{dt} & = & -h_{inh} + w_{IE}g_E(h_{E,1}) +  w_{IE}g_{E}(h_{E,2}) \\tag{3}\\\\\n",
        "& &\n",
        "\\end{eqnarray}\n",
        "The first two equations represent the two excitatory populations $h_{E,1}$ and $h_{E_2}$ while the parameters $\\tau_E$ and $\\tau_{inh}$ are the time constants for the excitatory and inhibitory processes respectively. The terms $h_{E,1}$, $h_{E,2}$ and $h_{inh}$ are proxies of the different populations' activity (respectively the two excitatory populations and the inhibitory one). The parameters $w_{EE}$, $w_{EI}$ and $w_{IE}$ are factors that characterise the strength of the excitatory and inhibitory interactions. You can observe that the different population activities are passed as an argument of functions $g_E$ and $g_{inh}$. These functions are called activation functions, we will investigate them later on. \n",
        "\n",
        "This model can be simplified into a 2-dimensional model that does not involve the inhibitory population anymore (see book for detailed developments **or you can try to do it yourself as a bonus**).\n",
        "\n",
        "\\begin{eqnarray}\n",
        "& &\\\\\n",
        "\\tau _E \\frac{dh_{E,1}}{dt} & = &  -h_{E,1} + (w_{EE}-\\alpha)g_E(h_{E,1}) - \\alpha g_E(h_{E,2}) + RI_1 \\tag{4}\\\\\n",
        "\\tau _E \\frac{dh_{E,2}}{dt} & =&  -h_{E,2} + (w_{EE}-\\alpha)g_E(h_{E,2}) - \\alpha g_E(h_{E,1}) + RI_2 \\tag{5}\\\\\n",
        "& & \n",
        "\\end{eqnarray}\n",
        "\n",
        "with $\\alpha = - \\gamma w_{EI} w_{IE}$ where $\\gamma$ is the slope of the gain function of the inhibitory neurons (see the definition of activation functions). And with the activation function :  $1 + tanh(h-\\theta) * Amax / 2$ (see [book](https://neuronaldynamics.epfl.ch/online/Ch16.S3.html) for more details).\n",
        "\n",
        "<img alt='Solution hint' align='center' width=413 height=300 src=https://neuronaldynamics.epfl.ch/online/x519.png>\n",
        "\n"
      ]
    },
    {
      "cell_type": "markdown",
      "metadata": {
        "id": "c7QPAtIeQ3x3"
      },
      "source": [
        "##Implementation the activation function\n",
        "\n",
        "In the differential equations systems we saw above, we defined an activation function that was applied to the population's activity. In this first exercice, you will be implementing this activation function and investigating how its parameters influence its shape. \n",
        "\n",
        "\n",
        "**Exercise 1**\n",
        "\n",
        "Implement the activation whose definition is given above by filling the following blanks in the code."
      ]
    },
    {
      "cell_type": "code",
      "metadata": {
        "id": "8xgraM_cRtnN"
      },
      "source": [
        "def geval(hi,theta=1,Amax=1):\n",
        "  \"\"\"\n",
        "  Computes the values of the activations functions for all neuronal population given their respective activity\n",
        "\n",
        "  Inputs : \n",
        "    hi is a vector containing the neural activity of the populations\n",
        "    theta is the threshold parameter\n",
        "    Amax is the gain parameter \n",
        "\n",
        "  Outputs : \n",
        "    feval is the value of the activation functions\n",
        "  \"\"\"\n",
        "\n",
        "  ######################\n",
        "  ### your code here ###\n",
        "  ######################\n",
        "\n",
        "  return feval\n",
        "\n",
        "\n",
        "#Run the lines below to test your code \n",
        "\n",
        "hi_input = np.arange(-5,5,0.05)\n",
        "feval = geval(hi_input)\n",
        "\n",
        "fig, ax = plt.subplots()\n",
        "ax.plot(hi_input,feval,color='red',linewidth=2)\n",
        "ax.set_xlabel(\"Input population activity\")\n",
        "ax.set_ylabel(\"Activation function value\")\n",
        "plt.show()"
      ],
      "execution_count": null,
      "outputs": []
    },
    {
      "cell_type": "markdown",
      "metadata": {
        "id": "FNdT1FJXejdi"
      },
      "source": [
        "**Use the widget below to investigate the effect of the gain and threshold on this activation function**"
      ]
    },
    {
      "cell_type": "code",
      "metadata": {
        "id": "ozbZJ7iPfBXN",
        "cellView": "form"
      },
      "source": [
        "# @title Run this cell to execute the widget\n",
        "my_layout.width=\"450pt\"\n",
        "@widgets.interact(\n",
        "    theta=widgets.FloatSlider(0,min=-4,max=4,step=0.2,layout=my_layout),\n",
        "    Amax=widgets.FloatSlider(2.5,min=0,max=5,step=0.25,layout=my_layout),\n",
        ")\n",
        "\n",
        "def investigate_acti(theta=0,Amax=2.5):\n",
        "  h_span = np.arange(-5,5,0.05)\n",
        "  feval = geval(h_span,theta,Amax)\n",
        "\n",
        "  fig,ax = plt.subplots()\n",
        "  ax.plot(h_span,feval,color=\"red\",linewidth=2)\n",
        "  ax.set_xlabel(\"Input population activity\")\n",
        "  ax.set_ylabel(\"Activation function\")\n"
      ],
      "execution_count": null,
      "outputs": []
    },
    {
      "cell_type": "markdown",
      "metadata": {
        "id": "BHq448H1jzjx"
      },
      "source": [
        "**Questions**\n",
        "\n",
        "* Why do you think we need to use this activation function? \n",
        "\n",
        "* What are the roles of the threshold and amplitude parameters (mathematically & physiologically)"
      ]
    },
    {
      "cell_type": "markdown",
      "metadata": {
        "id": "6x0cJ4wHIqc-"
      },
      "source": [
        "## Modelling of the system\n",
        "Now that we understand all the terms of the equations, it is time to model their evolution. To do so, we need to discretize the system and to get rid of the differential equations. You can use [Euler methods](https://en.wikipedia.org/wiki/Euler_method) or other numerical integration methods to get rid of them.\n",
        "\n",
        "**Exercise 2**\n",
        "\n",
        "Once you obtain your discretized system, use the following parameters to implement its evolution.\n",
        "\n",
        " \n",
        "| Parameter | Value |\n",
        "|-----------|-------|\n",
        "| $\\alpha$  | 1     |\n",
        "| $w_{EE}$  | 1.5   |\n",
        "| $RI_1$    | 0.8   |\n",
        "| $RI_2$    | 0.75  |"
      ]
    },
    {
      "cell_type": "code",
      "metadata": {
        "id": "N8xryGhX7OQY"
      },
      "source": [
        "def simulatePopEv(RI, h0,pars):\n",
        "    \"\"\"\n",
        "    This function models the temporal evolution of the system characterized by two excitatory populations inhibited by the same inhibiting population\n",
        "\n",
        "    Inputs : \n",
        "    -RI (numpy array) contains the time-evolution of the input currents (each row contains an input current)\n",
        "    -h0 (numpy array) contains the initial values of the populations' activities\n",
        "    -pars is a dictionnary that contains the following task parameters\n",
        "      sim_time : the simulation time\n",
        "      dt : the time step\n",
        "      tau : the system's time constant\n",
        "      wee : the self-excitatory parameter\n",
        "      alpha : the inhibition parameter\n",
        "\n",
        "    Outputs :\n",
        "    -h (numpy array) contains the time evolution of the two populations' activities\n",
        "\n",
        "    \"\"\"\n",
        "    sim_time = pars['sim_time']\n",
        "    dt = pars['dt']\n",
        "    tau = pars['tau']\n",
        "    wee = pars['wee']\n",
        "    alpha = pars['alpha']\n",
        "\n",
        "    ######################\n",
        "    ### your code here ###\n",
        "    ######################\n",
        "    \n",
        "\n",
        "    return h\n",
        "\n",
        "#Run the lines below to test your code \n",
        "\n",
        "pars = {'sim_time':500,'dt':1e-3,'tau':10e-3,'wee':1.5,'alpha':1}\n",
        "RI = np.vstack((0.8*np.ones(pars['sim_time']),0.75*np.ones(500)))\n",
        "h0 = np.zeros(2)\n",
        "h = simulatePopEv(RI,h0,pars)\n",
        "\n",
        "fig, ax = plt.subplots()\n",
        "ax.plot(h[0,:],label='Population 1',linewidth=2)\n",
        "ax.plot(h[1,:],label='Population 2',linewidth=2)\n",
        "ax.set_xlabel('Time [ms]')\n",
        "ax.set_ylabel('Population activities [a.u.]')\n",
        "plt.legend()\n",
        "plt.show()"
      ],
      "execution_count": null,
      "outputs": []
    },
    {
      "cell_type": "markdown",
      "metadata": {
        "id": "S9dFXN-ktl3E"
      },
      "source": [
        "**Answer the following questions before going further**\n",
        "\n",
        "* What does that graph represent? What are the two lines you observe?\n",
        "\n",
        "* Why is there a plateau after some time? What does it physiologically correspond to? \n",
        "\n",
        "* How could you change the 'speed' at which this plateau is reached?\n"
      ]
    },
    {
      "cell_type": "markdown",
      "metadata": {
        "id": "paFyirGMuFBC"
      },
      "source": [
        "##Phase plane analysis\n",
        "\n",
        "Some better tools are available for the representation of the time-evolution of the population dynamics. One of these is the so-called *phase plane analysis*. In this representation, the dynamics of the system is represented using vector fields and trajectories. \n",
        "\n",
        "Go through the function below to understand what the phase plane analysis is and what it does represent. There are some questions after the code cell to verify that you understood properly."
      ]
    },
    {
      "cell_type": "code",
      "metadata": {
        "id": "SSqSNLfXREyB"
      },
      "source": [
        "def PhasePlaneAnalysis(RI,h0init,pars):\n",
        "    \"\"\"\n",
        "    Authors : Antoine de Comite and Florence Blondiaux\n",
        "    PhasePlaneAnalysis is a function that allows to perform phase plane\n",
        "    analysis\n",
        "      The aim of this function is to investigate the stability of the model\n",
        "      of the three populations in decision making. It has no outputs but\n",
        "      represents a graph containing different pieces of information.\n",
        "      ---> A vector field showing the evolution of the ODE system, the\n",
        "      different vectors show toward which direction the solution is moving at any\n",
        "      point of the meshgrid.\n",
        "      ---> The trajectories of the solutions you've selected (starting from\n",
        "      circle toward square)\n",
        "\n",
        "    INPUTS :\n",
        "    -RI (numpy array) contains the value of the input evidences for choice 1 and 2 rowwise\n",
        "    -h0_init (numpy_array) contains the candidates for the initial position of the trajectories\n",
        "\n",
        "    OUTPUTS :\n",
        "    - No outputs\n",
        "    \n",
        "    What can be modified without too much damages in this code?\n",
        "    -The parameters of section 0 if you want to have a global overview of\n",
        "    their influence\n",
        "    - The meshgrid itself (linspaces y1 and y2, but keep the name)\n",
        "    \"\"\"\n",
        "  \n",
        "    #Phase plane analysis implementation\n",
        "\n",
        "    y1= np.linspace(-2.5,2.5,20)\n",
        "    y2 = np.linspace(-2.5,2.5,20)\n",
        "\n",
        "    [x,y] = np.meshgrid(y1,y2)\n",
        "    u= np.zeros_like(x)\n",
        "    v= np.zeros_like(y)\n",
        "    pars['sim_time'] = 2\n",
        "\n",
        "    for i in range(len(x)):\n",
        "        for j in range(len(x)):\n",
        "            Hprime = simulatePopEv(RI[:,:2],[x[i,j],y[i,j]],pars)\n",
        "            u[i,j]= Hprime[0,1]\n",
        "            v[i,j]= Hprime[1,1]\n",
        "    ax = plt.plot()\n",
        "    plt.quiver(x,y,u-x,v-y,units='width') \n",
        "\n",
        "    pars['sim_time'] = 500\n",
        "    for ii in range(h0init.shape[1]):\n",
        "        h = simulatePopEv(RI,h0init[:,ii],pars)\n",
        "        plt.plot(h[0,:],h[1,:],color=\"orange\")\n",
        "        plt.plot(h[0,-1],h[1,-1],color=\"green\",marker='o',markersize=8)\n",
        "    plt.title(\"Phase plane analysis\")\n",
        "    plt.xlabel('h_1')\n",
        "    plt.ylabel('h_2')\n",
        "\n",
        "\n",
        "#These lines call the function above and perform phase plane analysis\n",
        "\n",
        "pars = {'sim_time':500,'dt':1e-3,'tau':10e-3,'wee':1.5,'alpha':1}\n",
        "RI = np.vstack((0.8*np.ones(pars['sim_time']),0.8*np.ones(500)))\n",
        "h0_2 = np.linspace(-2,2,15)\n",
        "h0 = np.vstack((0.5*np.ones(15),h0_2))\n",
        "\n",
        "PhasePlaneAnalysis(RI,h0,pars)\n"
      ],
      "execution_count": null,
      "outputs": []
    },
    {
      "cell_type": "markdown",
      "metadata": {
        "id": "GgiN6p1-zG1n"
      },
      "source": [
        "**Answer the following questions**\n",
        "\n",
        "* What does the vector field represent? \n",
        "\n",
        "* What does the different trajectories correspond to? Could you find a parallel with what you did before?\n",
        "\n",
        "* What does the dot(s) correspond to? "
      ]
    },
    {
      "cell_type": "markdown",
      "metadata": {
        "id": "DAYabjae2ww2"
      },
      "source": [
        "##Finding the stationnary points\n",
        "\n",
        "As you observed in the two preceeding exercises, the system of differential equations stabilises at stationnary points. In exercise 2 and in the phase plane analysis, we determined these fixed points graphically. However, it is possible to determine them analytically. To do so, we have to determine the set of points that nullify the system of differential equations. \n",
        "\n",
        "**Exercise 3a**\n",
        "\n",
        "Find analytically from the first equation, an expression of $h_2(h_1)$ of the sets of points that nullify this equation and from the second equation, the set of points $h_1(h_2)$ that nullify this second equation.\n",
        "\n",
        "\n",
        "**Exercise 3b**\n",
        "\n",
        "Implement the function below to represent the nullclines (=lines where the equations cancel) in the phase plane. "
      ]
    },
    {
      "cell_type": "code",
      "metadata": {
        "id": "w8IhFfv_n_kM"
      },
      "source": [
        "def nullclines2D(h_span, alpha,RI1,RI2,wee):\n",
        "  \"\"\"\n",
        "  This functions computes the nullclines corresponding to the differential equations system\n",
        "\n",
        "  Input : \n",
        "  -h_span is the set of points on which we want to evaluate the nullclines\n",
        "  -alpha and wee are parameters of the equations\n",
        "  -RI (numpy array)\n",
        "  \"\"\"\n",
        "\n",
        "\n",
        "  ######################\n",
        "  ### your code here ###\n",
        "  ######################\n",
        "\n",
        "\n",
        "  return h2_eq1,h1_eq2\n",
        "\n",
        "\n",
        "\n",
        "# Run the lines below to test your code \n",
        "\n",
        "\n",
        "vec1,vec2 = nullclines2D(np.arange(-2,2,0.1),1,0.8,0.75,1.5)\n",
        "fig, ax = plt.subplots()\n",
        "ax.plot(np.arange(-2,2,0.1),vec1,color=\"red\",linewidth=2)\n",
        "ax.plot(vec2,np.arange(-2,2,0.1),color=\"blue\",linewidth=2)\n",
        "ax.set_xlabel('Population 1')\n",
        "ax.set_ylabel('Population 2')\n",
        "ax.set_xlim([-1.5,1.5])\n",
        "ax.set_ylim([-1.5,1.5])\n",
        "plt.show()"
      ],
      "execution_count": null,
      "outputs": []
    },
    {
      "cell_type": "markdown",
      "metadata": {
        "id": "yqnW3v9s-YeH"
      },
      "source": [
        "**Questions**\n",
        "\n",
        "* How would you interpret this graph? What do you observe on it?\n",
        "\n",
        "* Could you make any parallelism with the phase plane analysis? \n",
        "\n",
        "* Is there any limitations to this method? If yes how could you cirucmvent them?"
      ]
    },
    {
      "cell_type": "markdown",
      "metadata": {
        "id": "Wc2Wn1PuqXWv"
      },
      "source": [
        "## Taking a decision with noisy inputs\n",
        "\n",
        "**Exercise 4**\n",
        "\n",
        "Implement a function that generates noisy evidence inputs for the two populations and investigate its effect on the decision making process.\n",
        "\n",
        "\n",
        "**Modify** the parameter `sigma` to change the noise level, what do you observe? \n",
        "\n",
        "\n",
        "*Note* : For this exercise, we modify the tau parameter to highlight the speed-accuracy tradeoff"
      ]
    },
    {
      "cell_type": "code",
      "metadata": {
        "id": "76ifHTRN7OQ1"
      },
      "source": [
        "def noisy_input(mean_intensity,noise_level,length):\n",
        "  \"\"\"\n",
        "  This function creates a noisy input evidence for the two populations model\n",
        "  \n",
        "  Inputs : \n",
        "  -mean_intensity is the mean input current\n",
        "  -noise_level is the variance of the noise on the input current\n",
        "  -length is the time span of the input current\n",
        "\n",
        "  Outputs : \n",
        "  -noisy_input is the resulting noisy input \n",
        "  \"\"\"\n",
        "  ######################\n",
        "  ### your code here ###\n",
        "  ######################\n",
        "  return noisy_input\n",
        "\n",
        "#Run the lines below to test your code and investigate the noise effect on the population dynamics\n",
        "sigma = 0.1\n",
        "pars['sim_time'] = 500\n",
        "pars['tau'] = 100e-3\n",
        "h = simulatePopEv(np.vstack((noisy_input(0.7,sigma,pars['sim_time']),noisy_input(0.69,sigma,pars['sim_time']))),[0,0],pars)\n",
        "\n",
        "fig, ax = plt.subplots()\n",
        "ax.plot(range(pars['sim_time']+1),h[0,:],label='Population 1',color='red',linewidth=2)\n",
        "ax.plot(range(pars['sim_time']+1),h[1,:],label='Population 2',color='blue',linewidth=2)\n",
        "ax.legend()\n",
        "ax.set_xlabel('Time [ms]')\n",
        "ax.set_ylabel('Population activity')"
      ],
      "execution_count": null,
      "outputs": []
    },
    {
      "cell_type": "markdown",
      "metadata": {
        "id": "iDh0807HpC6s"
      },
      "source": [
        "**Questions**\n",
        "\n",
        "* What potential issue could you see with this kind of input evidence?\n",
        "\n",
        "* How could you circumvent these isues?"
      ]
    },
    {
      "cell_type": "markdown",
      "metadata": {
        "id": "AmDMLPkpq4nj"
      },
      "source": [
        "## Speed accuracy tradeoff\n",
        "\n",
        "When you take decision or perform actions, time is one of the main parameter. In decision making and motor control, it is known to induce *speed-accuracy tradeoff*. Speed-accuracy tradeoff tells that if you increase the speed of a movement or decrease the time to take a decision, you will affect the accuracy in a negative manner. In this exercise, we will investigate how this effect affects our two population model.\n",
        "\n",
        "**Exercise 5**\n",
        "\n",
        "Run a few simulations and plot the accuracy in the answers based on the time the subject has to take his decision.\n",
        "\n",
        "What happens if the input is more noisy, or if the input to the two population is not as clear ? "
      ]
    },
    {
      "cell_type": "code",
      "metadata": {
        "id": "CQvdLARPVMVV"
      },
      "source": [
        "def speed_accuracy_tradeoff(RI,h0,time_range,niter):\n",
        "  \"\"\"\n",
        "  This function evaluates the speed accuracy tradeoff for the two populations dynamics\n",
        "\n",
        "  Inputs : \n",
        "  -RI (numpy array) contains the input currents\n",
        "  -h0 initial activity \n",
        "  -time_range is the time range we want to evaluate\n",
        "  -niter is the number of iterations for each time step \n",
        "\n",
        "  Outputs:\n",
        "  -accuracy vector (contains the accuracy for each time)\n",
        "  \"\"\"\n",
        "  ######################\n",
        "  ### your code here ###\n",
        "  ######################\n",
        "  \n",
        "  return accuracy_vector\n",
        "\n",
        "# Run the lines below to test your code \n",
        "pars = {'sim_time':500,'dt':1e-3,'tau':100e-3,'wee':1.5,'alpha':1}\n",
        "sigma=0.1\n",
        "RI = np.vstack((noisy_input(0.7,sigma,pars['sim_time']),(noisy_input(0.69,sigma,pars['sim_time']))))\n",
        "h0 = [0,0]\n",
        "time_range = np.arange(50,pars['sim_time'],10)\n",
        "\n",
        "accuracy_vector = speed_accuracy_tradeoff(RI,h0,time_range,100)\n",
        "\n",
        "fig,ax = plt.subplots()\n",
        "ax.plot(time_range,accuracy_vector)\n"
      ],
      "execution_count": null,
      "outputs": []
    },
    {
      "cell_type": "markdown",
      "metadata": {
        "id": "UxD9TSOpt-ny"
      },
      "source": [
        "# Winner takes all or what happens when we have more than two potential outcomes? \n",
        "\n",
        "The framework we developped above can be extended to model problems where there are more than two different outcomes at the decision process. In this case, every population will get its own input current $RI_i$ and will inhibit all the other populations. We therefore have the following differential equation for each single population\n",
        "\n",
        "\\begin{eqnarray}\n",
        "& & \\\\\n",
        "\\tau \\dfrac{dh_k}{dt} = -h_k + w_0 g\\left(h_k\\right) - \\alpha \\sum_{j\\neq k}g\\left(h_j\\right) + RI_k\n",
        "& & \\\\\n",
        "\\end{eqnarray}\n",
        "\n",
        "**Question**\n",
        "\n",
        "* How would you explain each term of these equations?\n",
        "\n",
        "**Exercise 6**\n",
        "\n",
        "Implement the winner takes all model by filling the function whose definition is given below\n",
        "\n"
      ]
    },
    {
      "cell_type": "code",
      "metadata": {
        "id": "YDBKuN4aUW1y"
      },
      "source": [
        "def simulate_wta(h0,RI,sim_time=500,dt=1e-3,tau=10e-3,we=1,alpha=2):\n",
        "  \"\"\"\n",
        "  This function models the winner takes all mechanism. It models the time-evolution of the different populations activity\n",
        "\n",
        "  Inputs : \n",
        "    h0 is the initial vector of activities \n",
        "    sim_time is the number of time steps we want to simulate\n",
        "    dt is the length of the time step\n",
        "    tau is the time constant of the system (assumed the same for all populations)\n",
        "    we is the self excitatory constant\n",
        "    alpha is the inhibitory constant\n",
        "  Outputs : \n",
        "    h is the time evolution of populations' activity\n",
        "  \"\"\"\n",
        "\n",
        "  ######################\n",
        "  ### your code here ###\n",
        "  ######################\n",
        "\n",
        "  return h\n",
        "\n",
        "\n",
        "#Run the lines below to test your code \n",
        "\n",
        "\n",
        "h0 = [0,0,0.5]\n",
        "RI = [1,0.5,1]\n",
        "h = simulate_wta(h0,RI)\n",
        "\n",
        "fig, ax = plt.subplots()\n",
        "ax.plot(range(501),h[0,:],color=\"red\",label='Population 1')\n",
        "ax.plot(range(501),h[1,:],color=\"blue\",label='Population 2')\n",
        "ax.plot(range(501),h[2,:],color=\"green\",label='Population 3')\n",
        "ax.set_xlabel('Time [ms]')\n",
        "ax.set_ylabel('')\n",
        "plt.legend()\n",
        "plt.show()"
      ],
      "execution_count": null,
      "outputs": []
    },
    {
      "cell_type": "markdown",
      "metadata": {
        "id": "oirBwim-xcOJ"
      },
      "source": [
        "**Questions**\n",
        "\n",
        "Do not hesitate to change the values of the initial activities as well as those of the input current to investigate this process (`h0` and `RI` respectively)"
      ]
    },
    {
      "cell_type": "markdown",
      "metadata": {
        "id": "vaRRyO7FzOAC"
      },
      "source": [
        "##Visualization of the populations' dynamics\n",
        "\n",
        "Run the two cells below to explore 3d representation of the populations' dynamics.\n",
        "\n",
        "The **first** graph represents the vector field, if you want to you can modify the input currents to chagne the shape of the vector field and explore the different potential versions. You can also change the angle of view by modifying the parameters `elev` and `azim` at the second to last line. \n",
        "\n",
        "\n",
        "\n",
        "The **second** graph represents slabs of the first one take respectively along the x-, y- and z-axis. Moving the widget will change the selected slab."
      ]
    },
    {
      "cell_type": "code",
      "metadata": {
        "id": "ae7TSwsNAJHc",
        "cellView": "form"
      },
      "source": [
        "# @title Make sure to execute this cell\n",
        "\n",
        "from mpl_toolkits.mplot3d import Axes3D\n",
        "fig = plt.figure(figsize=(20,10))\n",
        "ax=fig.gca(projection='3d')\n",
        "\n",
        "x,y,z = np.meshgrid(np.arange(-1.5,1.6,0.4),\n",
        "                    np.arange(-1.5,1.6,0.4),\n",
        "                    np.arange(-1.5,1.6,0.4))\n",
        "u = np.zeros_like(x)\n",
        "v = np.zeros_like(y)\n",
        "w = np.zeros_like(z)\n",
        "for ix in range(len(x)):\n",
        "  for iy in range(len(y)):\n",
        "    for iz in range(len(z)):\n",
        "      h=simulate_wta([x[ix,iy,iz],y[ix,iy,iz], z[ix,iy,iz]],[1,0.5,1],sim_time=1)\n",
        "      u[ix,iy,iz] = h[0,-1]\n",
        "      v[ix,iy,iz] = h[1,-1]\n",
        "      w[ix,iy,iz] = h[2,-1]\n",
        "ax.quiver(x,y,z,u-x,v-y,w-z,length=1,normalize=False)\n",
        "ax.set_xlabel('Population 1')\n",
        "ax.set_ylabel('Population 2')\n",
        "ax.set_zlabel('Population 3')\n",
        "\n",
        "\n",
        "pos_init1 = [0,0,0]\n",
        "h = simulate_wta(pos_init1,[1,0.5,1],500)\n",
        "ax.plot(h[0,:],h[1,:],h[2,:],color=\"orange\")\n",
        "ax.scatter(h[0,-1],h[1,-1],h[2,-1],color=\"green\",marker='o')\n",
        "ax.view_init(elev=10., azim=60)\n",
        "plt.show()"
      ],
      "execution_count": null,
      "outputs": []
    },
    {
      "cell_type": "code",
      "metadata": {
        "id": "RSKuMjkhe1Q3",
        "cellView": "form"
      },
      "source": [
        "# @title Widget to show the 2D evolution of the different slabs\n",
        "# (i'm starting to turn crazy)\n",
        "my_layout.width='450px'\n",
        "@widgets.interact(\n",
        "    xslab=widgets.FloatSlider(0,min=-1.5,max=1.5,step=0.1,layout=my_layout),\n",
        "    yslab=widgets.FloatSlider(0,min=-1.5,max=1.5,step=0.1,layout=my_layout),\n",
        "    zslab=widgets.FloatSlider(0,min=-1.5,max=1.5,step=0.1,layout=my_layout)\n",
        ")\n",
        "\n",
        "def slab_rpz(xslab=0,yslab=0,zslab=0):\n",
        "\n",
        "  y_xslab,z_xslab = np.meshgrid(np.arange(-1.5,1.6,0.4),\n",
        "                                np.arange(-1.5,1.6,0.4))\n",
        "  x_yslab,z_yslab = np.meshgrid(np.arange(-1.5,1.6,0.4),\n",
        "                                np.arange(-1.5,1.6,0.4))\n",
        "  x_zslab,y_zslab = np.meshgrid(np.arange(-1.5,1.6,0.4),\n",
        "                                np.arange(-1.5,1.6,0.4))\n",
        "  \n",
        "  v_yz = np.zeros_like(y_xslab)\n",
        "  w_yz = np.zeros_like(z_xslab)\n",
        "\n",
        "  u_xz = np.zeros_like(x_yslab)\n",
        "  w_xz = np.zeros_like(z_yslab)\n",
        "\n",
        "  u_xy = np.zeros_like(x_zslab)\n",
        "  v_xy = np.zeros_like(y_zslab)\n",
        "\n",
        "  for i_row in range(len(y_xslab)):\n",
        "    for i_col in range(len(y_xslab)):\n",
        "      h_yz = simulate_wta([xslab,y_xslab[i_row,i_col],z_xslab[i_row,i_col]],[1,0.5,1],sim_time=1)\n",
        "      h_xz = simulate_wta([x_yslab[i_row,i_col],yslab,z_yslab[i_row,i_col]],[1,0.5,1],sim_time=1)\n",
        "      h_xy = simulate_wta([x_zslab[i_row,i_col],y_zslab[i_row,i_col],zslab],[1,0.5,1],sim_time=1)\n",
        "      v_yz[i_row,i_col] = h_yz[0,-1]\n",
        "      w_yz[i_row,i_col] = h_yz[1,-1]\n",
        "      \n",
        "      u_xz[i_row,i_col] = h_xz[0,-1]\n",
        "      w_xz[i_row,i_col] = h_xz[1,-1]\n",
        "\n",
        "      u_xy[i_row,i_col] = h_xy[0,-1]\n",
        "      v_xy[i_row,i_col] = h_xy[1,-1]\n",
        "  \n",
        "  fig, ax = plt.subplots(1,3)\n",
        "  ax[0].quiver(y_xslab,z_xslab,v_yz-y_xslab,w_yz-z_xslab)\n",
        "\n",
        "  ax[1].quiver(x_yslab,z_yslab,u_xz-x_yslab,w_xz-z_yslab)\n",
        "\n",
        "  ax[2].quiver(x_zslab,y_zslab,u_xy-x_zslab,v_xy-y_zslab)\n",
        "\n",
        "\n",
        "\n"
      ],
      "execution_count": null,
      "outputs": []
    },
    {
      "cell_type": "markdown",
      "metadata": {
        "id": "QUA6vNqy1CsC"
      },
      "source": [
        "##Conclusive questions\n",
        "\n",
        "* What is the link between this third exercise session and the first two ones? \n",
        "* What are the drawbacks of these methods to model decision making? \n",
        "* How could you determine the fixed points (equilibrium points)? Is there a mathematical analysis that could help you? "
      ]
    }
  ]
}