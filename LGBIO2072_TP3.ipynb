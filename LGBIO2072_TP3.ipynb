{
  "nbformat": 4,
  "nbformat_minor": 0,
  "metadata": {
    "kernelspec": {
      "display_name": "Python 3",
      "language": "python",
      "name": "python3"
    },
    "language_info": {
      "codemirror_mode": {
        "name": "ipython",
        "version": 3
      },
      "file_extension": ".py",
      "mimetype": "text/x-python",
      "name": "python",
      "nbconvert_exporter": "python",
      "pygments_lexer": "ipython3",
      "version": "3.8.3"
    },
    "colab": {
      "name": "LGBIO2072-TP3.ipynb",
      "provenance": [],
      "toc_visible": true,
      "include_colab_link": true
    }
  },
  "cells": [
    {
      "cell_type": "markdown",
      "metadata": {
        "id": "view-in-github",
        "colab_type": "text"
      },
      "source": [
        "<a href=\"https://colab.research.google.com/github/fblondiaux/LGBIO2072-2020/blob/TP3-Draft/LGBIO2072_TP3.ipynb\" target=\"_parent\"><img src=\"https://colab.research.google.com/assets/colab-badge.svg\" alt=\"Open In Colab\"/></a>"
      ]
    },
    {
      "cell_type": "markdown",
      "metadata": {
        "id": "uGmMBRwg7OQH"
      },
      "source": [
        "# TP 3 - Decision making"
      ]
    },
    {
      "cell_type": "code",
      "metadata": {
        "id": "YrXc6uYm67xv"
      },
      "source": [
        "import numpy as np\n",
        "import matplotlib.pyplot as plt"
      ],
      "execution_count": null,
      "outputs": []
    },
    {
      "cell_type": "markdown",
      "metadata": {
        "id": "VQog-ZZ3-tcL"
      },
      "source": [
        "Consider the system described in the following Figure. In this model, two different populations, left and right, can decide for different outcome of a binary decision. These two populations are inhibited by a inhibitory population (the lower population on the figure).\n",
        "\n",
        "The dynamic of the system can be described by equations 1 to 3.\n",
        "\\begin{eqnarray}\n",
        "\\tau _E \\frac{dh_{E,1}}{dt} = -h_{E,1} + w_{EE}g_E(h_{E,1}) +  w_{EI}g_{inh}(h_{E,1}) + RI_1 \\tag{1}\\\\\n",
        "\\tau _E \\frac{dh_{E,2}}{dt} = -h_{E,2} + w_{EE}g_E(h_{E,2}) +  w_{EI}g_{inh}(h_{E,2}) + RI_2 \\tag{2} \\\\\n",
        "\\tau _{inh} \\frac{dh_{inh}}{dt} = -h_{inh} + w_{IE}g_E(h_{E,1}) +  w_{IE}g_{E}(h_{E,2}) \\tag{3}\n",
        "\\end{eqnarray}\n",
        "\n",
        "The parameters $\\tau_E$ and $\\tau_{inh}$ are time constants of the excitatory and inhibitory processes respectively. The terms $h_{E,1}$ and $h_{E,2}$ are parameters linked to the evidence for choosing one outcome of the consiedred decision. The parameters $w_{xy}$ are weights of the interactions between the different populations. The terms $g_E(h_{E,k})$ denote the activity of an excitatory population k driven by an input potential $h_{E,k}$. \n",
        "\n",
        "This model can be simplified into a 2-dimensional model (see book for detailed developments).\n",
        "\n",
        "\\begin{eqnarray}\n",
        "\\tau _E \\frac{dh_{E,1}}{dt} = -h_{E,1} + (w_{EE}-\\alpha)g_E(h_{E,1}) - \\alpha g_E(h_{E,2}) + RI_1 \\tag{4}\\\\\n",
        "\\tau _E \\frac{dh_{E,2}}{dt} = -h_{E,2} + (w_{EE}-\\alpha)g_E(h_{E,2}) - \\alpha g_E(h_{E,1}) + RI_2 \\tag{5}\\\\\n",
        "\\end{eqnarray}\n",
        "\n",
        "with $\\alpha = - \\gamma w_{EI} w_{IE}$ where $\\gamma$ is the slope of the gain function of the inhibitory neurons.\n",
        "\n",
        "<img alt='Solution hint' align='center' width=413 height=300 src=https://neuronaldynamics.epfl.ch/online/x519.png>\n",
        "\n"
      ]
    },
    {
      "cell_type": "markdown",
      "metadata": {
        "id": "6x0cJ4wHIqc-"
      },
      "source": [
        "## Discretization of the system\n",
        "To implement the evolution of the populations, you need to discretize the system and to get rid of the differential equations. You can use [Euler methods](https://en.wikipedia.org/wiki/Euler_method) or other numerical integration methods to get rid of the differential equations.\n",
        "\n",
        "Once you obtain your discretized system (solution [here]() ), use the following parameters to implement the system.\n",
        "\n",
        "\n",
        "| Parameter | Value |\n",
        "|-----------|-------|\n",
        "| $\\alpha$  | 1     |\n",
        "| $w_{EE}$  | 1.5   |\n",
        "| $RI_1$    | 0.8   |\n",
        "| $RI_2$    | 0.75  |"
      ]
    },
    {
      "cell_type": "code",
      "metadata": {
        "id": "N8xryGhX7OQY"
      },
      "source": [
        "stim_time = 500\n",
        "h = np.zeros((2,stim_time))\n",
        "dt = 1e-3\n",
        "tau = 10e-3 #Which value can I give ?\n",
        "wee = 1.5\n",
        "alpha = 1\n",
        "RI1 = 0\n",
        "RI2 = 01.5\n",
        "\n",
        "def geval(hi):\n",
        "  if hi>0.9:\n",
        "    return 0.9\n",
        "  elif hi<0.1:\n",
        "    return 0.1\n",
        "  else: \n",
        "    return hi\n",
        "\n",
        "def simulatePopEv(RI1,RI2, h10,h20,stim_time = 500,dt = 1e-3,tau = 10e-3,wee = 1.5,alpha = 1):\n",
        "    \n",
        "    h = np.zeros((2,stim_time+1))\n",
        "    h[0,0] = h10\n",
        "    h[1,0] = h20\n",
        "    for k in range(stim_time):\n",
        "        h[0,k+1] = h[0,k] + dt/tau*(-h[0,k]+ (wee-alpha)*geval(h[0,k])-alpha*geval(h[1,k]) + RI1[k])\n",
        "        h[1,k+1] = h[1,k] + dt/tau*(-h[1,k]+ (wee-alpha)*geval(h[1,k])-alpha*geval(h[0,k]) + RI2[k])\n",
        "    return h\n",
        "\n",
        "\n",
        "h = simulatePopEv(0.7*np.ones(500),0.3*np.ones(500),0,0)\n",
        "\n",
        "plt.plot(h[0,:],label=\"FirstPop\")\n",
        "plt.plot(h[1,:],label='second')\n",
        "plt.legend()"
      ],
      "execution_count": null,
      "outputs": []
    },
    {
      "cell_type": "markdown",
      "metadata": {
        "id": "S9dFXN-ktl3E"
      },
      "source": [
        "**TASK** : Observe the effect the different parameters have on the system.\n",
        "\n",
        "Now that you have implemented the dynamic of the system use the function PhasePlaneAnlaysis to observe the effect of the current and the starting point on the system \n",
        "\n",
        "TODO: Add questions.\n",
        "-> For this exercise, I wanted to remove almost all the cell and just let them read the function description, and call it with various parameters."
      ]
    },
    {
      "cell_type": "code",
      "metadata": {
        "id": "SSqSNLfXREyB"
      },
      "source": [
        "def PhasePlaneAnalysis(RI1,RI2,h10,h20):\n",
        "    \"\"\"\n",
        "    Authors : Antoine de Comite and Florence Blondiaux\n",
        "    PhasePlaneAnalysis is a function that allows to perform phase plane\n",
        "    analysis\n",
        "      The aim of this function is to investigate the stability of the model\n",
        "      of the three populations in decision making. It has no outputs but\n",
        "      represents a graph containing different pieces of information.\n",
        "      ---> A vector field showing the evolution of the ODE system, the\n",
        "      different vectors show toward which direction the solution is moving at any\n",
        "      point of the meshgrid.\n",
        "      ---> The trajectories of the solutions you've selected (starting from\n",
        "      circle toward square)\n",
        "\n",
        "    INPUTS : - RI1 is the value of the input evidence for choice 1 (supposed\n",
        "              constant)  it's a scalar\n",
        "            - RI2 is the value of the input evidence for choice 2 (supposed\n",
        "              constant)  it's a scalar\n",
        "            - h10 is the initial value of the solution along h1E axis\n",
        "            (scalar)\n",
        "            - h20 is a vector of initial values of the solution along the\n",
        "            h2E axis (vector)\n",
        "\n",
        "    OUTPUTS : - No outputs\n",
        "    What can be modified without too much damages in this code?\n",
        "    -The parameters of section 0 if you want to have a global overview of\n",
        "    their influence\n",
        "    - The meshgrid itself (linspaces y1 and y2, but keep the name)\n",
        "    \"\"\"\n",
        "  \n",
        "    #Phase plane analysis implementation\n",
        "\n",
        "    y1= np.linspace(-2.5,2.5,20)\n",
        "    y2 = np.linspace(-2.5,2.5,20)\n",
        "\n",
        "    [x,y] = np.meshgrid(y1,y2)\n",
        "    u= np.zeros_like(x)\n",
        "    v= np.zeros_like(y)\n",
        "    stim_time = 1\n",
        "\n",
        "    for i in range(len(x)):\n",
        "        for j in range(len(x)):\n",
        "            Hprime = simulatePopEv(RI1*np.ones(stim_time),RI2*np.ones(stim_time),x[i,j],y[i,j], stim_time) #with default parameters\n",
        "            u[i,j]= Hprime[0,1]\n",
        "            v[i,j]= Hprime[1,1]\n",
        "    ax = plt.plot()\n",
        "    plt.quiver(x,y,u-x,v-y,units='width') #Check if it needs to be u-x or not \n",
        "\n",
        "    stim_time = 500\n",
        "    for i in range(len(h20)):\n",
        "        h = simulatePopEv(RI1*np.ones(stim_time),RI2*np.ones(stim_time),h10,h20[i],stim_time)\n",
        "        plt.plot(h[0,:],h[1,:],color=\"orange\")\n",
        "        plt.plot(h[0,-1],h[1,-1],color=\"green\",marker='o',markersize=8)\n",
        "    plt.title(\"Phase plane analysis for the three populations model in decision making\")\n",
        "    plt.xlabel('h_1')\n",
        "    plt.ylabel('h_2')\n",
        "\n",
        "\n",
        "PhasePlaneAnalysis(0.8,0.75,0.5,np.linspace(-2,2,15))\n"
      ],
      "execution_count": null,
      "outputs": []
    },
    {
      "cell_type": "code",
      "metadata": {
        "id": "HpKyUJN47OQk"
      },
      "source": [
        "#widget for phase plane analysis ? #TODO, do we want to ease their work and we just add a widget ?"
      ],
      "execution_count": null,
      "outputs": []
    },
    {
      "cell_type": "markdown",
      "metadata": {
        "id": "Wc2Wn1PuqXWv"
      },
      "source": [
        "## Take a decision\n",
        "\n",
        "Add noise to the input and observe the effect on the system. Run a few simulations and use an arbitrary treshold to take a decision. How can this threshold be improved ?"
      ]
    },
    {
      "cell_type": "code",
      "metadata": {
        "id": "76ifHTRN7OQ1"
      },
      "source": [
        "#Add noise to the input and observe the effect on the system\n",
        "\n",
        "def noisy_input(RI,sigma,size):\n",
        "    return np.random.normal(loc=RI,scale=sigma,size=size)\n",
        "\n",
        "stim_time = 500\n",
        "for i in range(20):\n",
        "  h = simulatePopEv(noisy_input(0.7,.1,stim_time),noisy_input(0.2,.1,stim_time),0,0,stim_time=stim_time,tau=0.05)\n",
        "  plt.plot(h[0,:]-h[1,:])"
      ],
      "execution_count": null,
      "outputs": []
    },
    {
      "cell_type": "markdown",
      "metadata": {
        "id": "AmDMLPkpq4nj"
      },
      "source": [
        "## Speed accuracy tradeoff\n",
        "\n",
        "Will the answer be as good if our subject has less time to take his decision. How long should we wait to give an answer ? Is this dependent on the difference of signals in input. \n",
        "\n",
        "Run a few simulations and plot the accuracy in the answers based on the time the subject has to take his decision.\n",
        "\n",
        "What happens if the input is more noisy, or if the input to the two population is not as clear ? "
      ]
    },
    {
      "cell_type": "code",
      "metadata": {
        "id": "CQvdLARPVMVV"
      },
      "source": [
        "# Speed accuracy trade off\n",
        "\n",
        "\n",
        "######################\n",
        "### Your code here ###\n",
        "######################\n",
        "\n",
        "## THIS CELL SHOULD BE TOTALLY EMPTY\n",
        "acc_time = np.zeros(100-1)\n",
        "sigma = 1\n",
        "for i in range(1,100):\n",
        "    accuracy = 0\n",
        "    for j in range(200):\n",
        "        stim_time = i\n",
        "        h = simulatePopEv(noisy_input(0.7,sigma,stim_time),noisy_input(0.2,sigma,stim_time),0,0,stim_time=stim_time)\n",
        "        if h[0,-1]>h[1,-1]: # activity of the first population is more important\n",
        "            accuracy +=1\n",
        "    acc_time[i-1]=accuracy/200\n",
        "\n",
        "plt.plot(acc_time)  "
      ],
      "execution_count": null,
      "outputs": []
    },
    {
      "cell_type": "markdown",
      "metadata": {
        "id": "P_iYwCOji3Xs"
      },
      "source": [
        "# Descision based on a threshold\n",
        "\n",
        "[Bonus || Fred]\n",
        "\n",
        "The decision can be took once we go above a certain threshold. How to fix a value for this ?"
      ]
    },
    {
      "cell_type": "code",
      "metadata": {
        "id": "XmyxkxsmUafL"
      },
      "source": [
        "# Take a decision - threshold based"
      ],
      "execution_count": null,
      "outputs": []
    },
    {
      "cell_type": "markdown",
      "metadata": {
        "id": "UxD9TSOpt-ny"
      },
      "source": [
        "# Winner takes all\n",
        "\n",
        "Now that you have seen the mecanism for 2 population of neurnons, implement the same exercices but for 8 population of neurons.\n",
        "\n",
        "Can you reproduce this figure ? \n",
        "\n",
        "(Figure from fred's slides)"
      ]
    },
    {
      "cell_type": "code",
      "metadata": {
        "id": "YDBKuN4aUW1y"
      },
      "source": [
        "#Winner takes all"
      ],
      "execution_count": null,
      "outputs": []
    },
    {
      "cell_type": "code",
      "metadata": {
        "id": "74u-qw_CVd-9"
      },
      "source": [
        "# Link with data from study he present ? "
      ],
      "execution_count": null,
      "outputs": []
    }
  ]
}