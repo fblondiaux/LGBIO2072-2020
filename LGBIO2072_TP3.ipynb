{
  "nbformat": 4,
  "nbformat_minor": 0,
  "metadata": {
    "kernelspec": {
      "display_name": "Python 3",
      "language": "python",
      "name": "python3"
    },
    "language_info": {
      "codemirror_mode": {
        "name": "ipython",
        "version": 3
      },
      "file_extension": ".py",
      "mimetype": "text/x-python",
      "name": "python",
      "nbconvert_exporter": "python",
      "pygments_lexer": "ipython3",
      "version": "3.8.3"
    },
    "colab": {
      "name": "LGBIO2072-TP3.ipynb",
      "provenance": [],
      "collapsed_sections": [],
      "include_colab_link": true
    }
  },
  "cells": [
    {
      "cell_type": "markdown",
      "metadata": {
        "id": "view-in-github",
        "colab_type": "text"
      },
      "source": [
        "<a href=\"https://colab.research.google.com/github/fblondiaux/LGBIO2072-2020/blob/TP3-Antoine/LGBIO2072_TP3.ipynb\" target=\"_parent\"><img src=\"https://colab.research.google.com/assets/colab-badge.svg\" alt=\"Open In Colab\"/></a>"
      ]
    },
    {
      "cell_type": "markdown",
      "metadata": {
        "id": "uGmMBRwg7OQH"
      },
      "source": [
        "# TP 3 - Decision making"
      ]
    },
    {
      "cell_type": "code",
      "metadata": {
        "id": "YrXc6uYm67xv"
      },
      "source": [
        "import numpy as np\n",
        "import matplotlib.pyplot as plt"
      ],
      "execution_count": null,
      "outputs": []
    },
    {
      "cell_type": "code",
      "metadata": {
        "id": "0DQ3BwHRhdHD"
      },
      "source": [
        "# @title Figure Settings\n",
        "import ipywidgets as widgets  # interactive display\n",
        "%config InlineBackend.figure_format = 'retina'\n",
        "# use NMA plot style\n",
        "plt.style.use(\"https://raw.githubusercontent.com/NeuromatchAcademy/course-content/master/nma.mplstyle\")\n",
        "my_layout = widgets.Layout()"
      ],
      "execution_count": null,
      "outputs": []
    },
    {
      "cell_type": "markdown",
      "metadata": {
        "id": "VQog-ZZ3-tcL"
      },
      "source": [
        "Consider the system described in the following Figure. In this model, two different populations, left and right, can decide for different outcome of a binary decision. These two populations are inhibited by a inhibitory population (the lower population on the figure).\n",
        "\n",
        "The dynamic of the system can be described by equations 1 to 3.\n",
        "\\begin{eqnarray}\n",
        "\\tau _E \\frac{dh_{E,1}}{dt} = -h_{E,1} + w_{EE}g_E(h_{E,1}) +  w_{EI}g_{inh}(h_{E,1}) + RI_1 \\tag{1}\\\\\n",
        "\\tau _E \\frac{dh_{E,2}}{dt} = -h_{E,2} + w_{EE}g_E(h_{E,2}) +  w_{EI}g_{inh}(h_{E,2}) + RI_2 \\tag{2} \\\\\n",
        "\\tau _{inh} \\frac{dh_{inh}}{dt} = -h_{inh} + w_{IE}g_E(h_{E,1}) +  w_{IE}g_{E}(h_{E,2}) \\tag{3}\n",
        "\\end{eqnarray}\n",
        "\n",
        "The parameters $\\tau_E$ and $\\tau_{inh}$ are time constants of the excitatory and inhibitory processes respectively. The terms $h_{E,1}$ and $h_{E,2}$ are parameters linked to the evidence for choosing one outcome of the consiedred decision. The parameters $w_{xy}$ are weights of the interactions between the different populations. The terms $g_E(h_{E,k})$ denote the activity of an excitatory population k driven by an input potential $h_{E,k}$. \n",
        "\n",
        "This model can be simplified into a 2-dimensional model (see book for detailed developments).\n",
        "\n",
        "\\begin{eqnarray}\n",
        "\\tau _E \\frac{dh_{E,1}}{dt} = -h_{E,1} + (w_{EE}-\\alpha)g_E(h_{E,1}) - \\alpha g_E(h_{E,2}) + RI_1 \\tag{4}\\\\\n",
        "\\tau _E \\frac{dh_{E,2}}{dt} = -h_{E,2} + (w_{EE}-\\alpha)g_E(h_{E,2}) - \\alpha g_E(h_{E,1}) + RI_2 \\tag{5}\\\\\n",
        "\\end{eqnarray}\n",
        "\n",
        "with $\\alpha = - \\gamma w_{EI} w_{IE}$ where $\\gamma$ is the slope of the gain function of the inhibitory neurons.\n",
        "\n",
        "<img alt='Solution hint' align='center' width=413 height=300 src=https://neuronaldynamics.epfl.ch/online/x519.png>\n",
        "\n"
      ]
    },
    {
      "cell_type": "markdown",
      "metadata": {
        "id": "6x0cJ4wHIqc-"
      },
      "source": [
        "## Discretization of the system\n",
        "To implement the evolution of the populations, you need to discretize the system and to get rid of the differential equations. You can use [Euler methods](https://en.wikipedia.org/wiki/Euler_method) or other numerical integration methods to get rid of the differential equations.\n",
        "\n",
        "Once you obtain your discretized system (solution [here]() ), use the following parameters to implement the system.\n",
        "\n",
        "\n",
        "| Parameter | Value |\n",
        "|-----------|-------|\n",
        "| $\\alpha$  | 1     |\n",
        "| $w_{EE}$  | 1.5   |\n",
        "| $RI_1$    | 0.8   |\n",
        "| $RI_2$    | 0.75  |"
      ]
    },
    {
      "cell_type": "code",
      "metadata": {
        "id": "N8xryGhX7OQY"
      },
      "source": [
        "stim_time = 500\n",
        "h = np.zeros((2,stim_time))\n",
        "dt = 1e-3\n",
        "tau = 10e-3 #Which value can I give ?\n",
        "wee = 1.5\n",
        "alpha = 1\n",
        "RI1 = 0\n",
        "RI2 = 01.5\n",
        "\n",
        "def geval(hi):\n",
        "  if hi>0.9:\n",
        "    return 0.9\n",
        "  elif hi<0.1:\n",
        "    return 0.1\n",
        "  else: \n",
        "    return hi\n",
        "\n",
        "def simulatePopEv(RI1,RI2, h10,h20,stim_time = 500,dt = 1e-3,tau = 10e-3,wee = 1.5,alpha = 1):\n",
        "    \n",
        "    h = np.zeros((2,stim_time+1))\n",
        "    h[0,0] = h10\n",
        "    h[1,0] = h20\n",
        "    for k in range(stim_time):\n",
        "        h[0,k+1] = h[0,k] + dt/tau*(-h[0,k]+ (wee-alpha)*geval(h[0,k])-alpha*geval(h[1,k]) + RI1[k])\n",
        "        h[1,k+1] = h[1,k] + dt/tau*(-h[1,k]+ (wee-alpha)*geval(h[1,k])-alpha*geval(h[0,k]) + RI2[k])\n",
        "    return h\n",
        "\n",
        "\n",
        "h = simulatePopEv(0.7*np.ones(500),0.3*np.ones(500),0,0)\n",
        "\n",
        "plt.plot(h[0,:],label=\"FirstPop\")\n",
        "plt.plot(h[1,:],label='second')\n",
        "plt.legend()"
      ],
      "execution_count": null,
      "outputs": []
    },
    {
      "cell_type": "markdown",
      "metadata": {
        "id": "S9dFXN-ktl3E"
      },
      "source": [
        "**TASK** : Observe the effect the different parameters have on the system.\n",
        "\n",
        "Now that you have implemented the dynamic of the system use the function PhasePlaneAnlaysis to observe the effect of the current and the starting point on the system \n",
        "\n",
        "TODO: Add questions.\n",
        "-> For this exercise, I wanted to remove almost all the cell and just let them read the function description, and call it with various parameters."
      ]
    },
    {
      "cell_type": "code",
      "metadata": {
        "id": "SSqSNLfXREyB"
      },
      "source": [
        "def PhasePlaneAnalysis(RI1,RI2,h10,h20):\n",
        "    \"\"\"\n",
        "    Authors : Antoine de Comite and Florence Blondiaux\n",
        "    PhasePlaneAnalysis is a function that allows to perform phase plane\n",
        "    analysis\n",
        "      The aim of this function is to investigate the stability of the model\n",
        "      of the three populations in decision making. It has no outputs but\n",
        "      represents a graph containing different pieces of information.\n",
        "      ---> A vector field showing the evolution of the ODE system, the\n",
        "      different vectors show toward which direction the solution is moving at any\n",
        "      point of the meshgrid.\n",
        "      ---> The trajectories of the solutions you've selected (starting from\n",
        "      circle toward square)\n",
        "\n",
        "    INPUTS : - RI1 is the value of the input evidence for choice 1 (supposed\n",
        "              constant)  it's a scalar\n",
        "            - RI2 is the value of the input evidence for choice 2 (supposed\n",
        "              constant)  it's a scalar\n",
        "            - h10 is the initial value of the solution along h1E axis\n",
        "            (scalar)\n",
        "            - h20 is a vector of initial values of the solution along the\n",
        "            h2E axis (vector)\n",
        "\n",
        "    OUTPUTS : - No outputs\n",
        "    What can be modified without too much damages in this code?\n",
        "    -The parameters of section 0 if you want to have a global overview of\n",
        "    their influence\n",
        "    - The meshgrid itself (linspaces y1 and y2, but keep the name)\n",
        "    \"\"\"\n",
        "  \n",
        "    #Phase plane analysis implementation\n",
        "\n",
        "    y1= np.linspace(-2.5,2.5,20)\n",
        "    y2 = np.linspace(-2.5,2.5,20)\n",
        "\n",
        "    [x,y] = np.meshgrid(y1,y2)\n",
        "    u= np.zeros_like(x)\n",
        "    v= np.zeros_like(y)\n",
        "    stim_time = 1\n",
        "\n",
        "    for i in range(len(x)):\n",
        "        for j in range(len(x)):\n",
        "            Hprime = simulatePopEv(RI1,RI2,x[i,j],y[i,j], stim_time) #with default parameters\n",
        "            u[i,j]= Hprime[0,1]\n",
        "            v[i,j]= Hprime[1,1]\n",
        "    ax = plt.plot()\n",
        "    plt.quiver(x,y,u-x,v-y,units='width') #Check if it needs to be u-x or not \n",
        "\n",
        "    for i in range(len(h20)):\n",
        "        h = simulatePopEv(RI1,RI2,h10,h20[i],500)\n",
        "        plt.plot(h[0,:],h[1,:],color=\"orange\")\n",
        "        plt.plot(h[0,-1],h[1,-1],color=\"green\",marker='o',markersize=8)\n",
        "    plt.title(\"Phase plane analysis for the three populations model in decision making\")\n",
        "    plt.xlabel('h_1')\n",
        "    plt.ylabel('h_2')\n",
        "\n",
        "\n",
        "PhasePlaneAnalysis(0.8,0.75,0.5,np.linspace(-2,2,15))\n"
      ],
      "execution_count": null,
      "outputs": []
    },
    {
      "cell_type": "code",
      "metadata": {
        "id": "HpKyUJN47OQk"
      },
      "source": [
        "#widget for phase plane analysis ? #TODO, do we want to ease their work and we just add a widget ?"
      ],
      "execution_count": null,
      "outputs": []
    },
    {
      "cell_type": "markdown",
      "metadata": {
        "id": "2vmYG07nn_2Z"
      },
      "source": [
        "The "
      ]
    },
    {
      "cell_type": "code",
      "metadata": {
        "id": "w8IhFfv_n_kM"
      },
      "source": [
        "def nullclines2D(h_span, alpha,RI1,RI2,wee):\n",
        "  \"\"\"\n",
        "  documentation to do XP \n",
        "  \"\"\"\n",
        "  h2_eq1 = np.zeros_like(h_span)\n",
        "  h1_eq2 = np.zeros_like(h_span)\n",
        "  for ii in range(len(h_span)):\n",
        "    h2_eq1[ii] = np.arctanh(1/alpha * (RI1-h_span[ii]+(wee-alpha)*geval(h_span[ii])))\n",
        "    h1_eq2[ii] = np.arctanh(1/alpha * (RI2-h_span[ii]+(wee-alpha)*geval(h_span[ii])))\n",
        "  return h2_eq1,h1_eq2\n",
        "\n",
        "\n",
        "\n",
        "# Run the lines below to test your code \n",
        "\n",
        "\n",
        "vec1,vec2 = nullclines2D(np.arange(-1.5,1.6,0.1),1,0.8,0.75,1.5)\n",
        "fig, ax = plt.subplots()\n",
        "ax.plot(np.arange(-1.5,1.6,0.1),vec1,color=\"red\")\n",
        "ax.plot(vec2,np.arange(-1.5,1.6,0.1),color=\"blue\")\n",
        "ax.set_xlim([-1.5,1.5])\n",
        "ax.set_ylim([-1.5,1.5])\n",
        "plt.show()"
      ],
      "execution_count": null,
      "outputs": []
    },
    {
      "cell_type": "markdown",
      "metadata": {
        "id": "Wc2Wn1PuqXWv"
      },
      "source": [
        "## Take a decision\n",
        "\n",
        "Add noise to the input and observe the effect on the system. Run a few simulations and use an arbitrary treshold to take a decision. How can this threshold be improved ?"
      ]
    },
    {
      "cell_type": "code",
      "metadata": {
        "id": "76ifHTRN7OQ1"
      },
      "source": [
        "#Add noise to the input and observe the effect on the system\n",
        "\n",
        "def noisy_input(RI,sigma,size):\n",
        "    return np.random.normal(loc=RI,scale=sigma,size=size)\n",
        "\n",
        "stim_time = 500\n",
        "for i in range(20):\n",
        "  h = simulatePopEv(noisy_input(0.7,.1,stim_time),noisy_input(0.2,.1,stim_time),0,0,stim_time=stim_time)\n",
        "  plt.plot(h[0,:]-h[1,:])"
      ],
      "execution_count": null,
      "outputs": []
    },
    {
      "cell_type": "markdown",
      "metadata": {
        "id": "AmDMLPkpq4nj"
      },
      "source": [
        "## Speed accuracy tradeoff\n",
        "\n",
        "Will the answer be as good if our subject has less time to take his decision. How long should we wait to give an answer ? Is this dependent on the difference of signals in input. \n",
        "\n",
        "Run a few simulations and plot the accuracy in the answers based on the time the subject has to take his decision.\n",
        "\n",
        "What happens if the input is more noisy, or if the input to the two population is not as clear ? "
      ]
    },
    {
      "cell_type": "code",
      "metadata": {
        "id": "CQvdLARPVMVV"
      },
      "source": [
        "# Speed accuracy trade off\n",
        "\n",
        "\n",
        "######################\n",
        "### Your code here ###\n",
        "######################\n",
        "\n",
        "## THIS CELL SHOULD BE TOTALLY EMPTY\n",
        "acc_time = np.zeros(100-1)\n",
        "sigma = 1\n",
        "for i in range(1,100):\n",
        "    accuracy = 0\n",
        "    for j in range(200):\n",
        "        stim_time = i\n",
        "        h = simulatePopEv(noisy_input(0.7,sigma,stim_time),noisy_input(0.6,sigma,stim_time),0,0,stim_time=stim_time)\n",
        "        if h[0,-1]>h[1,-1]: # activity of the first population is more important\n",
        "            accuracy +=1\n",
        "    acc_time[i-1]=accuracy/200\n",
        "\n",
        "plt.plot(acc_time)  "
      ],
      "execution_count": null,
      "outputs": []
    },
    {
      "cell_type": "markdown",
      "metadata": {
        "id": "P_iYwCOji3Xs"
      },
      "source": [
        "# Descision based on a threshold\n",
        "\n",
        "[Bonus || Fred]\n",
        "\n",
        "The decision can be took once we go above a certain threshold. How to fix a value for this ?"
      ]
    },
    {
      "cell_type": "code",
      "metadata": {
        "id": "XmyxkxsmUafL"
      },
      "source": [
        "# Take a decision - threshold based"
      ],
      "execution_count": null,
      "outputs": []
    },
    {
      "cell_type": "markdown",
      "metadata": {
        "id": "UxD9TSOpt-ny"
      },
      "source": [
        "# Winner takes all\n",
        "\n",
        "In the last section, we modelled the decision process that arises when two alternatives are possible. In many situations, we faced decisions where more than two outcomes are possible. In this section, we will investigate these decision processes also known as *Winner takes all* . \n",
        "\n",
        "Let's consider the *n* populations represented in the figure below. Each of them is related to one and only one of the potential outcomes and possess its own input current $RI_i$. \n",
        "\n",
        "**Image slide ici**\n",
        "\n",
        "We can caracterize the evolution of the activity of population $i$ as a function of all populations' activity as follows \n",
        "\n",
        "$\n",
        "\\begin{eqnarray}\n",
        "\\tau \\dfrac{dh_i}{dt} & = & -h_i + w_E g(h_i) - \\alpha \\left(\\sum_{j\\neq i}g\\left(h_i\\right)\\right) + RI_i\n",
        "\\end{eqnarray}\n",
        "$\n",
        "\n",
        "This equation is very similar to what we had before as it also includes excitation by the input current ($RI_i$), inhibition by the other populations (third term) and self-excitatory activity (second term). \n",
        "\n",
        "In this network of neurons, we will use the following activation function:\n",
        "\n",
        "$\n",
        "\\begin{eqnarray}\n",
        "g\\left(h_i(t)\\right) & = & \\left(1 + \\tanh(h_i(t) - \\theta)\\right)\\dfrac{A_{\\text{max}}}{2}\n",
        "\\end{eqnarray}\n",
        "$\n",
        "\n",
        "where $\\theta$ and $A_{\\text{max}}$ are parameters set to 5 and 1 respectively. \n",
        "\n",
        "\n",
        "##Exercise 4 \n",
        "Implement the winner takes all algorithm for a network compound of 3 neuronal populations\n",
        "\n"
      ]
    },
    {
      "cell_type": "code",
      "metadata": {
        "id": "YDBKuN4aUW1y"
      },
      "source": [
        "def geval_wta(hi):\n",
        "  \"\"\"\n",
        "  Computes the values of the activations functions for all neuronal population given their respective activity\n",
        "\n",
        "  Inputs : \n",
        "    hi is a vector containing the neural activity of the populations\n",
        "\n",
        "  Outputs : \n",
        "    feval is the value of the activation functions\n",
        "  \"\"\"\n",
        "\n",
        "  ######################\n",
        "  ### your code here ###\n",
        "  ######################\n",
        "  theta = 2\n",
        "  Amax = 1\n",
        "  feval = (1 + np.tanh(hi-theta)) * Amax/2\n",
        "  return feval\n",
        "\n",
        "\n",
        "def simulate_wta(h0,RI,sim_time=500,dt=1e-3,tau=10e-3,we=1,alpha=2):\n",
        "  \"\"\"\n",
        "  This function models the winner takes all mechanism. It models the time-evolution of the different populations activity\n",
        "\n",
        "  Inputs : \n",
        "    h0 is the initial vector of activities \n",
        "    sim_time is the number of time steps we want to simulate\n",
        "    dt is the length of the time step\n",
        "    tau is the time constant of the system (assumed the same for all populations)\n",
        "    we is the self excitatory constant\n",
        "    alpha is the inhibitory constant\n",
        "  Outputs : \n",
        "    h is the time evolution of populations' activity\n",
        "  \"\"\"\n",
        "  h = np.zeros([len(h0),sim_time+1])\n",
        "  h[:,0] = h0\n",
        "  for time in range(sim_time):\n",
        "    g = geval_wta(h[:,time])\n",
        "    for pop in range(len(h0)):\n",
        "      h[pop,time+1] = h[pop,time] + dt/tau *( -h[pop,time] + we * g[pop] - alpha * np.sum(g[range(len(h0))!=pop]) + RI[pop])\n",
        "  \n",
        "  return h\n",
        "\n",
        "\n",
        "#Run the lines below to test your code \n",
        "h0 = [0,0,0.5]\n",
        "RI = [1,0.5,1]\n",
        "h = simulate_wta(h0,RI)\n",
        "\n",
        "fig, ax = plt.subplots()\n",
        "ax.plot(range(501),h[0,:],color=\"red\")\n",
        "ax.plot(range(501),h[1,:],color=\"blue\")\n",
        "ax.plot(range(501),h[2,:],color=\"green\")"
      ],
      "execution_count": null,
      "outputs": []
    },
    {
      "cell_type": "code",
      "metadata": {
        "id": "VsbuDPeaX9FP"
      },
      "source": [
        ""
      ],
      "execution_count": null,
      "outputs": []
    },
    {
      "cell_type": "code",
      "metadata": {
        "id": "ae7TSwsNAJHc"
      },
      "source": [
        "#Make sure to execute this cell\n",
        "\n",
        "from mpl_toolkits.mplot3d import Axes3D\n",
        "fig = plt.figure(figsize=(20,10))\n",
        "ax=fig.gca(projection='3d')\n",
        "\n",
        "x,y,z = np.meshgrid(np.arange(-1.5,1.6,0.4),\n",
        "                    np.arange(-1.5,1.6,0.4),\n",
        "                    np.arange(-1.5,1.6,0.4))\n",
        "u = np.zeros_like(x)\n",
        "v = np.zeros_like(y)\n",
        "w = np.zeros_like(z)\n",
        "for ix in range(len(x)):\n",
        "  for iy in range(len(y)):\n",
        "    for iz in range(len(z)):\n",
        "      h=simulate_wta([x[ix,iy,iz],y[ix,iy,iz], z[ix,iy,iz]],[1,0.5,1],sim_time=1)\n",
        "      u[ix,iy,iz] = h[0,-1]\n",
        "      v[ix,iy,iz] = h[1,-1]\n",
        "      w[ix,iy,iz] = h[2,-1]\n",
        "ax.quiver(x,y,z,u-x,v-y,w-z,length=0.1,normalize=True)\n",
        "ax.set_xlabel('Population 1')\n",
        "ax.set_ylabel('Population 2')\n",
        "ax.set_zlabel('Population 3')\n",
        "\n",
        "\n",
        "pos_init1 = [0,0,0]\n",
        "h = simulate_wta(pos_init1,[1,0.5,1],500)\n",
        "ax.plot(h[0,:],h[1,:],h[2,:],color=\"orange\")\n",
        "ax.scatter(h[0,-1],h[1,-1],h[2,-1],color=\"green\",marker='o')\n",
        "ax.view_init(elev=10., azim=75)\n",
        "\n",
        "\n",
        "\n",
        "print(h[:,-1])"
      ],
      "execution_count": null,
      "outputs": []
    },
    {
      "cell_type": "code",
      "metadata": {
        "id": "RSKuMjkhe1Q3"
      },
      "source": [
        "#widgets to show the 2D evolution of the different slabs (i'm starting to turn crazy)\n",
        "my_layout.width='450px'\n",
        "@widgets.interact(\n",
        "    xslab=widgets.FloatSlider(0,min=-1.5,max=1.5,step=0.1,layout=my_layout),\n",
        "    yslab=widgets.FloatSlider(0,min=-1.5,max=1.5,step=0.1,layout=my_layout),\n",
        "    zslab=widgets.FloatSlider(0,min=-1.5,max=1.5,step=0.1,layout=my_layout)\n",
        ")\n",
        "\n",
        "def slab_rpz(xslab=0,yslab=0,zslab=0):\n",
        "\n",
        "  y_xslab,z_xslab = np.meshgrid(np.arange(-1.5,1.6,0.4),\n",
        "                                np.arange(-1.5,1.6,0.4))\n",
        "  x_yslab,z_yslab = np.meshgrid(np.arange(-1.5,1.6,0.4),\n",
        "                                np.arange(-1.5,1.6,0.4))\n",
        "  x_zslab,y_zslab = np.meshgrid(np.arange(-1.5,1.6,0.4),\n",
        "                                np.arange(-1.5,1.6,0.4))\n",
        "  \n",
        "  v_yz = np.zeros_like(y_xslab)\n",
        "  w_yz = np.zeros_like(z_xslab)\n",
        "\n",
        "  u_xz = np.zeros_like(x_yslab)\n",
        "  w_xz = np.zeros_like(z_yslab)\n",
        "\n",
        "  u_xy = np.zeros_like(x_zslab)\n",
        "  v_xy = np.zeros_like(y_zslab)\n",
        "\n",
        "  for i_row in range(len(y_xslab)):\n",
        "    for i_col in range(len(y_xslab)):\n",
        "      h_yz = simulate_wta([xslab,y_xslab[i_row,i_col],z_xslab[i_row,i_col]],[1,0.5,1],sim_time=1)\n",
        "      h_xz = simulate_wta([x_yslab[i_row,i_col],yslab,z_yslab[i_row,i_col]],[1,0.5,1],sim_time=1)\n",
        "      h_xy = simulate_wta([x_zslab[i_row,i_col],y_zslab[i_row,i_col],zslab],[1,0.5,1],sim_time=1)\n",
        "      v_yz[i_row,i_col] = h_yz[0,-1]\n",
        "      w_yz[i_row,i_col] = h_yz[1,-1]\n",
        "      \n",
        "      u_xz[i_row,i_col] = h_xz[0,-1]\n",
        "      w_xz[i_row,i_col] = h_xz[1,-1]\n",
        "\n",
        "      u_xy[i_row,i_col] = h_xy[0,-1]\n",
        "      v_xy[i_row,i_col] = h_xy[1,-1]\n",
        "  \n",
        "  fig, ax = plt.subplots(1,3)\n",
        "  ax[0].quiver(y_xslab,z_xslab,v_yz-y_xslab,w_yz-z_xslab)\n",
        "\n",
        "  ax[1].quiver(x_yslab,z_yslab,u_xz-x_yslab,w_xz-z_yslab)\n",
        "\n",
        "  ax[2].quiver(x_zslab,y_zslab,u_xy-x_zslab,v_xy-y_zslab)\n",
        "\n",
        "\n",
        "\n"
      ],
      "execution_count": null,
      "outputs": []
    },
    {
      "cell_type": "code",
      "metadata": {
        "id": "74u-qw_CVd-9"
      },
      "source": [
        "# Link with data from study he present ? "
      ],
      "execution_count": null,
      "outputs": []
    }
  ]
}