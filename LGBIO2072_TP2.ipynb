{
 "cells": [
  {
   "cell_type": "markdown",
   "metadata": {
    "colab_type": "text",
    "id": "view-in-github"
   },
   "source": [
    "<a href=\"https://colab.research.google.com/github/fblondiaux/LGBIO2072-2020/blob/master/LGBIO2072_TP2.ipynb\" target=\"_parent\"><img src=\"https://colab.research.google.com/assets/colab-badge.svg\" alt=\"Open In Colab\"/></a>"
   ]
  },
  {
   "cell_type": "markdown",
   "metadata": {
    "id": "cegAd0Aws-mZ"
   },
   "source": [
    "# TP2 - Firing Rate\n",
    "__Authors:__ Antoine de Comite and Florence Blondiaux\n",
    "\n",
    "__Content inspired from__: Neuromatch Academy github.com/NeuromatchAcademy\n",
    "\n",
    "---\n",
    "\n",
    "**Please run the cells below to initialize the notebook**"
   ]
  },
  {
   "cell_type": "code",
   "execution_count": null,
   "metadata": {
    "cellView": "form",
    "id": "zL8DsxwItIqg"
   },
   "outputs": [],
   "source": [
    "#@title Useful libraries and functions\n",
    "import numpy as np\n",
    "import matplotlib.pyplot as plt\n",
    "import pandas as pd\n",
    "import os, requests\n",
    "\n",
    "def rand_syn(t,sigma = 0.1, imean = 25e-11):\n",
    "    dt = t[1]-t[0]\n",
    "    return imean * (1 + 0.1 * (np.sqrt(np.max(t)/dt)) * np.random.normal(0,sigma,len(t)))\n",
    "\n",
    "def step_current(t,sigma = 0.1, imean = 25e-11):\n",
    "    \"\"\"\n",
    "    Returns a step current, with step mean =  25e-11\n",
    "    \"\"\"\n",
    "    i = np.zeros_like(t)\n",
    "    i[int(len(t)/2):] = 1 #step\n",
    "    i = i+np.random.normal(0,sigma,len(t)) \n",
    "    return imean * i\n",
    "def DC_current(t,imean):\n",
    "    \"\"\"\n",
    "    Returns dc current for a widget DONOT CHANGE\n",
    "    \"\"\"\n",
    "    i = imean*np.ones_like(t)\n",
    "    return i\n",
    "\n",
    "def LIF(input_current,t,  tau= 20e-3 , urest= -60e-3 , r= 100e6, ureset = -70e-3 \\\n",
    "               ,theta = -50e-3, t_ref = 10e-3 ): \n",
    "    \"\"\"\n",
    "    Authors : Antoine de Comite and Florence Blondiaux\n",
    "    Simulate the LIF model in response to an external input current\n",
    "    Args:\n",
    "      input_current   : Vector containing the input current [A].\n",
    "      t               : Vector containing the discretized time points [s]\n",
    "      tau             : Membrane time constant. Default value: 20e-3 [s]\n",
    "      urest           : Leak potential. Default value: -60e-3 [V]\n",
    "      r               : Leak resistance. Default value: 100e6 [Ohm]\n",
    "      ureset          : Reset potential. Default value: -70e-3[V]\n",
    "      theta           : Firing threashold. Default value: -50e-3 [V]\n",
    "      t_ref           : Refractory period. Default value: 10e-3 [S]\n",
    "    Returns:\n",
    "      u               : membrane potential [V]\n",
    "      ts              : spike times [s]\n",
    "    \"\"\"\n",
    "    u = np.zeros_like(input_current)\n",
    "    ts = []\n",
    "    dt = t[1]-t[0]\n",
    "    S = np.zeros_like(input_current)\n",
    "    u[0]=urest\n",
    "    t_wait = 0\n",
    "    for step in range(0,len(input_current)-1):\n",
    "        if u[step] > theta:\n",
    "            u[step]= theta / 1.2\n",
    "            u[step+1] = ureset\n",
    "            t_wait = t_ref/dt\n",
    "            ts.append((step+1)*dt)\n",
    "        elif t_wait >0:\n",
    "            u[step +1] = ureset\n",
    "            t_wait -=1\n",
    "        else:\n",
    "            u[step+1]=u[step] -dt/tau * (u[step]-urest) + r*dt/tau * input_current[step]\n",
    "    return u, ts\n",
    "\n",
    "def load_dataset():\n",
    "  url = 'https://raw.githubusercontent.com/fblondiaux/LGBIO2072-2020/master/ExtraContent/Output_Current.csv'\n",
    "  df = pd.read_csv(url)\n",
    "  S = df.to_numpy()\n",
    "  return S\n",
    "def plot_data(S):\n",
    "  for i in range(len(S)):\n",
    "    spike_times = S[i]\n",
    "    plt.scatter(np.where(S[i,:]==1),i*np.ones_like(np.where(S[i,:]==1)),facecolor='skyblue',edgecolor = \"white\")\n",
    "    plt.xlabel('Time [mS]')\n",
    "    plt.ylabel('Neuron')\n",
    "import ipywidgets as widgets  # interactive display\n",
    "%config InlineBackend.figure_format = 'retina'\n",
    "# use NMA plot style\n",
    "plt.style.use(\"https://raw.githubusercontent.com/NeuromatchAcademy/course-content/master/nma.mplstyle\")\n",
    "my_layout = widgets.Layout()\n",
    "\n",
    "from matplotlib import rcParams\n",
    "from matplotlib import pyplot as plt\n",
    "rcParams['figure.figsize'] = [20,4]\n",
    "rcParams['font.size']=15\n",
    "rcParams['axes.spines.top']= False\n",
    "rcParams['axes.spines.right']=False\n",
    "rcParams['figure.autolayout']=False\n",
    "\n"
   ]
  },
  {
   "cell_type": "code",
   "execution_count": null,
   "metadata": {
    "cellView": "form",
    "id": "ooqbDgII8r3E"
   },
   "outputs": [],
   "source": [
    "#@title Widgets handling\n",
    "\n",
    "import ipywidgets as widgtest #interactive display\n",
    "%config InlineBackend.figure_format = 'retina'\n",
    "#use NMA plot style\n",
    "plt.style.use(\"https://raw.githubusercontent.com/NeuromatchAcademy/course-content/master/nma.mplstyle\")\n",
    "my_layout = widgets.Layout()"
   ]
  },
  {
   "cell_type": "markdown",
   "metadata": {
    "id": "LPbvQLLXstWK"
   },
   "source": [
    "---\n",
    "\n",
    "# Tutorials Objectives\n",
    "\n",
    "In the last tutorial, we implemented the LIF model of the neuron in which we modelled train of spikes from continuous input current. In this tutorial we will characterise and study these spike trains and discuss the messages they convey. At the end of this tutorial you should be able to : \n",
    "\n",
    "* Represent spike trains on a raster plot\n",
    "* Convolve spike trains with different kernels to compute firing rates\n",
    "* Compare the properties of the different kernels\n",
    "* Compute the CV and the ISI distribution of a given firing pattern\n",
    "* Understand the stochasticity of a neuron's firing pattern\n",
    "\n",
    "\n",
    "\n",
    "---\n",
    "# Reminders\n",
    "## 1. Raster plot\n",
    "\n",
    "A *raster plot* can be used to represent spike trains from multiple neurons (or from a single neuron modelled several times) by plotting dots at spike times `i` from neuron `j` at plot height `j` It can be useful to visualise the activity of several neurons at the same time. For example if we want to represent the spike times contained in `spike_time`, we can use :\n",
    "```\n",
    "plt.scatter(spike_times, j*np.ones_like(spike_times))\n",
    "```\n",
    "\n",
    "![spikes plot](https://github.com/mpbrigham/colaboratory-figures/raw/master/nma/python-for-nma/spikes_plot.png)\n",
    "\n",
    "## 2. Firing rate \n",
    "\n",
    "Spikes alone are not very informative. However, looking closer at the spikes train can be very informative for example while focussing at firing rate and spiking regularities.\n",
    "\n",
    "The firing rate can be computed by convolving a given kernel with the spike trains of interest. Let $t_{i=1}^{n}$ be the firing times and $S(t):=\\sum_i \\delta(t-t_i)$ the spike train. The firing rate $\\rho(t)$ can be computed as the convolution of the spike train $S(t)$ with a given kernel $\\kappa(t)$ : \n",
    "\n",
    "$$\n",
    "\\begin{eqnarray}\n",
    "\\rho(t) & =& \\kappa(t) * S(t) = \\int_{-\\infty}^{\\infty} \\kappa(t)S(t-s)ds\n",
    "\\end{eqnarray}\n",
    "$$\n",
    "\n",
    "The shape of the kernel will slightly modify the values of the instantaneous firing rate. However, all kernels should roughly provide the same firing rate. \n",
    "\n"
   ]
  },
  {
   "cell_type": "markdown",
   "metadata": {
    "id": "Jrh26Q6nBt40"
   },
   "source": [
    "---\n",
    "# Exercises\n",
    "\n",
    "## Exercise 1 \n",
    "\n",
    "Model the responses of N neurons to a random input current and create the corresponding raster plot.\n",
    "\n",
    "*Hints*\n",
    "* Use the functions `plt.scatter`, `rand_syn`and `LIF`for this exercise"
   ]
  },
  {
   "cell_type": "code",
   "execution_count": null,
   "metadata": {
    "id": "k907G77Vszfa",
    "scrolled": false
   },
   "outputs": [],
   "source": [
    "def make_raster_plot(N,t_range,sigma_in):\n",
    "    \"\"\"\n",
    "    Computes the answer of N neurons to a random synaptic input current and plot the results as a raster plot\n",
    "    \n",
    "    Inputs : \n",
    "        N : Number of neurons\n",
    "        t_range : Time-domain on which we want to investigate the neurons' responses\n",
    "        sigma: Standard deviation of the noise of the input current \n",
    "    Outputs : \n",
    "        none\n",
    "    \"\"\"\n",
    "\n",
    "    # Compute the responses of the neurons using the LIF function (do not forget to generate the input current )\n",
    "\n",
    "    ######################\n",
    "    ### your code here ###\n",
    "    ######################\n",
    "\n",
    "\n",
    "    # Represent these responses on a scatter plot (one line corresponds to one neuron)\n",
    "    ######################\n",
    "    ### your code here ###\n",
    "    ######################\n",
    "\n",
    "    return\n",
    "# Run the lines below to test your code\n",
    "t_max = 100e-3   # second\n",
    "dt = .1e-3        # second\n",
    "t_range = np.arange(0,t_max,dt)\n",
    "make_raster_plot(200,t_range,sigma_in=0.1)"
   ]
  },
  {
   "cell_type": "markdown",
   "metadata": {},
   "source": [
    "*Example output:*\n",
    "\n",
    "<img alt='Solution hint' align='left' width=413 height=300 src=https://github.com/fblondiaux/LGBIO2072-2020/master/Images/TP2-Ex1.png>"
   ]
  },
  {
   "cell_type": "markdown",
   "metadata": {
    "id": "F3GxuVIdERiF"
   },
   "source": [
    "**Investigate the effect of the variance of the input current on the spike train regularities using the widget below.**"
   ]
  },
  {
   "cell_type": "code",
   "execution_count": null,
   "metadata": {
    "cellView": "form",
    "id": "LO_D3yQjs5Io"
   },
   "outputs": [],
   "source": [
    "# @title\n",
    "# @markdown Make sure you execute this cell to enable the widget!\n",
    "my_layout.width = '450px'\n",
    "@widgets.interact(\n",
    "    sigma=widgets.FloatSlider(0.8, min=0, max=2, step=0.25, layout=my_layout)\n",
    "\n",
    ")\n",
    "\n",
    "def raster_plot(sigma = 0.8):\n",
    "    t_max = 150e-3   # second\n",
    "    dt = 1e-3        # second\n",
    "    step_end = int(t_max / dt) - 1\n",
    "    t_range = np.linspace(0,dt*step_end,step_end)\n",
    "    \n",
    "    make_raster_plot(200,t_range,sigma)\n",
    "\n"
   ]
  },
  {
   "cell_type": "markdown",
   "metadata": {
    "id": "O8tpr9HE7b3j"
   },
   "source": [
    "<font color=\"red\"> **Questions** \n",
    "</font>\n",
    "\n",
    "* What is the influence of the variance of the noise of the input current on the spike patterns?\n",
    "\n",
    "* How could you explain this based on the LIF model? \n"
   ]
  },
  {
   "cell_type": "markdown",
   "metadata": {},
   "source": [
    "---\n",
    "## Exercice 2\n",
    "In this section, we will compute the firing rates of a set of neurons using different kernels. \n",
    "This dataset is loaded in S. Feel free to explore the data before computing the firing rates."
   ]
  },
  {
   "cell_type": "code",
   "execution_count": null,
   "metadata": {},
   "outputs": [],
   "source": [
    "# Data_loading\n",
    "S = load_dataset()\n",
    "t_range = np.linspace(0,1,S.shape[1])\n"
   ]
  },
  {
   "cell_type": "markdown",
   "metadata": {
    "id": "LVOw_TqzsP8W"
   },
   "source": [
    "\n",
    "\n",
    "## Exercice 2a\n",
    "\n",
    "Compute the firing rate using a rectangular kernel $ \\kappa(t)= (\\Delta t)^{-1} 1_{0 \\leq t \\leq \\Delta t} $. $\\rho(t)$ will therefore be the spike count in a sliding window of side $\\Delta t = \\text{width}$.\n",
    "\n",
    "Hint: use the `convolve` function from numpy (read the documentation for the different arguments that this function takes)\n",
    "\n",
    "An experimenter records from a neuron while stimulating with some input sequence. The same stimulation sequence is repeated several times and the neuronal response is reported in a Peri-Stimulus-Time Histogram (PSTH) with bin width Δt;\n"
   ]
  },
  {
   "cell_type": "code",
   "execution_count": null,
   "metadata": {
    "id": "uVjqmtc2sTep"
   },
   "outputs": [],
   "source": [
    "import matplotlib.font_manager\n",
    "\n",
    "def firing_rate(S,kernel):\n",
    "    \"\"\"\n",
    "    firing rate is a function that computes the firing rate from the spike trains and a given kernel\n",
    "\n",
    "    Inputs : \n",
    "    -S (numpy array) is the spike train we want to compute the firing rate for\n",
    "    -kernel (numpy array) is the kernel used for the convolution\n",
    "\n",
    "    Outputs :\n",
    "    -firing rate (numpy array) is the resulting firing rate \n",
    "    \"\"\"\n",
    "    ######################\n",
    "    ### your code here ###\n",
    "    ######################\n",
    "    \n",
    "    return firing_rate\n",
    "\n",
    "def rect_kernel(t_range,width):\n",
    "    \"\"\"\n",
    "    rect_kernel creates the rectangular kernel used to compute the firing rate\n",
    "\n",
    "    Inputs : \n",
    "    -time_vector is the time span on which we want to define this kernel\n",
    "    -width is the width of the rectangular kernel (in the same units as dt)\n",
    "\n",
    "    Outputs :\n",
    "    -kernel is the returned rectangular kernel\n",
    "    \"\"\"\n",
    "    ######################\n",
    "    ### your code here ###\n",
    "    ######################\n",
    "\n",
    "    return kernel\n",
    "\n",
    "# Run the lines below to test your code\n",
    "\n",
    "# Data_loading\n",
    "S = load_dataset()\n",
    "Firing_rate = np.zeros_like(S)\n",
    "t_range = np.linspace(0,1,S.shape[1])\n",
    "\n",
    "\n",
    "#Compute the firing rate for all the neurons in the dataset\n",
    "\n",
    "kernel = rect_kernel(t_range,100e-3)\n",
    "for ii in range(Firing_rate.shape[0]):\n",
    "  Firing_rate[ii,:] = firing_rate(S[ii,:],kernel)\n",
    "\n",
    "#Plot the averaged firing rate\n",
    "mean_firing_rate = np.mean(Firing_rate,0)\n",
    "\n",
    "fig, ax1 = plt.subplots()\n",
    "ax1.plot(t_range,S[1,:],linewidth=2)\n",
    "ax1.set_xlabel('Time [ms]')\n",
    "ax1.set_title(\"Exemplar spike train\")\n",
    "fig, ax = plt.subplots()\n",
    "ax.plot(t_range,mean_firing_rate)\n",
    "ax.set_xlabel(\"Time [ms]\")\n",
    "ax.set_ylabel(\"Mean firing rate [Hz]\")\n",
    "plt.show()"
   ]
  },
  {
   "cell_type": "markdown",
   "metadata": {},
   "source": [
    "*Example output:*\n",
    "\n",
    "<img alt='Solution hint' align='left' width=413 height=300 src=https://github.com/fblondiaux/LGBIO2072-2020/master/Images/TP2-Ex2.png>"
   ]
  },
  {
   "cell_type": "code",
   "execution_count": null,
   "metadata": {
    "id": "_TuA4z4ZsVyI"
   },
   "outputs": [],
   "source": [
    "# @title\n",
    "# @markdown Make sure you execute this cell to enable the widget!\n",
    "my_layout.width = '450px'\n",
    "@widgets.interact(\n",
    "    width=widgets.FloatSlider(200, min=10, max=1000, step=20, layout=my_layout)\n",
    "\n",
    ")\n",
    "def firingRate(width = 200):\n",
    "    S = load_dataset()\n",
    "    t_range = np.linspace(0,1,S.shape[1])\n",
    "    kernel = rect_kernel(t_range,width*(t_range[1]-t_range[0]))\n",
    "    \n",
    "    Firing_rate = np.zeros_like(S)\n",
    "\n",
    "    for ii in range(Firing_rate.shape[0]):\n",
    "      Firing_rate[ii,:] = firing_rate(S[ii,:],kernel)\n",
    "    mean_firing_rate = np.mean(Firing_rate,0)\n",
    "    fig, ax=plt.subplots()\n",
    "    ax.plot(t_range,mean_firing_rate)\n",
    "    plt.show()"
   ]
  },
  {
   "cell_type": "markdown",
   "metadata": {
    "id": "zpMBQIcVz6j8"
   },
   "source": [
    "## Exercise 2b \n",
    "\n",
    "Compute the firing rate using a gaussian kernel defined by : \n",
    "\n",
    "$$\n",
    "\\begin{eqnarray}\n",
    "\\kappa(t) & =&  \\dfrac{1}{\\sigma\\sqrt{2\\pi}}\\exp\\left(-\\dfrac{\\left(t-t_f\\right)^2}{2\\sigma^2}\\right)\n",
    "\\end{eqnarray}\n",
    "$$\n",
    "\n",
    "where the width of the convolution kernel is defined by the parameter $\\sigma$. "
   ]
  },
  {
   "cell_type": "code",
   "execution_count": null,
   "metadata": {
    "id": "XHT56IRJ2rKv"
   },
   "outputs": [],
   "source": [
    "def gaussian_kernel(time_vector,sigma):\n",
    "  \"\"\"\n",
    "  This function generates the gaussian kernel to compute the firing rate of a given spike trains\n",
    "\n",
    "  Inputs : \n",
    "  -time_vector is the time span of the kernel\n",
    "  -sigma is the width of the gaussian distribution\n",
    "\n",
    "  Outputs:\n",
    "  -kernel is the distribution\n",
    "  \"\"\"\n",
    "\n",
    "  ######################\n",
    "  ### your code here ###\n",
    "  ######################\n",
    "  \n",
    "  \n",
    "  return kernel\n",
    "\n",
    "#Run the lines below to test your code\n",
    "\n",
    "# Load data\n",
    "S = load_dataset()\n",
    "Firing_rate = np.zeros_like(S)\n",
    "t_range = np.linspace(0,1,S.shape[1])\n",
    "\n",
    "\n",
    "#Compute the firing rate for all the neurons in the dataset\n",
    "kernel = gaussian_kernel(t_range,sigma=0.005)\n",
    "for ii in range(Firing_rate.shape[0]):\n",
    "  Firing_rate[ii,:] = firing_rate(S[ii,:],kernel)\n",
    "\n",
    "\n",
    "#Plot the averaged firing rate\n",
    "mean_firing_rate = np.mean(Firing_rate,0)\n",
    "\n",
    "fig, ax1 = plt.subplots()\n",
    "ax1.plot(t_range,kernel,label=\"kernel\",linewidth=2)\n",
    "ax1.plot(t_range,S[1,:],label=\"exemplar spike train\",linewidth=2)\n",
    "ax1.set_xlabel('Time [ms]')\n",
    "ax1.legend()\n",
    "\n",
    "fig, ax = plt.subplots()\n",
    "ax.plot(t_range,mean_firing_rate)\n",
    "ax.set_xlabel(\"Time [ms]\")\n",
    "ax.set_ylabel(\"Mean firing rate [Hz]\")\n",
    "plt.show()\n",
    "\n",
    "\n",
    "\n"
   ]
  },
  {
   "cell_type": "markdown",
   "metadata": {
    "id": "jPyLu0MlmvUD"
   },
   "source": [
    "<font color=\"red\"> **Questions** \n",
    "</font>\n",
    "\n",
    "\n",
    "Use the widget below to investigate the effect the standard deviation of the Gaussian kernel on the computation of the firing rate. What do you observe? "
   ]
  },
  {
   "cell_type": "code",
   "execution_count": null,
   "metadata": {
    "id": "WHdmiWQ7mtXY"
   },
   "outputs": [],
   "source": [
    "# @title\n",
    "# @markdown Make sure you execute this cell to enable the widget! Sigma is expressed in ms.\n",
    "my_layout.width = '450px'\n",
    "@widgets.interact(\n",
    "    sigma=widgets.FloatSlider(20, min=1, max=100, step=5, layout=my_layout)\n",
    "\n",
    ")\n",
    "def firingRate(sigma =0.1):\n",
    "    S = load_dataset()\n",
    "    t_range = np.linspace(0,1,S.shape[1])\n",
    "    kernel = gaussian_kernel(t_range,sigma*1e-3)\n",
    "    \n",
    "    Firing_rate = np.zeros_like(S)\n",
    "\n",
    "    for ii in range(Firing_rate.shape[0]):\n",
    "      Firing_rate[ii,:] = firing_rate(S[ii,:],kernel)\n",
    "    mean_firing_rate = np.mean(Firing_rate,0)\n",
    "    fig, ax=plt.subplots()\n",
    "    ax.plot(t_range,mean_firing_rate)\n",
    "    plt.show()"
   ]
  },
  {
   "cell_type": "markdown",
   "metadata": {
    "id": "zRjtVXJ16kLm"
   },
   "source": [
    "# Exercise 2c [BONUS]\n",
    "\n",
    "Implement an exponential kernel and compute the corresponding firing rate. The exponential kernel has assymetric rise and fall constants inspired from the biology. It is defined by the following : \n",
    "\n",
    "$$\n",
    "\\begin{eqnarray}\n",
    "\\kappa(t) = C \\left(1-\\exp\\left(\\dfrac{-t}{T_R}\\right) \\right) \\exp\\left(\\dfrac{-t}{T_F}\\right) \n",
    "\\end{eqnarray}\n",
    "$$"
   ]
  },
  {
   "cell_type": "code",
   "execution_count": null,
   "metadata": {
    "id": "2YuEa92m1gyi"
   },
   "outputs": [],
   "source": [
    "def exponential_kernel(time_vector,C,Tr,Tf):\n",
    "    \"\"\"\n",
    "    This functions generates the exponential kernel to compute the firing rate of a given spikes train\n",
    "\n",
    "    Inputs : \n",
    "    -time_vector is the time span of the kernel\n",
    "    -C is a normalizing constant\n",
    "    -Tr is the rising time\n",
    "    -Tf is the falling time\n",
    "\n",
    "    Outputs : \n",
    "    -kernel is the generated kernel\n",
    "    \"\"\"\n",
    "\n",
    "    ######################\n",
    "    ### your code here ###\n",
    "    ######################\n",
    "\n",
    "    return kernel\n",
    "\n",
    "# Load data\n",
    "S = load_dataset()\n",
    "Firing_rate = np.zeros_like(S)\n",
    "t_range = np.linspace(0,1,S.shape[1])\n",
    "\n",
    "\n",
    "#Compute the firing rate for all the neurons in the dataset\n",
    "kernel = exponential_kernel(t_range,10, 10e-3,10e-3)\n",
    "for ii in range(Firing_rate.shape[0]):\n",
    "  Firing_rate[ii,:] = firing_rate(S[ii,:],kernel)\n",
    "\n",
    "\n",
    "#Plot the averaged firing rate\n",
    "mean_firing_rate = np.mean(Firing_rate,0)\n",
    "\n",
    "fig, ax1 = plt.subplots()\n",
    "ax1.plot(t_range,kernel,label=\"kernel\",linewidth=2)\n",
    "ax1.plot(t_range,S[1,:],label=\"exemplar spike train\",linewidth=2)\n",
    "ax1.set_xlabel('Time [ms]')\n",
    "ax1.legend()\n",
    "\n",
    "fig, ax = plt.subplots()\n",
    "ax.plot(t_range,mean_firing_rate)\n",
    "ax.set_xlabel(\"Time [ms]\")\n",
    "ax.set_ylabel(\"Mean firing rate [Hz]\")\n",
    "plt.show()"
   ]
  },
  {
   "cell_type": "markdown",
   "metadata": {
    "id": "spU0aoYVEN38"
   },
   "source": [
    "---\n",
    "\n",
    "## Exercise 3\n",
    "\n",
    "In the first exercise, we observed that the firing rate pattern is modified by the covariance of the noise of the input current. In this exercise, we will investigate this phenomenon and determine whether there is a linear relationship between input current amplitude and firing rate.\n",
    "\n",
    "In order to do that, we will use the functions you defined above to compute the firing rates of the neurons with varying input currents. "
   ]
  },
  {
   "cell_type": "code",
   "execution_count": null,
   "metadata": {
    "id": "k7dfPO3mLDOT"
   },
   "outputs": [],
   "source": [
    "my_layout.width = '450px'\n",
    "@widgets.interact(\n",
    "    sig_gwn=widgets.FloatSlider(3.0, min=0., max=6., step=0.5,\n",
    "                                layout=my_layout)\n",
    ")\n",
    "def diff_std(sig_gwn):\n",
    "    I_mean = np.arange(0,400e-12,10e-12)\n",
    "    spk_count = np.zeros_like(I_mean)\n",
    "    spk_count_DC = np.zeros_like(I_mean)\n",
    "    time_vector = np.arange(0.,1.,0.001)\n",
    "    for idx in range(len(I_mean)):\n",
    "        I_GWN = rand_syn(time_vector,sigma=sig_gwn,imean=I_mean[idx])\n",
    "        I_DC = DC_current(time_vector,I_mean[idx]) \n",
    "        u,ts = LIF(I_GWN,time_vector)\n",
    "        udc,tsdc = LIF(I_DC,time_vector)\n",
    "        spk_count[idx] = len(ts)\n",
    "        spk_count_DC[idx] = len(tsdc)\n",
    "\n",
    "\n",
    "\n",
    "    fig, ax = plt.subplots()\n",
    "    ax.plot(I_mean,spk_count,'k')\n",
    "    ax.plot(I_mean,spk_count_DC,'r')\n",
    "    ax.set_xlabel(\"Mean Current\")\n",
    "    ax.set_ylabel(\"Nb Spike/s\")\n",
    "    ax.legend([\"Gaussian White Noise Current\", \"DC current\"])"
   ]
  },
  {
   "cell_type": "markdown",
   "metadata": {
    "id": "h3GUWDWaG98w"
   },
   "source": [
    "<font color=\"red\"> **Questions** \n",
    "</font>\n",
    "\n",
    "* Is the relationship between input current amplitude and firing rate linear? \n",
    "\n",
    "* Could it be linear in some amplitude/variance range for the input current? \n"
   ]
  },
  {
   "cell_type": "markdown",
   "metadata": {
    "id": "j2UwMg5DsY3Z"
   },
   "source": [
    "---\n",
    "# Stochasticity of neuronal activity\n",
    "\n",
    "In the last section, we saw how to compute the firing rate with different kernels and we observed that the way neurons convey information is by their spiking patterns. In this section, we will investigate the stochasticity of these spiking patterns. \n",
    "\n",
    "**Reminder**\n",
    "\n",
    "Spike regularity can be quantified as the *coefficient of variation (CV) of the inter-spike-interval (ISI)*:\n",
    "\\begin{align}\n",
    "\\text{CV}_{\\text{ISI}} = \\dfrac{\\text{std}(\\text{ISI})}{\\text{mean}(\\text{ISI})}\n",
    "\\end{align}\n",
    "\n",
    "The inter-spike-interval being the time elapsed between two successive spikes. \n",
    "\n",
    "---\n",
    "## Exercise 4\n",
    "\n",
    "Compute the inter-spike interval distribution as well as the coefficient of variation of spike trains provided in $S$ to assess the stochasticity of neuron's activity. Plot the ISI distribution with an histogram to visualize the spike regularity of the different neurons. \n",
    "\n",
    "Hint :\n",
    "\n",
    "* You can use the function `np.diff`\n",
    "* You can use the function `hist`from `matplotlib.pyplot`to represent the resulting distribution\n",
    "\n",
    "A Poisson train is an example of high irregularity, in which $\\textbf{CV}_{\\textbf{ISI}} \\textbf{= 1}$. And for a clocklike (regular) process we have $\\textbf{CV}_{\\textbf{ISI}} \\textbf{= 0}$ because of **std(ISI)=0**.\n"
   ]
  },
  {
   "cell_type": "code",
   "execution_count": null,
   "metadata": {
    "id": "rkwFCI6Xsayi"
   },
   "outputs": [],
   "source": [
    "def compute_ISI(spiketrain,dt):\n",
    "    \"\"\"\n",
    "    This function computes and plots the ISI distribution and returns the coefficient of variation and the interspike interval distribution\n",
    "\n",
    "    Inputs : \n",
    "    -spiketrain is the spike pattern under investigation [0 0 0 ... 0 1 0]\n",
    "    -dt is the time step\n",
    "\n",
    "    Outputs :\n",
    "    -CV is the coefficient of variation\n",
    "    -ISI is the interspike interval distribution\n",
    "    \"\"\"\n",
    "\n",
    "    ######################\n",
    "    ### your code here ###\n",
    "    ######################\n",
    "\n",
    "    return ISI, CV\n",
    "\n",
    "# Run the lines below to test your code \n",
    "\n",
    "S = load_dataset()\n",
    "ISI,CV = compute_ISI(S[0,:],1e-3)\n",
    "fig, ax=plt.subplots()\n",
    "ax.hist(ISI,20)\n",
    "ax.set_xlabel(\"ISI [s]\")\n",
    "ax.set_ylabel(\"Histogram of the ISI distribution\")\n",
    "plt.show()"
   ]
  },
  {
   "cell_type": "markdown",
   "metadata": {},
   "source": [
    "*Example output:*\n",
    "\n",
    "<img alt='Solution hint' align='left' width=413 height=300 src=https://github.com/fblondiaux/LGBIO2072-2020/master/Images/TP2-Ex4.png>"
   ]
  },
  {
   "cell_type": "markdown",
   "metadata": {
    "id": "Aeoa2LFL3r_u"
   },
   "source": [
    "**Use the widget below to investigate the ISI for the different neurons of the dataset S**"
   ]
  },
  {
   "cell_type": "code",
   "execution_count": null,
   "metadata": {
    "id": "cgGieQP0sgAs"
   },
   "outputs": [],
   "source": [
    "# @title\n",
    "# @markdown Make sure you execute this cell to enable the widget!\n",
    "my_layout.width = '450px'\n",
    "@widgets.interact(\n",
    "    neuron=widgets.IntSlider(0, min=0, max=8, step=1, layout=my_layout)\n",
    "\n",
    ")\n",
    "\n",
    "def firingRate(neuron = 0):\n",
    "        \n",
    "    S = load_dataset()\n",
    "    ISI, CV=compute_ISI(S[neuron,:],dt)\n",
    "    print(\"The CV for neuron\", neuron, \"is :\", CV)\n",
    "    fig, ax=plt.subplots()\n",
    "    ax.hist(ISI,20)\n",
    "    ax.set_xlabel(\"Time [s]\")\n",
    "    ax.set_ylabel(\"Histogram of the ISI distribution\")"
   ]
  },
  {
   "cell_type": "markdown",
   "metadata": {
    "id": "vO9197gO30K_"
   },
   "source": [
    "<font color=\"red\"> **Questions** \n",
    "</font>\n",
    "\n",
    "* How can you relate the ISI to scatter plots?\n",
    "* Is it possible to have an idea about CV while looking at the ISI's? "
   ]
  },
  {
   "cell_type": "markdown",
   "metadata": {
    "id": "21hGlX7usHZL"
   },
   "source": [
    "---\n",
    "## Exercise 5 - Poisson process\n",
    "\n",
    "Variability in neuron's activity can be approximated by a Poisson process. In this case, the interspike interval distribution can be approximated by an exponential distribution. In the following exercise, create a Poisson type spike trains. \n",
    "\n",
    "\n",
    "The generation of the Poisson process can be performed by at least two processes:\n",
    "\n",
    "- By definition, for a Poisson process with rate $\\lambda$, the probability of finding one event in the time window with a sufficiently small length $\\Delta t$ is $P(N = 1) = \\lambda \\Delta t$. Therefore, in each time window, we generate a uniformly distributed random variable $r \\in [0,1]$ and generate a Poisson event when $r <\\lambda \\Delta t$. This method allows us to generate Poisson distributed spikes in an online manner.\n",
    "\n",
    "\n",
    "- The interval $t_{k+1}-t_{k}$ between two Poisson events with rate $\\lambda$ follows the exponential distribution, i.e., $P(t_{k+1}-t_{k}<t) = 1 - e^{\\lambda t}$. Therefore, we only need to generate a set of exponentially distributed variables $\\{s_k\\}$ to obtain the timing of Poisson events $t_{k+1}=t_{k}+s_{k}$. In this method, we need to generate all future spikes at once. \n",
    "\n",
    "Below, we use the first method in a function `Poisson_generator`, which takes arguments time_range, n and rate."
   ]
  },
  {
   "cell_type": "code",
   "execution_count": null,
   "metadata": {
    "id": "EEBvAPCElgDM"
   },
   "outputs": [],
   "source": [
    "def Poisson_generator(time_range,n,rate):\n",
    "    \"\"\"\n",
    "    Poisson generator generates n Poisson like spike trains\n",
    "\n",
    "    Inputs : \n",
    "    -time_range is the time vector on which we are evolved\n",
    "    -n is the number of spike trains to generate\n",
    "    -rate is the rate of the poisson process\n",
    "\n",
    "    Outputs:\n",
    "    -poisson_trains are the generated poisson spike trains\n",
    "    \"\"\"\n",
    "    ######################\n",
    "    ### your code here ###\n",
    "    ######################\n",
    "    \n",
    "    return poisson_train\n",
    "\n",
    "#Run the lines below to test your code\n",
    "\n",
    "time_range = np.linspace(0,1,1000)\n",
    "n = 10 \n",
    "rate = 10\n",
    "poisson_spikes = Poisson_generator(time_range,n,rate)\n",
    "fig, ax=plt.subplots()\n",
    "ax.set_xlabel(\"Time [s]\")\n",
    "ax.set_ylabel(\"Simulated neuron\")\n",
    "\n",
    "for i in range(n):\n",
    "    spike_times = np.where(poisson_spikes[i,:])[0]\n",
    "    plt.scatter(spike_times, i*np.ones_like(spike_times))\n"
   ]
  },
  {
   "cell_type": "markdown",
   "metadata": {
    "id": "lwia6gG3vDVf"
   },
   "source": [
    "---\n",
    "## Exercise 6 - Inferring the firing rate from the spiking train\n",
    "\n",
    "In the last exercise, we observed that the spiking patterns of neurons can be reproduced using a Poisson process (if CV~=1) . This means that, assuming that the neuron behave as a poisson process, it is possible to determine the firing rate. \n",
    "\n",
    "The idea is to estimate the firing rate based on Bayesian statistics. Imagine that you count a number of spikes $k$ during one second. The PSTH is equal to the spike count, so simply $k$ spikes. Now we could use Poisson model if the coefficient of variation is close to one (we have discussed it in the course). The probability that the number of spikes equal $k$ given a rate of $\\rho$ is:\n",
    "\\begin{eqnarray*}\n",
    "P(N = k | \\rho) = \\frac{e^{-\\rho}\\rho^k}{k!},\n",
    "\\end{eqnarray*}\n",
    "to which we can apply Bayes' theorem to estimate $\\rho$:\n",
    "\\begin{eqnarray*}\n",
    "P(\\rho| N = k ) &\\propto& P(N = k | \\rho) P(\\rho),\\\\\n",
    "P(\\rho| N = k ) &\\propto& \\frac{e^{-\\rho}\\rho^k}{k!} P(\\rho),\n",
    "\\end{eqnarray*}\n",
    "where $P(\\rho)$ expresses the prior. If we do not have any prior assumption we can use a flat, non-informative prior. Thus the posterior distribution can be approximated numerically by evaluating $P(N=k|\\rho)$ for different vaules of $\\rho$ and dividing by the sum so that it integrates to 1.\n",
    "\n",
    "Apply this in the exercise below by completing the function `find_spikingrate`."
   ]
  },
  {
   "cell_type": "code",
   "execution_count": null,
   "metadata": {
    "id": "uHZ4Pe-RsLKY"
   },
   "outputs": [],
   "source": [
    "def find_spikingrate(k,rhocandidate,dt):\n",
    "    \"\"\"\n",
    "    This function computes the best firing rate candidate based on the number of spikes observed per second\n",
    "\n",
    "    Inputs : \n",
    "    -k is the number of spikes observed in dt seconds\n",
    "    -rhocandidate is the set of rho we want to test\n",
    "    -dt is the time during which the spikes are counted\n",
    "    \"\"\"\n",
    "\n",
    "    ######################\n",
    "    ### your code here ###\n",
    "    ######################\n",
    "\n",
    "    return posterior, expected_value\n",
    "\n",
    "#Run the lines below to test your code \n",
    "\n",
    "k = 10\n",
    "dt=1\n",
    "rhocandidate = np.arange(0,40,0.01)\n",
    "posterior, expected_value = find_spikingrate(k,rhocandidate,dt)\n",
    "drho = rhocandidate[1]-rhocandidate[0]\n",
    "fig, ax = plt.subplots()\n",
    "ax.axvline(expected_value)\n",
    "ax.plot(rhocandidate,posterior)\n",
    "ax.set_xlabel('rho')\n",
    "ax.set_ylabel('P(rho)')\n"
   ]
  },
  {
   "cell_type": "markdown",
   "metadata": {},
   "source": [
    "*Example output:*\n",
    "\n",
    "<img alt='Solution hint' align='left' width=413 height=300 src=https://github.com/fblondiaux/LGBIO2072-2020/master/Images/TP2-Ex6.png>"
   ]
  },
  {
   "cell_type": "markdown",
   "metadata": {
    "id": "Qjl_X_p-7cwM"
   },
   "source": [
    "## Exercise 7 - Tuning of neurons\n",
    "\n",
    "For this exercice we will use the Steinmetz dataset. During their study, Steinmetz and colleagues recorded the activity from approximately 30,000 neurons in 42 brain regions of mice performing a visual discrimination task. A stimulus was presented on a screen in front of the mouse, either on the left, on the right, or no stimulus at all. For each kind of stimulus, the mouse had to respond with a particular behaviour. For more information on the study click [here](https://www.nature.com/articles/s41586-019-1787-x).\n",
    "\n",
    "**Run the cell below te investigate neurons tuning**"
   ]
  },
  {
   "cell_type": "code",
   "execution_count": null,
   "metadata": {},
   "outputs": [],
   "source": [
    "# @title\n",
    "# @markdown Make sure you execute this cell to download the dataset!\n",
    "fname =[]\n",
    "for j in range(3):\n",
    "  fname.append('steinmetz_part%d.npz'%j)\n",
    "url = [\"https://osf.io/agvxh/download\"]\n",
    "url.append(\"https://osf.io/uv3mw/download\")\n",
    "url.append(\"https://osf.io/ehmw2/download\")\n",
    "\n",
    "for j in range(len(url)):\n",
    "  if not os.path.isfile(fname[j]):\n",
    "    try:\n",
    "      r=requests.get(url[j])\n",
    "    except requests.ConnectionError:\n",
    "      print(\"!!! Failed to download data\"\"\")\n",
    "    else:\n",
    "      with open(fname[j],\"wb\") as fid:\n",
    "        fid.write(r.content)\n",
    "\n",
    "from matplotlib import rcParams\n",
    "from matplotlib import pyplot as plt\n",
    "rcParams['figure.figsize'] = [20,4]\n",
    "rcParams['font.size']=15\n",
    "rcParams['axes.spines.top']= False\n",
    "rcParams['axes.spines.right']=False\n",
    "rcParams['figure.autolayout']=False\n",
    "\n",
    "alldat=np.array([])\n",
    "for j in range(len(fname)):\n",
    "  alldat = np.hstack((alldat,np.load('steinmetz_part%d.npz'%j, allow_pickle=True)['dat']))\n",
    "\n",
    "dat = alldat[11]\n",
    "print(\"Dataset downloaded !\") "
   ]
  },
  {
   "cell_type": "code",
   "execution_count": null,
   "metadata": {
    "id": "cqGziZbqQRHk"
   },
   "outputs": [],
   "source": [
    "dt = dat['bin_size'] #binning at 10ms\n",
    "NT = dat['spks'].shape[-1]\n",
    "\n",
    "ax = plt.subplot(1,5,1)\n",
    "response = dat['response'] #right - nogo - left (-1,0,0)\n",
    "vis_right = dat['contrast_right']\n",
    "vis_left = dat['contrast_left']\n",
    "plt.plot(dt*np.arange(NT),1/dt*dat['spks'][:,response>=0].mean(axis=(0,1)))\n",
    "plt.plot(dt*np.arange(NT),1/dt*dat['spks'][:,response<0].mean(axis=(0,1)))\n",
    "plt.plot(dt*np.arange(NT),1/dt*dat['spks'][:,vis_right>0].mean(axis=(0,1)))\n",
    "plt.plot(dt*np.arange(NT),1/dt*dat['spks'][:,vis_right==0].mean(axis=(0,1)))\n",
    "\n",
    "plt.legend(['left resp','right resp','right stim','no right stim'], fontsize=12)\n",
    "ax.set(xlabel='time (sec)',ylabel='firing rate (Hz)')\n",
    "plt.show()"
   ]
  },
  {
   "cell_type": "markdown",
   "metadata": {
    "id": "MhfYFIRwq0Ls"
   },
   "source": [
    "<font color=\"red\"> **Questions** \n",
    "</font>\n",
    "\n",
    "* How would you define neuron tuning? \n",
    "\n",
    "* Is there neuron tuning on the graph above? If yes, where? "
   ]
  }
 ],
 "metadata": {
  "colab": {
   "collapsed_sections": [],
   "include_colab_link": true,
   "name": "LGBIO2072_TP2.ipynb",
   "provenance": []
  },
  "kernelspec": {
   "display_name": "Python 3 (ipykernel)",
   "language": "python",
   "name": "python3"
  },
  "language_info": {
   "codemirror_mode": {
    "name": "ipython",
    "version": 3
   },
   "file_extension": ".py",
   "mimetype": "text/x-python",
   "name": "python",
   "nbconvert_exporter": "python",
   "pygments_lexer": "ipython3",
   "version": "3.8.10"
  }
 },
 "nbformat": 4,
 "nbformat_minor": 1
}
