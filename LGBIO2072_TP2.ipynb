{
  "nbformat": 4,
  "nbformat_minor": 0,
  "metadata": {
    "colab": {
      "name": "LGBIO2072_TP2.ipynb",
      "provenance": [],
      "collapsed_sections": []
    },
    "kernelspec": {
      "name": "python3",
      "display_name": "Python 3"
    }
  },
  "cells": [
    {
      "cell_type": "markdown",
      "metadata": {
        "id": "cegAd0Aws-mZ",
        "colab_type": "text"
      },
      "source": [
        "# TP2 - Firing Rate\n",
        "__Authors:__ Antoine de Comite and Florence Blondiaux\n",
        "\n",
        "__Content inspired from__: Neuromatch Academy github.com/NeuromatchAcademy"
      ]
    },
    {
      "cell_type": "code",
      "metadata": {
        "id": "zL8DsxwItIqg",
        "colab_type": "code",
        "colab": {}
      },
      "source": [
        "#Useful libraries and functions\n",
        "import numpy as np\n",
        "import matplotlib.pyplot as plt\n",
        "import pandas as pd\n",
        "\n",
        "def rand_syn(t,sigma = 0.1, imean = 25e-11):\n",
        "    dt = t[1]-t[0]\n",
        "    return imean * (1 + 0.1 * (np.sqrt(np.max(t)/dt)) * np.random.normal(0,sigma,len(t)))\n",
        "\n",
        "def LIF(input_current,t,  tau= 20e-3 , urest= -60e-3 , r= 100e6, ureset = -70e-3 \\\n",
        "               ,theta = -50e-3, t_ref = 10e-3 ): #TODO Add a description of function and remove content.\n",
        "    u = np.zeros_like(input_current)\n",
        "    ts = []\n",
        "    dt = t[1]-t[0]\n",
        "    S = np.zeros_like(input_current)\n",
        "    u[0]=urest\n",
        "    t_wait = 0\n",
        "    for step in range(0,len(input_current)-1):\n",
        "        if u[step] > theta:\n",
        "            u[step] = theta/1.2\n",
        "            u[step+1] = ureset\n",
        "            t_wait = t_ref/dt\n",
        "            ts.append((step+1)*dt)\n",
        "            S[step+1] = 1\n",
        "        elif t_wait >0:\n",
        "            u[step +1] = ureset\n",
        "            t_wait -=1\n",
        "        else:\n",
        "            u[step+1]=u[step] -dt/tau * (u[step]-urest) + r*dt/tau * input_current[step]\n",
        "    return u, ts\n",
        "\n",
        "def load_dataset():\n",
        "  url = 'https://raw.githubusercontent.com/fblondiaux/LGBIO2072-2020/master/ExtraContent/Output_Current.csv'\n",
        "  df = pd.read_csv(url, error_bad_lines=False)\n",
        "  S = df.to_numpy()\n",
        "  return S, 1e-3\n",
        "def plot_data(S):\n",
        "  for i in range(len(S)):\n",
        "    spike_times = S[i]\n",
        "    plt.scatter(np.where(S[i,:]==1),i*np.ones_like(np.where(S[i,:]==1)),facecolor='skyblue',edgecolor = \"white\")\n",
        "    plt.xlabel('Time [mS]')\n",
        "    plt.ylabel('Neuron')\n",
        "import ipywidgets as widgets  # interactive display\n",
        "%config InlineBackend.figure_format = 'retina'\n",
        "# use NMA plot style\n",
        "plt.style.use(\"https://raw.githubusercontent.com/NeuromatchAcademy/course-content/master/nma.mplstyle\")\n",
        "my_layout = widgets.Layout()\n"
      ],
      "execution_count": null,
      "outputs": []
    },
    {
      "cell_type": "markdown",
      "metadata": {
        "id": "LPbvQLLXstWK",
        "colab_type": "text"
      },
      "source": [
        "---\n",
        "## Raster plot\n",
        "\n",
        "A *raster plot* represents spikes from multiple neurons by plotting dots at spike times from neuron `j` at plot height `j`, i.e. It can be useful to visualise the activity of several neurons at the same time.\n",
        "```\n",
        "plt.scatter(spike_times, j*np.ones_like(spike_times))\n",
        "```\n",
        "\n",
        "![spikes plot](https://github.com/mpbrigham/colaboratory-figures/raw/master/nma/python-for-nma/spikes_plot.png)\n",
        "\n",
        "## Exercise 1\n",
        "Simulate the responses of 500 neurons to a random input current and create a rasterplot to compile their answers."
      ]
    },
    {
      "cell_type": "code",
      "metadata": {
        "id": "k907G77Vszfa",
        "colab_type": "code",
        "colab": {}
      },
      "source": [
        "\n",
        "def make_raster_plot(N,t_range,sigma=0.1):\n",
        "    \"\"\"Computes the answer of N neurons to a random synaptic input current\n",
        "    And plot the results on a raster plot\n",
        "    N : number of neurons\n",
        "    t_range : the timings we are investigating for all the neurons\n",
        "    sigma: Noise for the random current\n",
        "    \n",
        "    \"\"\"\n",
        "    dt = t_range[1]-t_range[0]\n",
        "    neurons= {}\n",
        "    for i in range(N):\n",
        "        input_current = rand_syn(t_range,sigma)\n",
        "        u,neurons[i] = LIF(input_current, t_range)\n",
        "\n",
        "    for i in range(N):\n",
        "        spike_times = neurons[i]\n",
        "        plt.scatter(spike_times, i*np.ones_like(spike_times),facecolor='skyblue',edgecolor = \"white\")\n",
        "    plt.xlabel('Time [S]')\n",
        "    plt.ylabel('Neuron')\n",
        "    plt.show()\n",
        "        \n",
        "\n",
        "t_max = 100e-3   # second\n",
        "dt = .1e-3        # second\n",
        "t_range = np.arange(0,t_max,dt)\n",
        "with plt.xkcd():\n",
        "  make_raster_plot(200,t_range,sigma=0.2)"
      ],
      "execution_count": null,
      "outputs": []
    },
    {
      "cell_type": "code",
      "metadata": {
        "id": "LO_D3yQjs5Io",
        "colab_type": "code",
        "colab": {}
      },
      "source": [
        "# @title\n",
        "# @markdown Make sure you execute this cell to enable the widget!\n",
        "my_layout.width = '450px'\n",
        "@widgets.interact(\n",
        "    sigma=widgets.FloatSlider(0.8, min=0, max=2, step=0.25, layout=my_layout)\n",
        "\n",
        ")\n",
        "\n",
        "def raster_plot(sigma = 0.8):\n",
        "    t_max = 150e-3   # second\n",
        "    dt = 1e-3        # second\n",
        "    step_end = int(t_max / dt) - 1\n",
        "    t_range = np.linspace(0,dt*step_end,step_end)\n",
        "    input_current = rand_syn(t_range,dt, sigma)\n",
        "    \n",
        "    make_raster_plot(200,t_range,sigma)\n",
        "\n"
      ],
      "execution_count": null,
      "outputs": []
    },
    {
      "cell_type": "markdown",
      "metadata": {
        "id": "spU0aoYVEN38",
        "colab_type": "text"
      },
      "source": [
        "---\n",
        "\n",
        "# Local linearities\n",
        "\n",
        "** Add an exercise where students have to implement different input and see that locally its linear even if we know that it is not in real life **"
      ]
    },
    {
      "cell_type": "markdown",
      "metadata": {
        "id": "LVOw_TqzsP8W",
        "colab_type": "text"
      },
      "source": [
        "---\n",
        "## Firing rate : Reiminder \n",
        "\n",
        "Spikes alone are not very informative, however, having closer look to the spikes train can bring very informative as looking at firing rate and spiking regularity. \n",
        "\n",
        "The firing rate can be approximated using a rectangle kernel. \n",
        "Let ${f_i}^n_{i=1}$ represent the firing times and $S(t) := \\sum_i \\delta(t-t_i)$ be the spike train.\n",
        "\n",
        "The firing rate, $p(t)$, is defined as the convolution of the spike train with a\n",
        "kernel function called $\\kappa(t)$: $$ \\rho(t):= \\kappa(t) *  S(t) = \\int \\kappa(t) S(t-s)ds$$\n",
        "\n",
        "The instantaneous firing rate depends on the choice of the kernel\n",
        "function !\n",
        "\n",
        "## Exercice 7\n",
        "\n",
        "Compute the firing rate using a rectangular kernel $ \\kappa(t)= (\\Delta t)^{-1} 1_{0 \\leq t \\leq \\Delta t} $. $\\rho(t)$ will therefore be the spike count in a sliding window of side $\\Delta t$.\n",
        "\n",
        "Hint: use the convolve function from numpy\n"
      ]
    },
    {
      "cell_type": "code",
      "metadata": {
        "id": "uVjqmtc2sTep",
        "colab_type": "code",
        "colab": {}
      },
      "source": [
        "#Firing rate\n",
        "\"\"\" \n",
        "Computes the firing rate of a neuron, needs in imput the spike train, and the kernel function. \n",
        "Output the firing rate.\"\"\"\n",
        "def firing_rate_rectKernel(S,dt = 1e-3, Dt = 0.2):\n",
        "    k = np.zeros(len(S[0,:]))\n",
        "    k[1:int(Dt/dt)] = 1 #Kernel \n",
        "    res = np.ones((10,6001)) # Il y à de manière évidente un problème quelque part, mais c'est vendredi et il est \n",
        "    # 4h, mon cerveau n'arrive plus à réfléchir --'\n",
        "    for i in range(np.size(S[:,0])):\n",
        "        res[i,:] = np.convolve(S[i,:], k) #A peu près sure que c'est dans les paramètres à donner à convovle : 'same, 'valid\n",
        "    return np.sum(res,axis=0)\n",
        "\n",
        "\n",
        "\n",
        "\n",
        "S, dt = load_dataset()\n",
        "plot_data(S)\n",
        "\n",
        "\n",
        "\n",
        "t_range = np.arange(0,3.001,1e-3)\n",
        "fig, axs = plt.subplots(2)\n",
        "axs[0].plot(t_range,np.sum(S,axis = 0))\n",
        "axs[0].set(title = \"Output of the neurons\", ylabel = \"Spikes\")\n",
        "axs[1].plot(t_range, firing_rate_rectKernel(S)[:3001]) #Je n'ai pas trouvé les bons paramètres pour la convolution, je suis obligée de supprimer le reste de l'output (que des 0s)\n",
        "axs[1].set(title = \"Firing rate\", ylabel = \"Frequency [Hz]\", xlabel= \"Time [S]\")\n",
        "plt.show()\n"
      ],
      "execution_count": null,
      "outputs": []
    },
    {
      "cell_type": "code",
      "metadata": {
        "id": "_TuA4z4ZsVyI",
        "colab_type": "code",
        "colab": {}
      },
      "source": [
        "# @title\n",
        "# @markdown Make sure you execute this cell to enable the widget!\n",
        "my_layout.width = '450px'\n",
        "@widgets.interact(\n",
        "    Dt=widgets.FloatSlider(0.2, min=0, max=0.5, step=0.025, layout=my_layout)\n",
        "\n",
        ")\n",
        "\n",
        "def firingRate(Dt = 0.2):\n",
        "        \n",
        "    t_range = np.arange(0,3.001,1e-3)\n",
        "    fig, axs = plt.subplots(2)\n",
        "    axs[0].plot(t_range,np.sum(S,axis = 0))\n",
        "    axs[0].set(title = \"Output of the neurons\", ylabel = \"Spikes\")\n",
        "    axs[1].plot(t_range, firing_rate_rectKernel(S,1e-3,Dt)[:3001])\n",
        "    axs[1].set(title = \"Firing rate\", ylabel = \"Frequency [Hz]\", xlabel= \"Time [S]\")\n",
        "    plt.show()"
      ],
      "execution_count": null,
      "outputs": []
    },
    {
      "cell_type": "markdown",
      "metadata": {
        "id": "r1Z90D9CEk2F",
        "colab_type": "text"
      },
      "source": [
        "# Various kernels\n",
        "\n",
        "Ex with a gaussian kernel, \n",
        "\n",
        "Exp kernel =  bonus"
      ]
    },
    {
      "cell_type": "markdown",
      "metadata": {
        "id": "j2UwMg5DsY3Z",
        "colab_type": "text"
      },
      "source": [
        "---\n",
        "# ISI intervals and coefficient of variation\n",
        "\n",
        "Spike regularity can be quantified as the **coefficient of variation (CV) of the inter-spike-interval (ISI)**:\n",
        "\\begin{align}\n",
        "\\text{CV}_{\\text{ISI}} = \\frac{std(\\text{ISI})}{mean(\\text{ISI})}\n",
        "\\end{align}\n",
        "\n",
        "The inter-spike-interval is simply the time between two spikes. \n",
        "\n",
        "A Poisson train is an example of high irregularity, in which $\\textbf{CV}_{\\textbf{ISI}} \\textbf{= 1}$. And for a clocklike (regular) process we have $\\textbf{CV}_{\\textbf{ISI}} \\textbf{= 0}$ because of **std(ISI)=0**.\n",
        "\n",
        "## Exercice 8\n",
        "Compute the inter-spike interval distribution as well as the coefficient of variation of signals provided in S to assess the stochasticity of neuron's activity. Plot the ISI distribution with an histogram to visualize the spike regularity of the neuron. \n",
        "\n",
        "Hint: look at the function hist of the matplotlib library"
      ]
    },
    {
      "cell_type": "code",
      "metadata": {
        "id": "rkwFCI6Xsayi",
        "colab_type": "code",
        "colab": {}
      },
      "source": [
        "S,dt = load_dataset()\n",
        "\"This function plots the ISI distribution of the neuron spike train and returns the coefficient of variation\"\n",
        "def plot_ISI(spikeTrain, dt):\n",
        "    ISI = np.diff((np.where(spikeTrain))[0]*dt)\n",
        "    plt.hist(ISI,150)\n",
        "    plt.xlabel('Time [S]')\n",
        "    plt.title(\"Histogram of the ISI distribution\")\n",
        "    plt.show()\n",
        "    return (np.std(ISI)/np.mean(ISI))\n",
        "CV = plot_ISI(S[1,:],dt)\n",
        "print(\"The coefficient of variaion of this neuron is\", CV)"
      ],
      "execution_count": null,
      "outputs": []
    },
    {
      "cell_type": "code",
      "metadata": {
        "id": "cgGieQP0sgAs",
        "colab_type": "code",
        "colab": {}
      },
      "source": [
        "# @title\n",
        "# @markdown Make sure you execute this cell to enable the widget!\n",
        "my_layout.width = '450px'\n",
        "@widgets.interact(\n",
        "    neuron=widgets.IntSlider(0, min=0, max=9, step=1, layout=my_layout)\n",
        "\n",
        ")\n",
        "\n",
        "def firingRate(neuron = 0):\n",
        "        \n",
        "    S = np.genfromtxt('Output_Current.csv', delimiter=',') #TO UPLOAD ON GITHUB\n",
        "    CV=plot_ISI(S[neuron,:],1e-3)\n",
        "    print(\"The CV for neuron\", neuron, \"is :\", CV)"
      ],
      "execution_count": null,
      "outputs": []
    }
  ]
}