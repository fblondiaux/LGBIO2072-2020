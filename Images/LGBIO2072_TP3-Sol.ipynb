{
 "cells": [
  {
   "cell_type": "markdown",
   "metadata": {
    "id": "uGmMBRwg7OQH"
   },
   "source": [
    "# LGBIO2072 - Mathematical models in Neuroscience\n",
    "# Chapter 3 - Dynamical networks and decision making \n",
    "\n",
    "**Authors** : Flo Blondiaux & Antoine de Comite\n",
    "\n",
    "\n",
    "**Professor** : Frederic Crevecoeur\n",
    "\n"
   ]
  },
  {
   "cell_type": "markdown",
   "metadata": {
    "id": "5ybMNhpVLzEL"
   },
   "source": [
    "**Imports and graph settings**"
   ]
  },
  {
   "cell_type": "code",
   "execution_count": null,
   "metadata": {
    "id": "YrXc6uYm67xv"
   },
   "outputs": [],
   "source": [
    "import numpy as np\n",
    "import matplotlib.pyplot as plt"
   ]
  },
  {
   "cell_type": "code",
   "execution_count": null,
   "metadata": {
    "cellView": "form",
    "id": "0DQ3BwHRhdHD"
   },
   "outputs": [],
   "source": [
    "# @title Figure Settings\n",
    "import ipywidgets as widgets  # interactive display\n",
    "%config InlineBackend.figure_format = 'retina'\n",
    "# use NMA plot style\n",
    "plt.style.use(\"https://raw.githubusercontent.com/NeuromatchAcademy/course-content/master/nma.mplstyle\")\n",
    "my_layout = widgets.Layout()"
   ]
  },
  {
   "cell_type": "markdown",
   "metadata": {
    "id": "VQog-ZZ3-tcL"
   },
   "source": [
    "## Introduction\n",
    "\n",
    "In the previous sessions, we saw that the communication between neurons is performed through the temporal pattern of the spiking train they transfer to their neighbours. However, when humans or animals perform a complex task such as choosing between a chocolate or a vanilla ice cream, more than one neuron is involved. In this session, we will study a model of neuronal population dynamics represented by a system of differential equations.\n",
    "\n",
    "At the end of this session you should be able to\n",
    "\n",
    "* Explain with your own words the different terms in the system of equations\n",
    "\n",
    "* Explain the notion of activation function\n",
    "\n",
    "* Model and understand the population' dynamics for the two excitatory populations\n",
    "\n",
    "* Investigate the fixed points\n",
    "\n",
    "* Model and understand the winner takes all model\n",
    "\n",
    "\n",
    "## Competition through common inhibition\n",
    "\n",
    "In this first section, we will consider a system characterised by two different populations, left and right, that can decide for different outcome of a binary decision. These two populations are inhibited by an inhibitory population (the lower population on the figure).\n",
    "\n",
    "The dynamic of the three populations present in this system can be described by equations 1 to 3.\n",
    "\\begin{eqnarray}\n",
    "& & \\\\\n",
    "\\tau _E \\frac{dh_{E,1}}{dt} & = & -h_{E,1} + w_{EE}g_E(h_{E,1}) +  w_{EI}g_{inh}(h_{inh}) + RI_1 \\tag{1}\\\\\n",
    "\\tau _E \\frac{dh_{E,2}}{dt} & = & -h_{E,2} + w_{EE}g_E(h_{E,2}) +  w_{EI}g_{inh}(h_{inh}) + RI_2 \\tag{2} \\\\\n",
    "\\tau _{inh} \\frac{dh_{inh}}{dt} & = & -h_{inh} + w_{IE}g_E(h_{E,1}) +  w_{IE}g_{E}(h_{E,2}) \\tag{3}\\\\\n",
    "& &\n",
    "\\end{eqnarray}\n",
    "The first two equations represent the two excitatory populations $h_{E,1}$ and $h_{E_2}$ while the parameters $\\tau_E$ and $\\tau_{inh}$ are the time constants for the excitatory and inhibitory processes respectively. The terms $h_{E,1}$, $h_{E,2}$ and $h_{inh}$ are proxies of the different populations' potentials(respectively the two excitatory populations and the inhibitory one). The parameters $w_{EE}$, $w_{EI}$ and $w_{IE}$ are factors that characterise the strength of the excitatory and inhibitory interactions. You can observe that the different population potentials are passed as an argument of functions $g_E$ and $g_{inh}$. These functions are called activation functions, we will investigate them later on. \n",
    "\n",
    "This model can be simplified into a 2-dimensional model that does not involve the inhibitory population anymore (see book for detailed developments **or you can try to do it yourself as a bonus**).\n",
    "\n",
    "\\begin{eqnarray}\n",
    "& &\\\\\n",
    "\\tau _E \\frac{dh_{E,1}}{dt} & = &  -h_{E,1} + (w_{EE}-\\alpha)g_E(h_{E,1}) - \\alpha g_E(h_{E,2}) + RI_1 \\tag{4}\\\\\n",
    "\\tau _E \\frac{dh_{E,2}}{dt} & =&  -h_{E,2} + (w_{EE}-\\alpha)g_E(h_{E,2}) - \\alpha g_E(h_{E,1}) + RI_2 \\tag{5}\\\\\n",
    "& & \n",
    "\\end{eqnarray}\n",
    "\n",
    "with $\\alpha = - \\gamma w_{EI} w_{IE}$ where $\\gamma$ is the slope of the gain function of the inhibitory neurons (see the definition of activation functions). And with the activation function :  $g = (1 + tanh(h-\\theta)) A_{max} / 2$ (see [book](https://neuronaldynamics.epfl.ch/online/Ch16.S3.html) for more details).\n",
    "\n",
    "<img alt='Solution hint' align='center' width=413 height=300 src=https://neuronaldynamics.epfl.ch/online/x519.png>\n",
    "\n"
   ]
  },
  {
   "cell_type": "markdown",
   "metadata": {
    "id": "c7QPAtIeQ3x3"
   },
   "source": [
    "## Implementation the activation function\n",
    "\n",
    "In the differential equations systems we saw above, we defined an activation function that was applied to the population's potentials. In this first exercice, you will be implementing this activation function and investigating how its parameters influence its shape. \n",
    "\n",
    "\n",
    "**Exercise 1**\n",
    "\n",
    "Implement the activation whose definition is given above by filling the following blanks in the code."
   ]
  },
  {
   "cell_type": "code",
   "execution_count": null,
   "metadata": {
    "colab": {
     "base_uri": "https://localhost:8080/",
     "height": 430
    },
    "id": "8xgraM_cRtnN",
    "outputId": "055cd99d-50d9-40d2-a590-36d31d4be5ad"
   },
   "outputs": [],
   "source": [
    "def geval(hi,theta=1,Amax=1):\n",
    "  \"\"\"\n",
    "  Computes the values of the activations functions for all neuronal population given their respective potentials\n",
    "\n",
    "  Inputs : \n",
    "    hi is a vector containing the potential of the populations\n",
    "    theta is the threshold parameter\n",
    "    Amax is the gain parameter \n",
    "\n",
    "  Outputs : \n",
    "    feval is the value of the activation functions\n",
    "  \"\"\"\n",
    "  feval = (1+np.tanh(hi-theta))*Amax/2\n",
    "  ######################\n",
    "  ### your code here ###\n",
    "  ######################\n",
    "\n",
    "  return feval\n",
    "\n",
    "\n",
    "#Run the lines below to test your code \n",
    "\n",
    "hi_input = np.arange(-5,5,0.05)\n",
    "feval = geval(hi_input)\n",
    "\n",
    "fig, ax = plt.subplots()\n",
    "ax.plot(hi_input,feval,color='red',linewidth=2)\n",
    "ax.set_xlabel(\"Input population potential\")\n",
    "ax.set_ylabel(\"Activation function value\")\n",
    "plt.show()"
   ]
  },
  {
   "cell_type": "markdown",
   "metadata": {
    "id": "FNdT1FJXejdi"
   },
   "source": [
    "**Use the widget below to investigate the effect of the gain and threshold on this activation function**"
   ]
  },
  {
   "cell_type": "code",
   "execution_count": null,
   "metadata": {
    "cellView": "form",
    "colab": {
     "base_uri": "https://localhost:8080/",
     "height": 494,
     "referenced_widgets": [
      "39fc07ae0b9c4f72a695566c4430221a",
      "4292962e337146a1af317f8246db1dc4",
      "e41a6892271c4c3787b55b28b989a751",
      "543236befbaa4cf9a198fce79290476d",
      "501c4e2e97f24ecd904d40aacaf5649a",
      "2599d21a14b24fdfb6e19541ce1cb8e7",
      "830a03d79d0c47a4b5c6c266d5b7ba94",
      "34db624589704618afdd664640591e11",
      "35c18c823f7f4fe3b338a47109554c16"
     ]
    },
    "id": "ozbZJ7iPfBXN",
    "outputId": "def41735-c60a-4d70-fbad-7ed87eaeb008"
   },
   "outputs": [],
   "source": [
    "# @title Run this cell to execute the widget\n",
    "my_layout.width=\"450pt\"\n",
    "@widgets.interact(\n",
    "    theta=widgets.FloatSlider(0,min=-4,max=4,step=0.2,layout=my_layout),\n",
    "    Amax=widgets.FloatSlider(2.5,min=0,max=5,step=0.25,layout=my_layout),\n",
    ")\n",
    "\n",
    "def investigate_acti(theta=0,Amax=2.5):\n",
    "  h_span = np.arange(-5,5,0.05)\n",
    "  feval = geval(h_span,theta,Amax)\n",
    "\n",
    "  fig,ax = plt.subplots()\n",
    "  ax.plot(h_span,feval,color=\"red\",linewidth=2)\n",
    "  ax.set_xlabel(\"Input population potential\")\n",
    "  ax.set_ylabel(\"Activation function\")\n",
    "  plt.xlim([-5, 5])\n",
    "  plt.ylim([0,5])\n"
   ]
  },
  {
   "cell_type": "markdown",
   "metadata": {
    "id": "BHq448H1jzjx"
   },
   "source": [
    "**Questions**\n",
    "\n",
    "* Why do you think we need to use this activation function? \n",
    "\n",
    "* What are the roles of the threshold and amplitude parameters (mathematically & physiologically)"
   ]
  },
  {
   "cell_type": "markdown",
   "metadata": {
    "id": "6x0cJ4wHIqc-"
   },
   "source": [
    "## Modelling of the system\n",
    "Now that we understand all the terms of the equations, it is time to model their evolution. To do so, we need to discretize the system and to get rid of the differential equations. You can use [Euler methods](https://en.wikipedia.org/wiki/Euler_method) or other numerical integration methods to discretize the system.\n",
    "\n",
    "**Exercise 2**\n",
    "\n",
    "Once you obtain your discretized system, use the following parameters to implement its evolution.\n",
    "\n",
    " \n",
    "| Parameter | Value |\n",
    "|-----------|-------|\n",
    "| $\\alpha$  | 1     |\n",
    "| $w_{EE}$  | 1.5   |\n",
    "| $RI_1$    | 0.8   |\n",
    "| $RI_2$    | 0.75  |"
   ]
  },
  {
   "cell_type": "code",
   "execution_count": null,
   "metadata": {
    "colab": {
     "base_uri": "https://localhost:8080/",
     "height": 431
    },
    "id": "N8xryGhX7OQY",
    "outputId": "d0c80bb0-c5eb-4a0a-81d6-a301a4e6aab6"
   },
   "outputs": [],
   "source": [
    "def simulatePopEv(RI, h0,pars):\n",
    "    \"\"\"\n",
    "    This function models the temporal evolution of the system characterized by two excitatory populations inhibited by the same inhibiting population\n",
    "\n",
    "    Inputs : \n",
    "    -RI (numpy array) contains the time-evolution of the input currents (each row contains an input current)\n",
    "    -h0 (numpy array) contains the initial values of the populations' potentials\n",
    "    -pars is a dictionnary that contains the following task parameters\n",
    "      sim_time : the simulation time\n",
    "      dt : the time step\n",
    "      tau : the system's time constant\n",
    "      wee : the self-excitatory parameter\n",
    "      alpha : the inhibition parameter\n",
    "\n",
    "    Outputs :\n",
    "    -h (numpy array) contains the time evolution of the two populations' potentials\n",
    "\n",
    "    \"\"\"\n",
    "    sim_time = pars['sim_time']\n",
    "    dt = pars['dt']\n",
    "    tau = pars['tau']\n",
    "    wee = pars['wee']\n",
    "    alpha = pars['alpha']\n",
    "    theta = pars['theta']\n",
    "    amax = pars['amax']\n",
    "    h = np.zeros((2,int(sim_time/dt)))\n",
    "    h[:,0] = h0 \n",
    "    for i in range(int(sim_time/dt)-1):\n",
    "      h[0,i+1] = (1-dt/tau)*h[0,i] + (wee-alpha)*dt/tau * geval(h[0,i]) - alpha*dt/tau * geval(h[1,i])+ dt/tau * RI[0,i]\n",
    "      h[1,i+1] = (1-dt/tau)*h[1,i] + (wee-alpha)*dt/tau * geval(h[1,i]) - alpha*dt/tau * geval(h[0,i])+ dt/tau * RI[1,i]\n",
    "\n",
    "    return h\n",
    "\n",
    "#Run the lines below to test your code \n",
    "\n",
    "pars = {'sim_time':0.5,'dt':1e-3,'tau':10e-3,'wee':1.5,'alpha':1,'theta':1,'amax': 1}\n",
    "RI = np.vstack((0.8*np.ones(500),0.75*np.ones(500)))\n",
    "h0 = np.zeros(2)\n",
    "h = simulatePopEv(RI,h0,pars)\n",
    "\n",
    "fig, ax = plt.subplots()\n",
    "ax.plot(h[0,:],label='Population 1',linewidth=2)\n",
    "ax.plot(h[1,:],label='Population 2',linewidth=2)\n",
    "ax.set_xlabel('Time [ms]')\n",
    "ax.set_ylabel('Population potential [a.u.]')\n",
    "plt.legend()\n",
    "#plt.ylim([0, 1])\n",
    "plt.xlim([0,500])\n",
    "\n",
    "plt.show()\n"
   ]
  },
  {
   "cell_type": "markdown",
   "metadata": {
    "id": "S9dFXN-ktl3E"
   },
   "source": [
    "**Answer the following questions before going further**\n",
    "\n",
    "* What does that graph represent? What are the two lines you observe?\n",
    "\n",
    "* Why is there a plateau after some time? What does it physiologically correspond to? \n",
    "\n",
    "* How could you change the 'speed' at which this plateau is reached?\n"
   ]
  },
  {
   "cell_type": "markdown",
   "metadata": {
    "id": "paFyirGMuFBC"
   },
   "source": [
    "## Phase plane analysis\n",
    "\n",
    "Some better tools are available for the representation of the time-evolution of the population dynamics. One of these is the so-called *phase plane analysis*. In this representation, the dynamics of the system is represented using vector fields and trajectories. \n",
    "\n",
    "Go through the function below to understand what the phase plane analysis is and what it does represent. There are some questions after the code cell to verify that you understood properly."
   ]
  },
  {
   "cell_type": "code",
   "execution_count": null,
   "metadata": {
    "colab": {
     "base_uri": "https://localhost:8080/",
     "height": 430
    },
    "id": "SSqSNLfXREyB",
    "outputId": "f1c42b04-54f1-4c92-c2db-88bb39fae050"
   },
   "outputs": [],
   "source": [
    "def PhasePlaneAnalysis(RI,h0init,pars):\n",
    "    \"\"\"\n",
    "    Authors : Antoine de Comite and Flo Blondiaux\n",
    "    PhasePlaneAnalysis is a function that allows to perform phase plane\n",
    "    analysis\n",
    "      The aim of this function is to investigate the stability of the model\n",
    "      of the three populations in decision making. It has no outputs but\n",
    "      represents a graph containing different pieces of information.\n",
    "      ---> A vector field showing the evolution of the ODE system, the\n",
    "      different vectors show toward which direction the solution is moving at any\n",
    "      point of the meshgrid.\n",
    "      ---> The trajectories of the solutions you've selected (starting from\n",
    "      circle toward square)\n",
    "\n",
    "    INPUTS :\n",
    "    -RI (numpy array) contains the value of the input evidences for choice 1 and 2 rowwise\n",
    "    -h0_init (numpy_array) contains the candidates for the initial position of the trajectories\n",
    "\n",
    "    OUTPUTS :\n",
    "    - No outputs\n",
    "    \n",
    "    What can be modified without too much damages in this code?\n",
    "    -The parameters of section 0 if you want to have a global overview of\n",
    "    their influence\n",
    "    - The meshgrid itself (linspaces y1 and y2, but keep the name)\n",
    "    \"\"\"\n",
    "  \n",
    "    #Phase plane analysis implementation\n",
    "\n",
    "    y1= np.linspace(-2.5,2.5,20)\n",
    "    y2 = np.linspace(-2.5,2.5,20)\n",
    "\n",
    "    [x,y] = np.meshgrid(y1,y2)\n",
    "    u= np.zeros_like(x)\n",
    "    v= np.zeros_like(y)\n",
    "    pars['sim_time'] = 2e-3\n",
    "\n",
    "    for i in range(len(x)):\n",
    "        for j in range(len(x)):\n",
    "            Hprime = simulatePopEv(RI[:,:2],[x[i,j],y[i,j]],pars)\n",
    "            u[i,j]= Hprime[0,1]\n",
    "            v[i,j]= Hprime[1,1]\n",
    "    ax = plt.plot()\n",
    "    plt.quiver(x,y,u-x,v-y,units='width') \n",
    "\n",
    "    pars['sim_time'] = .5\n",
    "    for ii in range(h0init.shape[1]):\n",
    "        h = simulatePopEv(RI,h0init[:,ii],pars)\n",
    "        plt.plot(h[0,:],h[1,:],color=\"orange\")\n",
    "        plt.plot(h[0,-1],h[1,-1],color=\"green\",marker='o',markersize=8)\n",
    "    plt.title(\"Phase plane analysis\")\n",
    "    plt.xlabel('h_1')\n",
    "    plt.ylabel('h_2')\n",
    "\n",
    "\n",
    "#These lines call the function above and perform phase plane analysis\n",
    "\n",
    "pars = {'sim_time':0.5,'dt':1e-3,'tau':10e-3,'wee':1.5,'alpha':1,'theta':1,'amax': 1}\n",
    "RI = np.vstack((0.8*np.ones(500),0.75*np.ones(500)))\n",
    "h0_2 = np.linspace(-2,2,15)\n",
    "h0 = np.vstack((0.5*np.ones(15),h0_2))\n",
    "\n",
    "PhasePlaneAnalysis(RI,h0,pars)\n"
   ]
  },
  {
   "cell_type": "markdown",
   "metadata": {
    "id": "GgiN6p1-zG1n"
   },
   "source": [
    "**Answer the following questions**\n",
    "\n",
    "* What does the vector field represent? \n",
    "\n",
    "* What does the different trajectories correspond to? Could you find a parallel with what you did before?\n",
    "\n",
    "* What does the dot(s) correspond to? "
   ]
  },
  {
   "cell_type": "markdown",
   "metadata": {
    "id": "DAYabjae2ww2"
   },
   "source": [
    "## Finding the stationnary points\n",
    "\n",
    "As you observed in the two preceeding exercises, the system of differential equations stabilises at stationnary points. In exercise 2 and in the phase plane analysis, we determined these fixed points graphically. However, it is possible to determine them analytically. To do so, we have to determine the set of points that nullify the system of differential equations. \n",
    "\n",
    "**Exercise 3a**\n",
    "\n",
    "Find analytically from the first equation, an expression of $h_2(h_1)$ of the sets of points that nullify this equation and from the second equation, the set of points $h_1(h_2)$ that nullify this second equation.\n",
    "\n",
    "\n",
    "**Exercise 3b**\n",
    "\n",
    "Implement the function below to represent the nullclines (=lines where the equations cancel) in the phase plane. "
   ]
  },
  {
   "cell_type": "code",
   "execution_count": null,
   "metadata": {
    "colab": {
     "base_uri": "https://localhost:8080/",
     "height": 465
    },
    "id": "w8IhFfv_n_kM",
    "outputId": "40049e56-9dad-4e26-cbfa-6636ecdd7d6b"
   },
   "outputs": [],
   "source": [
    "def nullclines2D(h_span, alpha,RI1,RI2,wee, Amax = 1, theta = 1):\n",
    "  \"\"\"\n",
    "  This functions computes the nullclines corresponding to the differential equations system\n",
    "\n",
    "  Input : \n",
    "  -h_span is the set of points on which we want to evaluate the nullclines\n",
    "  -alpha and wee are parameters of the equations\n",
    "  -RI1 and RI2: input current (float)\n",
    "  \"\"\"\n",
    "\n",
    "  h2_eq1 = np.zeros_like(h_span)\n",
    "  h1_eq2 = np.zeros_like(h_span)\n",
    "  ######################\n",
    "  ### your code here ###\n",
    "  ######################\n",
    "  for k in range(len(h_span)):\n",
    "    h2_eq1[k] = np.arctanh(2/(Amax*alpha)*(-h_span[k]+(wee-alpha)*geval(h_span[k])+RI1)-1)+theta\n",
    "    h1_eq2[k] = np.arctanh(2/(Amax*alpha)*(-h_span[k]+(wee-alpha)*geval(h_span[k])+RI2)-1)+theta\n",
    "\n",
    "  return h2_eq1,h1_eq2\n",
    "\n",
    "\n",
    "\n",
    "# Run the lines below to test your code \n",
    "\n",
    "\n",
    "vec1,vec2 = nullclines2D(np.arange(-2,2,0.1),1,0.8,0.75,1.5)\n",
    "fig, ax = plt.subplots()\n",
    "ax.plot(np.arange(-2,2,0.1),vec1,color=\"red\",linewidth=2)\n",
    "ax.plot(vec2,np.arange(-2,2,0.1),color=\"blue\",linewidth=2)\n",
    "ax.set_xlabel('Population 1')\n",
    "ax.set_ylabel('Population 2')\n",
    "ax.set_xlim([-2 ,2])\n",
    "ax.set_ylim([-2,2])\n",
    "plt.show()"
   ]
  },
  {
   "cell_type": "markdown",
   "metadata": {
    "id": "yqnW3v9s-YeH"
   },
   "source": [
    "**Questions**\n",
    "\n",
    "* How would you interpret this graph? What do you observe on it?\n",
    "\n",
    "* Could you make any parallelism with the phase plane analysis? \n"
   ]
  },
  {
   "cell_type": "markdown",
   "metadata": {
    "id": "Wc2Wn1PuqXWv"
   },
   "source": [
    "## Taking a decision with noisy inputs\n",
    "\n",
    "**Exercise 4**\n",
    "\n",
    "Implement a function that generates noisy evidence inputs for the two populations and investigate its effect on the decision making process.\n",
    "\n",
    "\n",
    "**Modify** the parameter `sigma` to change the noise level, what do you observe? \n",
    "\n",
    "\n",
    "*Note* : For this exercise, we modify the tau parameter to highlight the speed-accuracy tradeoff"
   ]
  },
  {
   "cell_type": "code",
   "execution_count": null,
   "metadata": {
    "colab": {
     "base_uri": "https://localhost:8080/",
     "height": 430
    },
    "id": "76ifHTRN7OQ1",
    "outputId": "35c18ec4-96d6-4354-a7ca-450a3c7a1371"
   },
   "outputs": [],
   "source": [
    "def noisy_input(mean_intensity,noise_level,length):\n",
    "    \"\"\"\n",
    "    This function creates a noisy input evidence for the two populations model\n",
    "    Inputs : \n",
    "    -mean_intensity is the mean input current\n",
    "    -noise_level is the variance of the noise on the input current\n",
    "    -length is the time span of the input current\n",
    "    Outputs : \n",
    "    -noisy_input is the resulting noisy input \n",
    "    \"\"\"\n",
    "    ######################\n",
    "    ### your code here ###\n",
    "    ######################\n",
    "    noisy_input= np.random.normal(loc=mean_intensity, scale=noise_level, size = length)\n",
    "    \n",
    "    return noisy_input\n",
    "\n",
    "#Run the lines below to test your code and investigate the noise effect on the population dynamics\n",
    "sigma = 0.1\n",
    "pars['sim_time'] = 0.5\n",
    "pars['tau'] = 100e-3\n",
    "h = simulatePopEv(np.vstack((noisy_input(0.7,sigma,500),noisy_input(0.69,sigma,500))),[0,0],pars)\n",
    "\n",
    "fig, ax = plt.subplots()\n",
    "ax.plot(range(500),h[0,:],label='Population 1',color='red',linewidth=2)\n",
    "ax.plot(range(500),h[1,:],label='Population 2',color='blue',linewidth=2)\n",
    "ax.legend()\n",
    "ax.set_xlabel('Time [ms]')\n",
    "ax.set_ylabel('Population potential')\n",
    "plt.show()"
   ]
  },
  {
   "cell_type": "markdown",
   "metadata": {
    "id": "iDh0807HpC6s"
   },
   "source": [
    "**Questions**\n",
    "\n",
    "* What potential issue could you see with this kind of input evidence?\n",
    "\n",
    "* How could you circumvent these isues?"
   ]
  },
  {
   "cell_type": "markdown",
   "metadata": {
    "id": "AmDMLPkpq4nj"
   },
   "source": [
    "## Speed accuracy tradeoff\n",
    "\n",
    "When you take decision or perform actions, time is one of the main parameter. In decision making and motor control, it is known to induce *speed-accuracy tradeoff*. Speed-accuracy tradeoff tells that if you increase the speed of a movement or decrease the time to take a decision, you will affect the accuracy in a negative manner. In this exercise, we will investigate how this effect affects our two population model.\n",
    "\n",
    "**Exercise 5**\n",
    "\n",
    "Run a few simulations and plot the accuracy in the answers based on the time the subject has to take his decision.\n",
    "\n",
    "What happens if the input is more noisy, or if the input to the two population is not as clear ? "
   ]
  },
  {
   "cell_type": "code",
   "execution_count": null,
   "metadata": {
    "colab": {
     "base_uri": "https://localhost:8080/",
     "height": 447
    },
    "id": "CQvdLARPVMVV",
    "outputId": "5c0cd7d3-1758-4286-ee27-9eaa928a36ca"
   },
   "outputs": [],
   "source": [
    "def speed_accuracy_tradeoff(RI1,RI2,h0,time_range,niter):\n",
    "    \"\"\"\n",
    "    This function evaluates the speed accuracy tradeoff for the two populations dynamics\n",
    "   \n",
    "    Inputs : \n",
    "    -RI (numpy array) contains the input currents\n",
    "    -h0 initial potential \n",
    "    -time_range is the time range we want to evaluate\n",
    "    -niter is the number of iterations for each time step \n",
    "\n",
    "    Outputs:\n",
    "    -accuracy vector (contains the accuracy for each time)\n",
    "    \"\"\"\n",
    "    accuracy_vector = np.zeros_like(time_range)\n",
    "  \n",
    "    idx = 0\n",
    "    for time in time_range:\n",
    "        pars['sim_time'] = time\n",
    "        accuracy=0\n",
    "        for n in range(niter):\n",
    "            RI = np.vstack((noisy_input(RI1,sigma,500),(noisy_input(RI2,sigma,500))))\n",
    "            h = simulatePopEv(RI,h0,pars)\n",
    "            if np.sum(h[0,:])>np.sum(h[1,:]):\n",
    "                accuracy +=1\n",
    "        accuracy_vector[idx] = accuracy/niter\n",
    "        idx +=1\n",
    "    return accuracy_vector\n",
    "\n",
    "# Run the lines below to test your code \n",
    "pars = {'sim_time':0.5,'dt':1e-3,'tau':10e-3,'wee':1.5,'alpha':1,'theta':1,'amax': 1}\n",
    "sigma=0.1\n",
    "h0 = [0,0]\n",
    "time_range = np.arange(.05,.5,.01)\n",
    "accuracy_vector = speed_accuracy_tradeoff(RI1=0.7,RI2=0.69,h0=h0,time_range=time_range,niter=100)\n",
    "fig,ax = plt.subplots()\n",
    "ax.plot(time_range,accuracy_vector)\n",
    "plt.plot()"
   ]
  },
  {
   "cell_type": "markdown",
   "metadata": {
    "id": "UxD9TSOpt-ny"
   },
   "source": [
    "# Winner takes all or what happens when we have more than two potential outcomes? \n",
    "\n",
    "The framework we developped above can be extended to model problems where there are more than two different outcomes at the decision process. In this case, every population will get its own input current $RI_i$ and will inhibit all the other populations. We therefore have the following differential equation for each single population\n",
    "\n",
    "\\begin{eqnarray}\n",
    "& & \\\\\n",
    "\\tau \\dfrac{dh_k}{dt} = -h_k + w_0 g\\left(h_k\\right) - \\alpha \\sum_{j\\neq k}g\\left(h_j\\right) + RI_k\n",
    "& & \\\\\n",
    "\\end{eqnarray}\n",
    "\n",
    "**Question**\n",
    "\n",
    "* How would you explain each term of these equations?\n",
    "\n",
    "**Exercise 6**\n",
    "\n",
    "Implement the winner takes all model by filling the function whose definition is given below\n",
    "\n"
   ]
  },
  {
   "cell_type": "code",
   "execution_count": null,
   "metadata": {
    "colab": {
     "base_uri": "https://localhost:8080/",
     "height": 430
    },
    "id": "YDBKuN4aUW1y",
    "outputId": "8e1308e7-a5e8-4e6e-db92-d01c46e185fa"
   },
   "outputs": [],
   "source": [
    "def simulate_wta(h0,RI,sim_time=.500,dt=1e-3,tau=10e-3,we=1,alpha=2):\n",
    "  \"\"\"\n",
    "  This function models the winner takes all mechanism. It models the time-evolution of the different populations potential\n",
    "\n",
    "  Inputs : \n",
    "    h0 is the initial potentials\n",
    "    sim_time is the number of time steps we want to simulate\n",
    "    dt is the length of the time step\n",
    "    tau is the time constant of the system (assumed the same for all populations)\n",
    "    we is the self excitatory constant\n",
    "    alpha is the inhibitory constant\n",
    "  Outputs : \n",
    "    h is the time evolution of populations' potentials\n",
    "  \"\"\"\n",
    "\n",
    "  ######################\n",
    "  ### your code here ###\n",
    "  ######################\n",
    "  h = np.zeros((len(h0),int(sim_time/dt)))\n",
    "  h[:,0]= h0\n",
    "  for time in range(int(sim_time/dt)-1):\n",
    "    gH = geval(h[:,time])\n",
    "    for pop in range(len(h0)):\n",
    "        h[pop,time+1] = h[pop,time] + dt/tau * (-h[pop,time] + we*gH[pop] - alpha * np.sum(gH[range(len(h0)) != pop]) + RI[pop]) \n",
    "\n",
    "  return h\n",
    "\n",
    "#Run the lines below to test your code \n",
    "\n",
    "\n",
    "h0 = [0.1,0,0]\n",
    "RI = [0.5,0.7,1]\n",
    "h = simulate_wta(h0,RI)\n",
    "\n",
    "fig, ax = plt.subplots()\n",
    "ax.plot(range(500),h[0,:],color=\"red\",label='Population 1')\n",
    "ax.plot(range(500),h[1,:],color=\"blue\",label='Population 2')\n",
    "ax.plot(range(500),h[2,:],color=\"green\",label='Population 3')\n",
    "ax.set_xlabel('Time [ms]')\n",
    "ax.set_ylabel('')\n",
    "plt.legend()\n",
    "plt.show()"
   ]
  },
  {
   "cell_type": "markdown",
   "metadata": {
    "id": "oirBwim-xcOJ"
   },
   "source": [
    "**Questions**\n",
    "\n",
    "Change the values of the initial potentials as well as those of the input current to investigate this process (`h0` and `RI` respectively)"
   ]
  },
  {
   "cell_type": "markdown",
   "metadata": {
    "id": "vaRRyO7FzOAC"
   },
   "source": [
    "## Visualization of the populations' dynamics\n",
    "\n",
    "Run the two cells below to explore 3d representation of the populations' dynamics.\n",
    "\n",
    "The **first** graph represents the vector field, if you want to you can modify the input currents to chagne the shape of the vector field and explore the different potential versions. You can also change the angle of view by modifying the parameters `elev` and `azim` at the second to last line. \n",
    "\n",
    "\n",
    "\n",
    "The **second** graph represents slabs of the first one take respectively along the x-, y- and z-axis. Moving the widget will change the selected slab."
   ]
  },
  {
   "cell_type": "code",
   "execution_count": null,
   "metadata": {
    "cellView": "form",
    "colab": {
     "base_uri": "https://localhost:8080/",
     "height": 718
    },
    "id": "ae7TSwsNAJHc",
    "outputId": "aeb42305-425a-43e9-b963-9e4136840a56"
   },
   "outputs": [],
   "source": [
    "# @title Make sure to execute this cell\n",
    "\n",
    "from mpl_toolkits.mplot3d import Axes3D\n",
    "fig = plt.figure(figsize=(20,10))\n",
    "\n",
    "ax = fig.add_subplot(projection='3d')\n",
    "\n",
    "x,y,z = np.meshgrid(np.arange(-1.5,1.6,0.4),\n",
    "                    np.arange(-1.5,1.6,0.4),\n",
    "                    np.arange(-1.5,1.6,0.4))\n",
    "u = np.zeros_like(x)\n",
    "v = np.zeros_like(y)\n",
    "w = np.zeros_like(z)\n",
    "for ix in range(len(x)):\n",
    "  for iy in range(len(y)):\n",
    "    for iz in range(len(z)):\n",
    "      h=simulate_wta([x[ix,iy,iz],y[ix,iy,iz], z[ix,iy,iz]],[1,0.5,1],sim_time=0.002)\n",
    "      u[ix,iy,iz] = h[0,-1]\n",
    "      v[ix,iy,iz] = h[1,-1]\n",
    "      w[ix,iy,iz] = h[2,-1]\n",
    "ax.quiver(x,y,z,u-x,v-y,w-z,length=1,normalize=False)\n",
    "ax.set_xlabel('Population 1')\n",
    "ax.set_ylabel('Population 2')\n",
    "ax.set_zlabel('Population 3')\n",
    "\n",
    "\n",
    "pos_init1 = [0,0,0]\n",
    "h = simulate_wta(pos_init1,[1,0.5,1])\n",
    "ax.plot(h[0,:],h[1,:],h[2,:],color=\"orange\")\n",
    "ax.scatter(h[0,-1],h[1,-1],h[2,-1],color=\"green\",marker='o')\n",
    "ax.view_init(elev=10., azim=60)\n",
    "plt.show()"
   ]
  },
  {
   "cell_type": "code",
   "execution_count": null,
   "metadata": {
    "cellView": "form",
    "colab": {
     "base_uri": "https://localhost:8080/",
     "height": 526,
     "referenced_widgets": [
      "9cc700d35199444aa046597a6b65a7e2",
      "02b98f3411e041788cbc3cbf463cc443",
      "8274b09b935341b6b6f5ff53affae687",
      "3df0fdb7355f41b4913f01d3d208faeb",
      "fbc557f157944ca3b63a2ed42dee6e0f",
      "51ce4511d1124fdbb90c98a9e93bd914",
      "2599d21a14b24fdfb6e19541ce1cb8e7",
      "634058f25fe14bafa41bb1ede48956c6",
      "4cb4e5278fd34acda56f19d4b02c4c95",
      "5a3c36e35c694b14ae815d4f8ab5a795",
      "6941a478564442fcad2f6620ecd15a1f"
     ]
    },
    "id": "RSKuMjkhe1Q3",
    "outputId": "ec4ac059-2dda-4fdd-880b-489e17842adb"
   },
   "outputs": [],
   "source": [
    "# @title Widget to show the 2D evolution of the different slabs\n",
    "# (i'm starting to turn crazy)\n",
    "my_layout.width='450px'\n",
    "@widgets.interact(\n",
    "    xslab=widgets.FloatSlider(0,min=-1.5,max=1.5,step=0.1,layout=my_layout),\n",
    "    yslab=widgets.FloatSlider(0,min=-1.5,max=1.5,step=0.1,layout=my_layout),\n",
    "    zslab=widgets.FloatSlider(0,min=-1.5,max=1.5,step=0.1,layout=my_layout)\n",
    ")\n",
    "\n",
    "def slab_rpz(xslab=0,yslab=0,zslab=0):\n",
    "\n",
    "  y_xslab,z_xslab = np.meshgrid(np.arange(-1.5,1.6,0.4),\n",
    "                                np.arange(-1.5,1.6,0.4))\n",
    "  x_yslab,z_yslab = np.meshgrid(np.arange(-1.5,1.6,0.4),\n",
    "                                np.arange(-1.5,1.6,0.4))\n",
    "  x_zslab,y_zslab = np.meshgrid(np.arange(-1.5,1.6,0.4),\n",
    "                                np.arange(-1.5,1.6,0.4))\n",
    "  \n",
    "  v_yz = np.zeros_like(y_xslab)\n",
    "  w_yz = np.zeros_like(z_xslab)\n",
    "\n",
    "  u_xz = np.zeros_like(x_yslab)\n",
    "  w_xz = np.zeros_like(z_yslab)\n",
    "\n",
    "  u_xy = np.zeros_like(x_zslab)\n",
    "  v_xy = np.zeros_like(y_zslab)\n",
    "\n",
    "  for i_row in range(len(y_xslab)):\n",
    "    for i_col in range(len(y_xslab)):\n",
    "      h_yz = simulate_wta([xslab,y_xslab[i_row,i_col],z_xslab[i_row,i_col]],[1,0.5,1],sim_time=0.002)\n",
    "      h_xz = simulate_wta([x_yslab[i_row,i_col],yslab,z_yslab[i_row,i_col]],[1,0.5,1],sim_time=0.002)\n",
    "      h_xy = simulate_wta([x_zslab[i_row,i_col],y_zslab[i_row,i_col],zslab],[1,0.5,1],sim_time=0.002)\n",
    "      v_yz[i_row,i_col] = h_yz[0,-1]\n",
    "      w_yz[i_row,i_col] = h_yz[1,-1]\n",
    "      \n",
    "      u_xz[i_row,i_col] = h_xz[0,-1]\n",
    "      w_xz[i_row,i_col] = h_xz[1,-1]\n",
    "\n",
    "      u_xy[i_row,i_col] = h_xy[0,-1]\n",
    "      v_xy[i_row,i_col] = h_xy[1,-1]\n",
    "  \n",
    "  fig, ax = plt.subplots(1,3)\n",
    "  ax[0].quiver(y_xslab,z_xslab,v_yz-y_xslab,w_yz-z_xslab)\n",
    "\n",
    "  ax[1].quiver(x_yslab,z_yslab,u_xz-x_yslab,w_xz-z_yslab)\n",
    "\n",
    "  ax[2].quiver(x_zslab,y_zslab,u_xy-x_zslab,v_xy-y_zslab)\n",
    "\n",
    "\n",
    "\n"
   ]
  },
  {
   "cell_type": "markdown",
   "metadata": {
    "id": "QUA6vNqy1CsC"
   },
   "source": [
    "## Conclusive questions\n",
    "\n",
    "* What is the link between this third exercise session and the first two ones? \n",
    "* What are the drawbacks of these methods to model decision making?"
   ]
  }
 ],
 "metadata": {
  "colab": {
   "collapsed_sections": [],
   "provenance": []
  },
  "kernelspec": {
   "display_name": "Python 3 (ipykernel)",
   "language": "python",
   "name": "python3"
  },
  "language_info": {
   "codemirror_mode": {
    "name": "ipython",
    "version": 3
   },
   "file_extension": ".py",
   "mimetype": "text/x-python",
   "name": "python",
   "nbconvert_exporter": "python",
   "pygments_lexer": "ipython3",
   "version": "3.11.3"
  },
  "widgets": {
   "application/vnd.jupyter.widget-state+json": {
    "02b98f3411e041788cbc3cbf463cc443": {
     "model_module": "@jupyter-widgets/controls",
     "model_module_version": "1.5.0",
     "model_name": "FloatSliderModel",
     "state": {
      "_dom_classes": [],
      "_model_module": "@jupyter-widgets/controls",
      "_model_module_version": "1.5.0",
      "_model_name": "FloatSliderModel",
      "_view_count": null,
      "_view_module": "@jupyter-widgets/controls",
      "_view_module_version": "1.5.0",
      "_view_name": "FloatSliderView",
      "continuous_update": true,
      "description": "xslab",
      "description_tooltip": null,
      "disabled": false,
      "layout": "IPY_MODEL_2599d21a14b24fdfb6e19541ce1cb8e7",
      "max": 1.5,
      "min": -1.5,
      "orientation": "horizontal",
      "readout": true,
      "readout_format": ".2f",
      "step": 0.1,
      "style": "IPY_MODEL_634058f25fe14bafa41bb1ede48956c6",
      "value": 0
     }
    },
    "2599d21a14b24fdfb6e19541ce1cb8e7": {
     "model_module": "@jupyter-widgets/base",
     "model_module_version": "1.2.0",
     "model_name": "LayoutModel",
     "state": {
      "_model_module": "@jupyter-widgets/base",
      "_model_module_version": "1.2.0",
      "_model_name": "LayoutModel",
      "_view_count": null,
      "_view_module": "@jupyter-widgets/base",
      "_view_module_version": "1.2.0",
      "_view_name": "LayoutView",
      "align_content": null,
      "align_items": null,
      "align_self": null,
      "border": null,
      "bottom": null,
      "display": null,
      "flex": null,
      "flex_flow": null,
      "grid_area": null,
      "grid_auto_columns": null,
      "grid_auto_flow": null,
      "grid_auto_rows": null,
      "grid_column": null,
      "grid_gap": null,
      "grid_row": null,
      "grid_template_areas": null,
      "grid_template_columns": null,
      "grid_template_rows": null,
      "height": null,
      "justify_content": null,
      "justify_items": null,
      "left": null,
      "margin": null,
      "max_height": null,
      "max_width": null,
      "min_height": null,
      "min_width": null,
      "object_fit": null,
      "object_position": null,
      "order": null,
      "overflow": null,
      "overflow_x": null,
      "overflow_y": null,
      "padding": null,
      "right": null,
      "top": null,
      "visibility": null,
      "width": "450px"
     }
    },
    "34db624589704618afdd664640591e11": {
     "model_module": "@jupyter-widgets/controls",
     "model_module_version": "1.5.0",
     "model_name": "SliderStyleModel",
     "state": {
      "_model_module": "@jupyter-widgets/controls",
      "_model_module_version": "1.5.0",
      "_model_name": "SliderStyleModel",
      "_view_count": null,
      "_view_module": "@jupyter-widgets/base",
      "_view_module_version": "1.2.0",
      "_view_name": "StyleView",
      "description_width": "",
      "handle_color": null
     }
    },
    "35c18c823f7f4fe3b338a47109554c16": {
     "model_module": "@jupyter-widgets/base",
     "model_module_version": "1.2.0",
     "model_name": "LayoutModel",
     "state": {
      "_model_module": "@jupyter-widgets/base",
      "_model_module_version": "1.2.0",
      "_model_name": "LayoutModel",
      "_view_count": null,
      "_view_module": "@jupyter-widgets/base",
      "_view_module_version": "1.2.0",
      "_view_name": "LayoutView",
      "align_content": null,
      "align_items": null,
      "align_self": null,
      "border": null,
      "bottom": null,
      "display": null,
      "flex": null,
      "flex_flow": null,
      "grid_area": null,
      "grid_auto_columns": null,
      "grid_auto_flow": null,
      "grid_auto_rows": null,
      "grid_column": null,
      "grid_gap": null,
      "grid_row": null,
      "grid_template_areas": null,
      "grid_template_columns": null,
      "grid_template_rows": null,
      "height": null,
      "justify_content": null,
      "justify_items": null,
      "left": null,
      "margin": null,
      "max_height": null,
      "max_width": null,
      "min_height": null,
      "min_width": null,
      "object_fit": null,
      "object_position": null,
      "order": null,
      "overflow": null,
      "overflow_x": null,
      "overflow_y": null,
      "padding": null,
      "right": null,
      "top": null,
      "visibility": null,
      "width": null
     }
    },
    "39fc07ae0b9c4f72a695566c4430221a": {
     "model_module": "@jupyter-widgets/controls",
     "model_module_version": "1.5.0",
     "model_name": "VBoxModel",
     "state": {
      "_dom_classes": [
       "widget-interact"
      ],
      "_model_module": "@jupyter-widgets/controls",
      "_model_module_version": "1.5.0",
      "_model_name": "VBoxModel",
      "_view_count": null,
      "_view_module": "@jupyter-widgets/controls",
      "_view_module_version": "1.5.0",
      "_view_name": "VBoxView",
      "box_style": "",
      "children": [
       "IPY_MODEL_4292962e337146a1af317f8246db1dc4",
       "IPY_MODEL_e41a6892271c4c3787b55b28b989a751",
       "IPY_MODEL_543236befbaa4cf9a198fce79290476d"
      ],
      "layout": "IPY_MODEL_501c4e2e97f24ecd904d40aacaf5649a"
     }
    },
    "3df0fdb7355f41b4913f01d3d208faeb": {
     "model_module": "@jupyter-widgets/controls",
     "model_module_version": "1.5.0",
     "model_name": "FloatSliderModel",
     "state": {
      "_dom_classes": [],
      "_model_module": "@jupyter-widgets/controls",
      "_model_module_version": "1.5.0",
      "_model_name": "FloatSliderModel",
      "_view_count": null,
      "_view_module": "@jupyter-widgets/controls",
      "_view_module_version": "1.5.0",
      "_view_name": "FloatSliderView",
      "continuous_update": true,
      "description": "zslab",
      "description_tooltip": null,
      "disabled": false,
      "layout": "IPY_MODEL_2599d21a14b24fdfb6e19541ce1cb8e7",
      "max": 1.5,
      "min": -1.5,
      "orientation": "horizontal",
      "readout": true,
      "readout_format": ".2f",
      "step": 0.1,
      "style": "IPY_MODEL_5a3c36e35c694b14ae815d4f8ab5a795",
      "value": 0
     }
    },
    "4292962e337146a1af317f8246db1dc4": {
     "model_module": "@jupyter-widgets/controls",
     "model_module_version": "1.5.0",
     "model_name": "FloatSliderModel",
     "state": {
      "_dom_classes": [],
      "_model_module": "@jupyter-widgets/controls",
      "_model_module_version": "1.5.0",
      "_model_name": "FloatSliderModel",
      "_view_count": null,
      "_view_module": "@jupyter-widgets/controls",
      "_view_module_version": "1.5.0",
      "_view_name": "FloatSliderView",
      "continuous_update": true,
      "description": "theta",
      "description_tooltip": null,
      "disabled": false,
      "layout": "IPY_MODEL_2599d21a14b24fdfb6e19541ce1cb8e7",
      "max": 4,
      "min": -4,
      "orientation": "horizontal",
      "readout": true,
      "readout_format": ".2f",
      "step": 0.2,
      "style": "IPY_MODEL_830a03d79d0c47a4b5c6c266d5b7ba94",
      "value": -1.4
     }
    },
    "4cb4e5278fd34acda56f19d4b02c4c95": {
     "model_module": "@jupyter-widgets/controls",
     "model_module_version": "1.5.0",
     "model_name": "SliderStyleModel",
     "state": {
      "_model_module": "@jupyter-widgets/controls",
      "_model_module_version": "1.5.0",
      "_model_name": "SliderStyleModel",
      "_view_count": null,
      "_view_module": "@jupyter-widgets/base",
      "_view_module_version": "1.2.0",
      "_view_name": "StyleView",
      "description_width": "",
      "handle_color": null
     }
    },
    "501c4e2e97f24ecd904d40aacaf5649a": {
     "model_module": "@jupyter-widgets/base",
     "model_module_version": "1.2.0",
     "model_name": "LayoutModel",
     "state": {
      "_model_module": "@jupyter-widgets/base",
      "_model_module_version": "1.2.0",
      "_model_name": "LayoutModel",
      "_view_count": null,
      "_view_module": "@jupyter-widgets/base",
      "_view_module_version": "1.2.0",
      "_view_name": "LayoutView",
      "align_content": null,
      "align_items": null,
      "align_self": null,
      "border": null,
      "bottom": null,
      "display": null,
      "flex": null,
      "flex_flow": null,
      "grid_area": null,
      "grid_auto_columns": null,
      "grid_auto_flow": null,
      "grid_auto_rows": null,
      "grid_column": null,
      "grid_gap": null,
      "grid_row": null,
      "grid_template_areas": null,
      "grid_template_columns": null,
      "grid_template_rows": null,
      "height": null,
      "justify_content": null,
      "justify_items": null,
      "left": null,
      "margin": null,
      "max_height": null,
      "max_width": null,
      "min_height": null,
      "min_width": null,
      "object_fit": null,
      "object_position": null,
      "order": null,
      "overflow": null,
      "overflow_x": null,
      "overflow_y": null,
      "padding": null,
      "right": null,
      "top": null,
      "visibility": null,
      "width": null
     }
    },
    "51ce4511d1124fdbb90c98a9e93bd914": {
     "model_module": "@jupyter-widgets/base",
     "model_module_version": "1.2.0",
     "model_name": "LayoutModel",
     "state": {
      "_model_module": "@jupyter-widgets/base",
      "_model_module_version": "1.2.0",
      "_model_name": "LayoutModel",
      "_view_count": null,
      "_view_module": "@jupyter-widgets/base",
      "_view_module_version": "1.2.0",
      "_view_name": "LayoutView",
      "align_content": null,
      "align_items": null,
      "align_self": null,
      "border": null,
      "bottom": null,
      "display": null,
      "flex": null,
      "flex_flow": null,
      "grid_area": null,
      "grid_auto_columns": null,
      "grid_auto_flow": null,
      "grid_auto_rows": null,
      "grid_column": null,
      "grid_gap": null,
      "grid_row": null,
      "grid_template_areas": null,
      "grid_template_columns": null,
      "grid_template_rows": null,
      "height": null,
      "justify_content": null,
      "justify_items": null,
      "left": null,
      "margin": null,
      "max_height": null,
      "max_width": null,
      "min_height": null,
      "min_width": null,
      "object_fit": null,
      "object_position": null,
      "order": null,
      "overflow": null,
      "overflow_x": null,
      "overflow_y": null,
      "padding": null,
      "right": null,
      "top": null,
      "visibility": null,
      "width": null
     }
    },
    "543236befbaa4cf9a198fce79290476d": {
     "model_module": "@jupyter-widgets/output",
     "model_module_version": "1.0.0",
     "model_name": "OutputModel",
     "state": {
      "_dom_classes": [],
      "_model_module": "@jupyter-widgets/output",
      "_model_module_version": "1.0.0",
      "_model_name": "OutputModel",
      "_view_count": null,
      "_view_module": "@jupyter-widgets/output",
      "_view_module_version": "1.0.0",
      "_view_name": "OutputView",
      "layout": "IPY_MODEL_35c18c823f7f4fe3b338a47109554c16",
      "msg_id": "",
      "outputs": [
       {
        "data": {
         "image/png": "iVBORw0KGgoAAAANSUhEUgAABFwAAAM7CAYAAAB3L4SlAAAABHNCSVQICAgIfAhkiAAAAAlwSFlzAAAWJQAAFiUBSVIk8AAAADh0RVh0U29mdHdhcmUAbWF0cGxvdGxpYiB2ZXJzaW9uMy4yLjIsIGh0dHA6Ly9tYXRwbG90bGliLm9yZy+WH4yJAAAgAElEQVR4nOzdaZhlVXk24Gd1Nw0dRGYFFWwGlURRbFScUBDirIigUREZHHFAjEOcIiYa4xTFLyoIKIogaBxQNIoEiSgKRpxDhDAJCogyN0PTdK/vxzmdqlM9VtWq2jXc93Xta5/1nr33eflFXU+vvVaptQYAAACAduZ03QAAAADATCNwAQAAAGhM4AIAAADQmMAFAAAAoDGBCwAAAEBjAhcAAACAxgQuAAAAAI0JXAAAAAAaE7gAAAAANCZwAQAAAGhM4AIAAADQmMAFAAAAoDGBCwAAAEBjAhcAAACAxmZ04FJKObiUUtfh2LvrXgEAAICZY17XDUyS5Un+tIbvl0xWIwAAAMDMN1sCl6tqrQu7bgIAAACYHWb0K0UAAAAAXRC4AAAAADQmcAEAAABobLYELluWUi4opSwupdxRSrmslHJSKWWPrhsDAAAAZp5Sa+26hwlTSjk4yQnDSjcm2TDJ/GG1E5K8otZ691qedcE6/OTCJN+ptR4wuk4BAACAmWSm71J0dZJ/SPLVJBfVWpeUUuYm2a1f3zvJIUluS/K6Br+3waJFi16U5EUNngUAAAB0r4zpppk8w2VNSilz0gti9kmyPMlOtdb/HeczL1i0aNGiCy5Yl8kwAAAAwDQwpsBltqzhspJa6/Ikb+oP5yR5VoftAAAAADPIrA1ckqTWekmSP/eH23fZCwAAADBzzOrABQAAAGAizOrApZSyQ5It+sPLu+wFAAAAmDlmbOBSSlnjojb97z/UHy5P8s0JbwoAAACYFWZs4JLk/qWUn5RSXllK2X5FAFNKmVNKeXSSbyfZt3/tp2qtF3XWKQAAADCjzOu6gQn2yP6RJEtKKbcm2SjJ+sOuOSHJ4ZPdGAAAADBzzeTA5Y9JXpfkMUl2SbJlkk2T3Jneei0/SvKZWuu5nXUIAAAAzEgzNnCptd6R5OP9AwAAAGDSzOQ1XAAAAAA6IXABAAAAaEzgAgAAANCYwAUAAACgMYELAAAAQGMCFwAAAIDGBC4AAAAAjQlcAAAAABoTuAAAAAA0JnABAAAAaEzgAgAAANCYwAUAAACgMYELAAAAQGMCFwAAAIDGBC4AAAAAjQlcAAAAABoTuAAAAAA0JnABAAAAaEzgAgAAANCYwAUAAACgMYELAAAAQGMCFwAAAIDGBC4AAAAAjQlcAAAAABoTuAAAAAA0JnABAAAAaEzgAgAAANCYwAUAAACgMYELAAAAQGMCFwAAAIDGBC4AAAAAjQlcAAAAABoTuAAAAAA0JnABAAAAaEzgAgAAANCYwAUAAACgMYELAAAAQGMCFwAAAIDGBC4AAAAAjQlcAAAAABoTuAAAAAA0JnABAAAAaEzgAgAAANCYwAUAAACgMYELAAAAQGMCFwAAAIDGBC4AAAAAjQlcAAAAABoTuAAAAAA0JnABAAAAaEzgAgAAANCYwAUAAACgMYELAAAAQGMCFwAAAIDGBC4AAAAAjQlcAAAAABoTuAAAAAA0JnABAAAAaEzgAgAAANCYwAUAAACgMYELAAAAQGMCFwAAAIDGBC4AAAAAjQlcAAAAABoTuAAAAAA0JnABAAAAaEzgAgAAANCYwAUAAACgMYELAAAAQGMCFwAAAIDGBC4AAAAAjQlcAAAAABoTuAAAAAA0JnABAAAAaEzgAgAAANCYwAUAAACgMYELAAAAQGMCFwAAAIDGBC4AAAAAjQlcAAAAABoTuAAAAAA0JnABAAAAaEzgAgAAANCYwAUAAACgMYELAAAAQGMCFwAAAIDGBC4AAAAAjQlcAAAAABoTuAAAAAA0JnABAAAAaEzgAgAAANCYwAUAAACgMYELAAAAQGMCFwAAAIDGBC4AAAAAjQlcAAAAABoTuAAAAAA0JnABAAAAaEzgAgAAANCYwAUAAACgMYELAAAAQGMCFwAAAIDGBC4AAAAAjQlcAAAAABoTuAAAAAA0JnABAAAAaEzgAgAAANCYwAUAAACgMYELAAAAQGMCFwAAAIDGBC4AAAAAjQlcAAAAABoTuAAAAAA0JnABAAAAaEzgAgAAANCYwAUAAACgMYELAAAAQGMCFwAAAIDGBC4AAAAAjQlcAAAAABoTuAAAAAA0JnABAAAAaEzgAgAAANCYwAUAAACgsVkXuJRS3lpKqSuOrvsBAAAAZp5ZFbiUUh6U5Miu+wAAAABmtlkTuJRS5iT5TJINkvy443YAAACAGWzWBC5JXpfksUlOTvLdjnsBAAAAZrBZEbiUUrZL8k9Jrk/yho7bAQAAAGa4eV03MEmOS7JhklfXWv9USum6HwAAAGAGm/GBSynl5Un2SvIftdYTx/GcC9bhsp3G+nwAAABg5pjRrxSVUu6b5ENJ7kjyyo7bAQAAAGaJmT7D5VNJNk7yd7XWy8bzoFrrrmu7pj8LZtF4fgcAAACY/mbsDJdSyouTPCPJL5J8pON2AAAAgFlkRgYupZR7JzkqybIkL6+13t1xSwAAAMAsMlNfKXp/ks2THJ3kt6WUe4z4fv6KD8O+u6vWetck9QcAAADMYDNyhkuS7frnw5LcuorjbcOuXVH74GQ2CAAAAMxcMzVwAQAAAOjMjHylqNa6x5q+L6W8O8mR/WvLJLQEAAAAzCJmuAAAAAA0JnABAAAAaEzgAgAAANDYrAxcaq3vrrUW67cAAAAAE2FWBi4AAAAAE0ngAgAAANCYwAUAAACgMYELAAAAQGMCFwAAAIDGBC4AAAAAjQlcAAAAABoTuAAAAAA0JnABAAAAaEzgAgAAANCYwAUAAACgMYELAAAAQGMCFwAAAIDGBC4AAAAAjQlcAAAAABoTuAAAAAA0JnABAAAAaEzgAgAAANCYwAUAAACgMYELAAAAQGMCFwAAAIDG5nXdAAAAwKxRa+8Y/nmsx8jnjmY8lnuM1zyeaqZyf1O5tyTZcsvk3vce92MELgAAMBPVmtx9d3LXXb1jyZKhzyuOpUuTZct6163tWJfrVnfN8uUrH8uWrbq+Lt+P597ly9sEHeMNSICp6x3vSN773nE/RuACAAATYdmy5I472h4jA5O1HQB0RuACAAArLF2a3HRTcuONvePmm5Nbb00WL+6dR/P5zju7/q8BoEMCFwAAZp7bbkuuuy7505+SG24YClCGf17VsXhx150zW5QydB7Psapnrut4LPcYr3k81Uzl/qZyb/e6V5PHCFwAAJgebrklufrq5A9/6J1XBCrXXTd0rBjffnvX3U4N8+Yl8+ev/pg3L1lvvd555DF37qrro71u7tzeMWfOqo+xfjfWe8cbcLQISoBZQeACAEC3ak3+/OfkiiuS3/1uMFT5wx+GPk+32SelJAsWtD3WX3/NAcrwY731egEDAJ0QuAAAMLFq7b3Kc8UVyeWX984jj9tu67LDIaUkm2ySbLpp79hkk2SjjXrHPe4xus8LFpjNADCLCVwAAGjjzjuTSy5JLrpo6Pjtb3vnm2+e3F7mz++9g7/llsnmmw8FKJttNvR5Vcc972lWCABNCFwAABid229PfvOb5Je/TC68cChcueKKZPnyifvd9ddP7nOfoWOrrXqhyopjyy2HPt/znmaXANApgQsAAKt37bXJL37RO375y9754ovbBysbbphst11y//sn22zTC1Tue9/B82abCVEAmDYELgAA9Pzxj8mPf5ycd17y85/3wpXrrmvz7AULeoHKwoVDx/Dx5psLUwCYUQQuAACz0d13914L+tGPeiHLj36UXHbZ+J+77bbJgx608nG/+1kbBYBZReACADAb3HJL8sMfDgUs558/vp2Btt8+2WWX5KEPTXbaqReqPOABvVeDAACBCwDAjHTnnb1w5XvfS846K/mv/0qWLRv9czbYINl551648rCH9c4779xblBYAWC2BCwDATFBrbzHbb3+7d5xzTi90GY1585KHPzx5zGOS3XbrfX7AA3p1AGBU/N8TAGC6WrIkOfvs5PTTeyHL5ZeP7v4tt+yFK499bO/YddfkL/5iYnoFgFlG4AIAMJ3cfHMvXDnttOTf/z259dZ1v3ennZInPjF53ON6QcsOO9gZCAAmiMAFAGCqu+WW5OtfT774xeS7302WLl23+7bdNtlrr+RJT+od97nPxPYJAPwfgQsAwFR0++3Jt76VnHpq77xkydrvWX/93gyWpz41edrTejsHmcECAJ0QuAAATBW1Juedl5xwQm82yy23rP2ee9872Wef5FnPSvbc07bMADBFCFwAALp29dXJiScmn/1sctFFa79+xx2TffftHbvtlsyZM+EtAgCjI3ABAOhCrb0dhj75yd4CuMuWrfn6hQuTF7ygdzz0oV4VAoApTuACADCZbrop+dznkqOPXvtslnvdK3nhC3vHox4lZAGAaUTgAgAwGS6/PDnqqOTTn05uu2311623Xm89loMP7i1+u956k9YiANCOwAUAYCL9138lH/5w8uUvJ8uXr/66Bz84efnLkwMOSLbYYvL6AwAmhMAFAKC1WpOzzkre857knHNWf928ecl++yWvfnWy++5eGQKAGUTgAgDQSq3Jd7+b/OM/Jj/60eqv23rr5LDDejNattpq8voDACaNwAUAYLxqTc44I3n3u5Pzz1/9dQ95SPKmN/V2Glp//UlrDwCYfAIXAIDxOO+85C1vSX7wg9Vfs9deyZvfnDz5yV4bAoBZQuACADAWF1+cvP3tyVe+svprnvGM5F3v6m3pDADMKgIXAIDR+NOfkiOPTI49Nlm2bNXXPOtZvaDlEY+Y3N4AgClD4AIAsC7uvjs55pjk7/8+uemmVV/ztKf1dibaddfJ7Q0AmHIELgAAa3POOclrX5v8+ter/v4Rj0g++MFkzz0nty8AYMqa03UDAABT1jXXJAcckDzxiasOW7bfPjn11N7ORMIWAGAYM1wAAEaqNfnMZ5I3vjG5+eaVv7/HPXrruBx+eDJ//uT3BwBMeQIXAIDhLr00ecUrku99b9Xfv/jFyQc+kNznPpPbFwAwrXilCAAg6e049C//kuy886rDloc9rLeWy+c/L2wBANbKDBcAgEsvTQ48MPnxj1f+bsGC5L3v7b0+NM+fTgDAuvFXAwAwe9WafO5zyetelyxevPL3e+2VHHtsb3FcAIBR8EoRADA7XX998vznJ4ccsnLYsskmvUVzzzxT2AIAjIkZLgDA7PO97/VeIbr66pW/e8YzkuOOS7beevL7AgBmDDNcAIDZY/ny5D3vSfbee+WwZcGC5Oijk9NPF7YAAOM2oTNcSilzkuyQZNMkG6zLPbXWcyayJwBglrr++t6Wzt/5zsrfLVqUnHxystNOk98XADAjTUjgUkrZI8mbkjwpyfqjuLVOVE8AwCz2k58kz3tecuWVg/VSkre+NXn3u5P58ztpDQCYmZqHG6WUI5O8a8Ww9fMBANZZrckxxySvf32ydOngd1tskZxySu/1IgCAxpoGLqWUpyQ5cljpyiTfT/KHJEta/hYAwBotXZocfngvcBnpsY9NvvjF5H73m/y+AIBZofUMl9f2z8vTe6XoY7XW2vg3AADW7IYbeq8Qfe97K3/3hjckH/hAst56k98XADBrtA5cHpXeOixfrLUe1fjZAABrd9FFyTOfmVxyyWD9HvdITjgh2X//bvoCAGaV1oHLxv3zKpb/BwCYYGee2ZvZcvPNg/WFC3vbPT/kIZ20BQDMPnMaP+/a/vmuxs8FAFizE09Mnva0lcOWxz0uOf98YQsAMKlaBy7n9s8PbvxcAIBVqzX50IeSgw5Kli0b/O7gg5Ozzkruda9OWgMAZq/Wgcu/preGy0GllAWNnw0AMGj58uSNb0ze8pbBeinJBz+YfOYzyfrrd9MbADCrNQ1caq3npbct9DZJvlpK2XgttwAAjM1ddyUHHph89KOD9fnzky99KXnzm3vBCwBAB5oumltKeUKSHyQ5JckLk/xvKeXEJOcl+XN620WvUa31nJY9AQAz0O23J899bnLGGYP1e94zOe20ZM89u+kLAKCv9S5F/5neK0Xpn7dI8oZR3F8noCcAYCZZvLi37fP3vz9Y32qr5NvfTnbZpZu+AACGmYhwY+TcXXN5AYA2brklefrTk3PPHazvuGNvtsv223fTFwDACK0Dl39o/DwAgJ6bb06e+tTkvPMG67vs0gtb7EQEAEwhTQOXWqvABQBo78Ybkyc/OfnpTwfrj3hE8t3vJptu2k1fAACr0XpbaACAtm64Idlrr5XDlt12S848U9gCAExJAhcAYOq69dbemi0///lg/bGP7c1s2WSTbvoCAFiLSQtcSinzSimbllLsQgQArN2ddyb77JOcf/5gfffdk+98p7cFNADAFDVhgUspZX4p5dBSyjdLKX9KsiTJn5MsKaVc168fXEqZP1E9AADT1NKlyfOfn5x99mD9CU/obf280Ubd9AUAsI4mJHAppTwhycVJjkvytCSbp7c99Ipji37900kuKqXsPhF9AADT0LJlyUEHJaefPlh/5CN7tQ037KYvAIBRaB64lFL+Osl3k2yToYBlcZJfJjm3f1487Lv7JzmzlLJ3614AgGmm1uTVr05OOWWw/uAH92a2eI0IAJgmmgYupZR7JvlCkvnphSnfSrJ7ko1rrQ+vte7eP9+zX/9m/9b5SU7p3w8AzFbveldy7LGDtR126O1GtPnm3fQEADAGrWe4vDq914dqkr+vtT6r1npurbWOvLBff3aSd/ZLmyU5rHE/AMB0cfzxyXvfO1i7732T//iPZOutu+kJAGCMWgcuz+ifz621/tO63FBrfV+SH6Y3I+ZZjfsBAKaD73wnedWrBmtbbNELWxYu7KQlAIDxaB24PDC92S1fGuV9K65/YNt2AIAp7xe/SJ73vN5iuStssEFvgdydduquLwCAcWgduGzcP187yvv+2D9bwwUAZpMrr0ye/vRk8eKhWinJF76QPPrR3fUFADBOrQOXG/vnbUd53/3655sa9gIATGU339wLW665ZrB+1FHJvvt20xMAQCOtA5f/SW8tlhet6w2llJLkgPReRbqwcT8AwFS0bFnyghck//3fg/UjjkgOP7ybngAAGmoduJzePz+8lPIv63jPB5Is6n/+euN+AICp6O1v7y2UO9xzn5t8+MPd9AMA0FjrwOWYJCvmBR9RSvlhKWWfUsqGwy8qpfxFKeXZpZRzkryxX74mybGN+wEAppovfCH54AcHa496VHLSScncud30BADQ2LyWD6u13lFK2S/JWUk2SPKYJF9NUksp1ya5LcmGSbZK79Wj9M93JNmv1npHy34AgCnmgguSl750sLb11snXvpYsWNBNTwAAE6D1DJfUWs9L8vgMredS+r9znyQ79s9zhn3330keW2s9v3UvAMAU8sc/Js95TnLnnUO1+fN7Yct97tNdXwAAE6DpDJcVaq0/L6XsnOSZSZ6b5FFJtk6yUZJb03t96CdJvpLkW7XWOhF9AABTxF13Jfvvn/z+94P1Y49Ndtutm54AACbQhAQuSdIPUU7P0EK6AMBs9bd/m/zwh4O1I45IDjqom34AACZY81eKAAAGfPGLySc+MVjba6/kQx/qph8AgEkgcAEAJs7FFycve9lgbbvteiHMvAmbaAsA0DmBCwAwMe64I3ne85LFi4dq8+cnX/5ysvnm3fUFADAJxvRPS6WUd634XGv9x1XVx2r48wCAaezww5Nf/WqwdtRRyaJF3fQDADCJylg2CCqlLE9Sk6TWOndV9bEa/rzpppRywaJFixZdcMEFXbcCAN36/OeTl7xksPaCFyRf+EJSSjc9AQCMzZj+eBnPy9Mlqw5XxvNXlO2hAWC6u/DC5FWvGqw98IG9LaCFLQDALDHWwGXPUdYBgNngzjuTv/mb5Pbbh2obbJD8278lG23UXV8AAJNsTIFLrfX7o6kDALPE29+e/OY3g7WPfzx56EO76QcAoCN2KQIA2jjzzOSjHx2sHXBAcuih3fQDANCh8azhspJSyrb9j9fVWu8cxX3rJ7l3ktRar2zZEwAwCa6/Pjn44MHa/e+ffOIT1m0BAGal1jNcrkhyWZInj/K+PYbdCwBMJ7Umr3xlcvXVQ7U5c3o7FW28cXd9AQB0aCJeKRrPP2P5JzAAmG4+97nkK18ZrL31rcnuu3fTDwDAFGANFwBg7C67LHnd6wZru+6aHHlkN/0AAEwRUyVw2aR/vn2NVwEAU8eyZclLXpIsXjxUW7AgOfnkZP787voCAJgCpkrg8tz++apOuwAA1t2//mty7rmDtY98JHnQg7rpBwBgChnzLkWllH2S7LOarw8vpTxnbY9IsmGSXZLskKQm+cFY+wEAJtEllyRvf/tg7elP7y2eCwDAuLaF3iXJwekFJcOVJHuO8lklvdeJPjKOfgCAybB8efLSlyZ33DFU23jj5NhjbQENANDX4pWiMuxYVW1txy1JvpbkcbXWixr0AwBMpKOPTs45Z7D20Y8m971vN/0AAExB45nhclSSzw4blySXpTfj5ZVJzlzL/cuTLK613jiOHgCAyXT55cnf/d1g7SlPSQ4+uJN2AACmqjEHLrXWm5PcPLxWetOIS5Lraq2/G19rAMCUUmvy8pcnt902VNtoo+S447xKBAAwwnhmuKzKdv3zdY2fCwB07bjjkrPOGqx9+MPJNtt00w8AwBTWNHAxqwUAZqirr07e/ObB2l579Wa8AACwktYzXFJK2T2914our7VetQ7Xb5tkYZLltdYftu4HAGjgDW9IbrllaLzhhsnxx3uVCABgNVrsUvR/SilPSvL9JGcn2WIdb9s0yX8m+X4p5XEt+wEAGvjOd5IvfWmw9r73JQsXdtIOAMB00DRwSfLc/vkXtdafr8sNtdZfJrmgP3xeq0ZKKYtKKUeWUr5RSvltKeX6UsrS/vncUso7Simbtfo9AJiR7rgjefWrB2u77pq85jXd9AMAME20fqXoMeltC33GKO87I8muSR7bsJdDkwz/a/DOJHck2az/O49NckQp5dm11h83/F0AmDne+97eVtArzJmTHHNMMndudz0BAEwDrWe47NA//88o77toxP0t/CTJm9MLgTattS6otd4zyUZJDkryp/ReezqtlLJxw98FgJnhwguTD31osPaa1ySPeEQ3/QAATCOtZ7j8Rf98+yjvu6N/3qhVI7XWE1dTX5zkxFLKtenNrLlXkmcmObnVbwPAtFdrcthhydKlQ7Wtt07e857uegIAmEZaz3C5qX++1yjvW3H9rQ17WZvzhn2+3yT+LgBMfZ/7XHLOOYO1j30s2dikUACAddE6cLmif95zlPft0T+vdRvphnYf9vnSSfxdAJjabrghedObBmtPfWqy//7d9AMAMA21DlzOTlKSPKeU8lfrckMp5SFJ9k1vsd3vNe5n5G+tX0pZWEp5bZLP98uXJDl9In8XAKaVI49Mrr9+aLzBBsknPpGU0l1PAADTTOs1XI5P8rdJ5ib5VinlGbXWC1d3cSnlwUm+0b9+Wf/+5kopdyZZfxVfnZvkRbXWJevwjAvWdk2SnUbbGwBMKb/5TXL00YO1d7wj2X77bvoBAJimms5wqbX+b5KPpzfLZdskF5RSji+l7FNKeWAp5T798z6llE8n+WmS+6c3u+WYNYUz43Rtkj8muW1Y7ewkR9Rar5yg3wSA6aXW5PWvT5YtG6ptt93KrxcBALBWrWe4JMmbkmyf5FnpzSo5pH+syoq5yd9IcsQE9JIkqbUu/L8fLOVeSQ5M8o4kPymlvLfW+q51eMaua7umPwtm0ThaBYDufO1ryfdGvN37kY/0XikCAGBUWq/hklrrslrrPknemuSG9EKV1R03JHlLrfU5tdZlq3lk6/6uq7X+S5Knpjez5u9LKc+cjN8GgCnrjjuSN75xsLb33sk++3TTDwDANDcRM1ySJLXWD5ZSPpHkaUken97Wy/dMckuS3yf5QZJv11pvn6ge1tLfT0opP0zyhCSvSPLNLvoAgCnhwx9OrrhiaDx3bm8baAvlAgCMyYQFLklSa70tyZf7x1T0h/55x067AIAuXXVV8s//PFh77WuTv1qnDQcBAFiF5q8UTTMrtly4tdMuAKBLb3lL75WiFbbYInn3uztrBwBgJpiRgUspZW4pa54DXUrZK8mj+sP/nPCmAGAq+tGPklNPHay9733JJpt00w8AwAwxoa8UJUkpZX6STZKs0xYHjbZp3ibJaaWUo5OcmeTyWmvt97NNkgOSvDNDC/d+tMFvAsD0UuvKWz4//OHJoYd20w8AwAwyIYFLKeWBSQ5P8pQk22Vo++e1qQ17eliSY/qf7yql3JJkQZINh11zeZL9aq3XNvpNAJg+vvrV5Mc/HqwddVRvwVwAAMaleeBSSjkkySeTzF9Rav0b6+DqJM9LskeS3ZLcJ8kWSZYluTLJL5N8PckXaq13rOYZADBz3XVX8ta3Dtae/ezkCU/oph8AgBmmaeBSSnlUkuPSC1lKkjuS/DS93YCWtPytNam13pWpvTsSAHTrU59KLrlkaDx3bvKBD3TXDwDADNN6hsub0luItyb5f0neWWtd3Pg3AIDxuPnm5B/+YbD28pcnO+3UTT8AADNQ68DlcemFLd+utR7R+NkAQAvvf39y/fVD4w03TI48srt+AABmoNbbQm/eP3+18XMBgBauuqq3MO5wb3lLstVW3fQDADBDtQ5c/tQ/39r4uQBAC+98Z3LnnUPjrbdO3vjG7voBAJihWgcuF/TPOzZ+LgAwXr/8ZfL5zw/W/vEfe68UAQDQVOvA5ej0dic6sJTS+tkAwHi8851JrUPjBz84OeSQ7voBAJjBmoYitdYzkhyTZKckx5dSWi/KCwCMxY9/nHzzm4O197+/tx00AADNNQ1ESinbJvlgko2THJRkt1LK0UnOS/LnJMvX9oxa65UtewIAkrzjHYPjxzwmecYzuukFAGAWaD0D5Yr0toVeYackHxvF/TXtewKA2e2ss5Kzzx6svcu0v4MAACAASURBVO99SSnd9AMAMAtMRLjhrzcAmCpqTd7+9sHa3nsne+zRSTsAALNF68Dlc42fBwCMx+mnJz/5yWDtn/6pm14AAGaRpoFLrdVWBwAwVSxfvvLaLc95TvKoR3XTDwDALGLrZgCYqU49NfnNb4bGpSTveU93/QAAzCICFwCYiZYuTY48crD2ohclD3lIN/0AAMwyAhcAmIlOPDG55JKh8dy5ybvf3Vk7AACzjcAFAGaapUtXXhj3pS9Ndtyxm34AAGahpovmllIuG+cjaq11hybNAMBsddJJyeWXD43XW2/lxXMBAJhQrbeFXpikJilrua72zyOvqyMvBABG4e67V57dcuihybbbdtMPAMAs1TpwuTJrD03mJNksyYb9cU1yTZKljXsBgNnn5JOTSy8dGq+3XvK2t3XXDwDALNU0cKm1LlzXa0spD0ny+iQvTXJJkv1qrde37AcAZpW7707e+97B2sEHJ/e/fyftAADMZp0tmltr/U2t9eVJXpHkCUm+UUqZ21U/ADDtnXLK4M5E8+Ylb397d/0AAMxine9SVGs9PsnZSR6d5GUdtwMA09OyZSvPbjnooGThwk7aAQCY7ToPXPq+lt4Cugd23QgATEunnppcfPHQeO5cs1sAADo0VQKXa/vnnTrtAgCmo2XLkve8Z7D2kpck22/fTT8AAEyZwOU+/fOCTrsAgOno3/4tueiiofHcuck73tFdPwAAdB+4lFLmp7dTUZL8vsteAGDaqTV53/sGay9+cbLDDt30AwBAkg4Dl1LK3FLKHknOSrJzkprk2131AwDT0re+lfz610PjOXOs3QIAMAXMa/mwUspl63jp/CRbJFlvWO3GJB9o2Q8AzGi1Jv/8z4O1/fdPHvjAbvoBAOD/NA1ckixMb6ZKGeV9lyR5Qa31msb9AMDM9YMfJD/60WDtbW/rphcAAAa0DlyuTC9wWZslSW5KcmGS7yQ5rdZ6V+NeAGBmG7l2y9OeluyySze9AAAwoGngUmtd2PJ5AMBq/OxnyRlnDNbMbgEAmDLGFLiUUh7a/3h5rfXWhv0AAOvi/e8fHD/+8cnuu3fTCwAAKxnrLkW/SPLzJHsOL5ZS3tU/rNYHABPloouSL395sGZ2CwDAlNJ6DZd3p7eGyy+SXNz42QBAknzwg70dilZ42MN667cAADBljHWGy/L+eb01XgUAtHXVVcnnPz9Ye9vbkjLaDQIBAJhIYw1cbuqf79+qEQBgHXz0o8nSpUPjHXdM9t+/u34AAFilsQYu/52kJHltKeWRpZSRM13WZWtoAGA0bropOe64wdpb3pLMndtNPwAArNZY13A5Ncnu6c1wOS9JytBU5pLktDK2qc211tp6XRkAmBk+9alk8eKh8b3vnbzkJd31AwDAao11hsunkvx7euHK8GOFkfXRHADASHfdlXzsY4O1ww9P1l+/m34AAFijMc0mqbUuL6U8K8lzkjw9yTZJ1k/yxPReJ7owyZ9bNQkAs94ppyTXXDM03nDD5FWv6q4fAADWaMyv79Raa5Kv9Y8kSSllxe5F76i1fmOcvQEASW8L6A9/eLD20pcmm23WTT8AAKzVWF8pAgAmyxlnJL/5zdB4zpzkiCO66wcAgLVqvUDtnv3zb9Z4FQCw7kbObtl//2S77brpBQCAddI0cKm1fr/l8wBg1vv5z5OzzhqsvfnN3fQCAMA680oRAExlI2e3PPGJySMe0U0vAACsM4ELAExVV16ZfPGLg7U3vambXgAAGBWBCwBMVR/7WLJs2dB4p52Spz+9u34AAFhnAhcAmIpuvTU5/vjB2pve1NuhCACAKc9fbQAwFX32s8kttwyNt9wyOeCAztoBAGB0BC4AMNUsX957nWi4ww5LNtigm34AABg1gQsATDXf+lZy6aVD4/XW6wUuAABMGwIXAJhqjjpqcPzCFyZbbdVNLwAAjInABQCmkl/9Kvne9wZrr399N70AADBmAhcAmEpGrt3yhCckixZ10wsAAGMmcAGAqeK665KTTx6sHXFEN70AADAu8ybioaWUzZIcmuQpSf4qyaZJ1l+HW2utdUJ6AoAp71OfSpYsGRovXJg8+9mdtQMAwNg1DzdKKU9JclKSzVaUWv8GAMw4S5Ykn/zkYO3ww5O5c7vpBwCAcWkauJRSHpTktCTzMxS0XJXkD0mWrO4+AJj1vvSl5Nprh8b3uEdy6KHd9QMAwLi0nuHy1vReHarpBS9vrrVe2vg3AGBmqXXlxXIPPTTZeONu+gEAYNxaBy57phe2/KjW+tzGzwaAmen885MLLhgal5K87nXd9QMAwLi13qVoq/755DVeBQAM+fjHB8dPf3qy447d9AIAQBOtA5cb++c/N34uAMxMf/xjb/2W4V772m56AQCgmdaBy6/7520bPxcAZqZjj02WLh0aP+AByZOf3F0/AAA00Tpw+Ux6uxP9TePnAsDMs3Rpcswxg7XXvCaZ0/p/zwAATLamf9HVWk9N8vUkjyyl/EPLZwPAjHPaacnVVw+NN9wwOeig7voBAKCZifgntBckOSXJO0sp3y2lPLOUssUE/A4ATG8jF8s98MBkk0266QUAgKaabgtdSlk2fJhkr/6RUsq6PKLWWltvVQ0AU8+vfpWcc85gzWK5AAAzRutwY2Sqsk4pCwDMOiNnt+y5Z/LgB3fTCwAAzbUOXM5JUhs/EwBmlhtvTE46abBmdgsAwIzSNHCpte7R8nkAMCOdcEJyxx1D4222SZ797O76AQCgOftOAsBkWr48+eQnB2uHHZbMs4QZAMBMInABgMl05pnJpZcOjefPT172su76AQBgQghcAGAyHX304Pj5z0+23LKbXgAAmDATOn+5lLJDkn2T7JZk6yQbJbk1ydVJfpLka7XWS1f/BACYQa66Kjn99MHaYYd10wsAABNqQgKXUsrmST6ZZL+sfmvo/ZK8v5Ty5SSvqbVePxG9AMCUceyxvTVcVnjoQ5PHPKa7fgAAmDDNXykqpdw/yc+T7N9/flnDMSfJ85L8rJSyTeteAGDKWLo0Of74wdphhyVldf8uAQDAdNY0cCmlzEnyjST3Sy9QuSbJ36f3StGmSdbrnx/Vr1/dv26bJKeX4q9OAGao005Lrr12aHyPeyQHHNBdPwAATKjWM1wOTLJzkprkm0l2qrX+U631v2qtN9dal/XPP621/lOSnZKseJl95yQvbtwPAEwNIxfLfclLko026qYXAAAmXOvAZb/++fIkz6u13rqmi2uti5M8P8ll/dLzG/cDAN377W+Ts88erFksFwBgRmsduCxKb3bLCbXWJetyQ/+6z6T3atHDG/cDAN075pjB8eMfnzzkId30AgDApGgduGzRP188yvv+t3/evGEvANC9225LPvvZwZrZLQAAM17rwOW2/nmTUd634vrbG/YCAN079dTk5puHxltumey33+qvBwBgRmgduFzRPz99lPetuP6KNV0EANPOyNeJDj00WX/9bnoBAGDStA5cvpveWizPLqWs0z/flVKem2Sf9NZ+OaNxPwDQnZ/9LPnpT4fGpSSvfGV3/QAAMGlaBy6fSHJH//MppZT3lVK2WNWFpZTNSynvSXJKv3Rn/34AmBmOO25w/JSnJNtt100vAABMqnktH1Zr/X0p5W+THJ1kbpK/S/LGUsov01tI97YkGyZ5QJJd+r9f0pvd8oZa6x9a9gMAnVm8ODn55MHaK17RTS8AAEy6poFLktRaP1VKSZKPJFmQZL0ku/aP4Ur/fEd6YcuxrXsBgM586UvJrbcOjbfaKnnmM7vrBwCASdX6laIkvdAlyV8lOSrJ79ILV0Yev0svlPkrYQsAM86xI/7XdsghyXrrddMLAACTrvkMlxVqrb9L8rdJ/raUsmWSrZNslOTWJNfUWv80Ub8NAJ361a+S888frL3sZd30AgBAJyYscBmuH64IWACYHUYulrv33sn223fTCwAAnZiQV4oAYNa6/fbkpJMGaxbLBQCYdQQuANDSl7+c3HTT0HjLLZN99umuHwAAOjGmV4pKKU9Y8bnWes6q6mM1/HkAMO2MXCz34IOT+fM7aQUAgO6MdQ2X/0xS+8e8VdTHauTzAGD6uPDC5NxzB2sWywUAmJXGE26UUdYBYGYbuVjuHnskD3xgJ60AANCtsQYu/zDKOgDMbHfemZx44mDNYrkAALPWmAKXWusqg5XV1QFgxvvqV5Mbbhgab7ZZsu++3fUDAECn7FIEAC2MXCz3oIOSDTbophcAADoncAGA8br44uT73x+svfzl3fQCAMCU0DRwKaVcVkq5tJSy9yjve8KKe1v2AwCTYuRiuY9/fPKXf9lNLwAATAmtt2BemN7Wzn8xyvsWDLsXAKaPJUuSz352sGaxXACAWc8rRQAwHl//evLnPw+NN9kk2X//7voBAGBKmCqBy4L+eUmnXQDAaI1cLPfAA5MFC1Z9LQAAs8ZUCVwe3T//qdMuAGA0Lr00OeuswZrFcgEAyDjWcCmlPDTJLqv5+kmllE3W9ogkGyZZlOTF6a3f8tOx9gMAk+744wfHj350svPO3fQCAMCUMp5Fc/dN8q5V1EuS143yWSW9wOWYcfQDAJNn6dLkhBMGa2a3AADQN95XisqIY3X1tR3XJXlVrfXMcfYDAJPj9NOTP/5xaLzRRsnf/E13/QAAMKWMZ4bLaUmuGFE7Ib2ZKh9P8rO13L88yeIklyf5da112Th6AYDJNXKx3Be/ONlww256AQBgyhlz4FJr/WWSXw6vlVJWzK0+q9b6jfE0BgBT1u9+l3z3u4M1rxMBADDMeGa4rMoh/fPaZrcAwPT1uc8ltQ6Nd901efjDu+sHAIApp2ngUmv9XMvnAcCUs3z5yovlvuxl3fQCAMCUNd5FcwFgdjn77OSKK4bGG2yQvOAFnbUDAMDU1PqVolUqpWyU5J5J5q7t2lrrlRPfEQCM0Wc+Mzjeb79kk0266QUAgClrQgKXUsrcJC9KcmCSRyXZaB1vrRPVEwCM2403Jl/5ymDt0EO76QUAgCmtebhRStk6ydeSPHJFqfVvAEAnTj01WbJkaLxwYbLHHl11AwDAFNY0cCmlzEnyjSS79kuXJzk/yQvSm73yn0muT3L/JLskWa9fPzPJNS17AYDmRr5OdMghyRzLoQEAsLLWfyW+ML2wpSY5KskDaq0vGvb9x2qtz6+17pbkfkk+1r925yQfr7UeMvKBADAl/OpXyU9/OjQuJTn44M7aAQBgamsduOzfP/8hyVtqrctXd2Gt9U+11jckeXWSrZN8tZSyaeN+AKCNkVtB//VfJ9tu200vAABMea0DlxWzW06qtd69Lr9Xaz02yTnpzXg5rHE/ADB+d92VfP7zgzWL5QIAsAatA5ct+ufLR9RXzHTZYDX3fSW9xXWf07gfABi/b3wjuf76ofGmmyb77NNdPwAATHmtA5cVOxLdMKJ+a/9879Xc98f+eWHjfgBg/EYulnvAAckGq/s3BAAAaB+4XNc/33NE/er++SGrue9+q7kPALr1+98nZ5wxWPM6EQAAa9E6cLmwf95xRP3n6c1+eXYpZcHwL0opJcmB/eG1jfsBgPE58cRk+bA14B/+8N4BAABr0DpwOTe9YOWxI+pf6Z+3SG83op1KKfNLKX+Z5N+SPCy9xXbPatVIKWXzUsohpZSTSikXllJuK6UsKaX8vpRyWill31a/BcAMVevKrxOZ3QIAwDootdZ2DytlUZKfJlmaZJta63X9eknyX0kWpResrHRrkjuSLKq1XtSol6VJ5g0r3ZlkWZINh9W+nWT/WuvtjX7zgkWLFi264IILWjwOgK6dc07yxCcOjefPT665Jtlss+56AgBgspW1X7KypjNcaq0/S/LuJB9Jss2wek2yT5L/Sa/RkcdtSV7YKmzpm5fkJ0lenWSHWuuCWus9kmyX5NP9a56W5FMNfxOAmWTk7JZ99xW2AACwTprOcFnrj5UyL8kLk+yd3o5Ft6c38+WEWmvT9VtKKXvWWs9ew/fHJHllf7htrfWqBr9phgvATHHLLcnWWye3D5sEecYZyZOf3F1PAAB0YUwzXOat/ZJ2aq13J/l8/5jo31pt2NL36QwFLo9IMu7ABYAZ5ItfHAxbttkm2Wuv7voBAGBaab1o7nRy57DPczvrAoCpaeTrRAcfnMz1vwsAANZN08CllPKaUsrmLZ85gfYY9vnXXTUBwBR04YXJeecN1g45pJteAACYllq/UvSvST5SSvlOkpOSfKPWuqTxb4xbKWWTJG/rD3+wLov1llLWZWGWncbVGABTwwknDI6f9KRku+266QUAgGlpIl4pWi/JM5OcmuTaUsqxpZQnruWeSVNKmZPeGjJbp/da0Wu77QiAKWXp0uTEEwdrhx7aTS8AAExbrWe4HJHkgCSP7I83TvLSJC8tpVyV3qyXk2qtv238u6PxsfQCoSR5Ta31V+tyU61117Vd058Fs2gcvQHQtX//9+S664bGG2+cPPe53fUDAMC01HSGS631/9Vad0vyoCTvTXJZetsnlSTbpvcaz3+XUn5aSjm8lHKvlr+/NqWUD2doRssbaq2fWdP1AMxCn/704PiFL0wWLOimFwAApq0J2aWo1vq/tdZ31Vp3TPK4JEcnuT5D4cvDk3w0/5+9O4+To6r3///6TBICgYDAlQCyRCMKityIwGVxAYPILiCbsoQAQUBFZHVDFuErClxAUUG2AAFBFBGQTVZZ5CfILqACBkFA2UMSINv5/VE1t7sns3Rmurt6eT0fj3p01+nTVZ/eZqbfc+oUPBcR10bErhGxaD1q6RYRPwQOzVcPSymdVs/9SZJa0AsvZCNcynk4kSRJkgah7qeFTin9MaX0ZbI5Uz4HXA68Qxa8DAc+C1wM/Dsizu9zQ0MQEScBh+erR6SUTqnHfiRJLe6ii2DevNL6Rz4C66xTXD2SJElqWXUPXLqllOamlK5OKe0CjAH2BW4DEln4MhrYs9b7zQ8jOixfPSKldFKt9yFJagMpwXk9jjTde2+IKKYeSZIktbSGBS7lUkpv5vOnbAl8A5hdj/3kYUv5YUSGLZKk3v3xj/DXv5bWR4yA3XYrrh5JkiS1tFqfpagqETEB2B3YnmxkSz32UT5nyyEppVPrsR9JUpvoObpl223h3e8uphZJkiS1vIYFLhHx32QhyxfI5nOB7FAiyA4rug24qEb7WoXSnC3zgSMj4sh+7nJySunkWuxbktSCZsyAyy6rbHOyXEmSJA1BXQOXiFgJ2C1fPtzdXNblMWAqcHFK6dka7rqrx/UxA/Rfoob7liS1mssvz0KXbiuuCJttVlw9kiRJank1D1wiYklgJ7LRLJ+gFLB0X74IXApclFJ6oNb7B0gpTaMy2JEkqW89DyeaOBGGF3LUrSRJktpETf+ajIjLga2Akd1N+eUs4EqyQ4Z+n1KaX8v9SpI0aH/7G9x5Z2WbhxNJkiRpiGr977vPl12fD9xMFrJckVKaWeN9SZI0dOefX7n+yU/C+99fTC2SJElqG/UYL/0wWchySUrphTpsX5Kk2pg7Fy64oLLN0S2SJEmqgVoHLv+dUnqkxtuUJKk+brgBXij738ASS8COOxZXjyRJktpG18BdqmfYIklqKT0ny911V1h88WJqkSRJUlupaeAiSVLLeOkluOqqyjYPJ5IkSVKNGLhIkjrTRRdlc7h0W2MNWH/94uqRJElSWxnUHC4R8XR+NaWUxvXSPlgV25MkqS5SgnPPrWzbe2+IKKYeSZIktZ3BTpo7Nr9MvbQnYLB/sfbcniRJtXfvvfDYY6X1YcNgjz2Kq0eSJEltZ7CByz/pPRzpq12SpObRc7LcrbeGMWOKqUWSJEltaVCBS0pp7MK0S5LUNGbNgl/8orLNyXIlSZJUY06aK0nqLFdcAdOnl9bHjIEttiiuHkmSJLUlAxdJUmfpeTjRnnvCiBHF1CJJkqS2Ndg5XHoVEd/Nr16aUvrbQtxvHLAbQErpuFrWJEnS/3nqKbj11so2DyeSJElSHdQ0cAGOIZs090Gg6sAFeH/ZfQ1cJEn1MWVK5fqGG8LqqxdSiiRJktqbhxRJkjrDvHkLBi6ObpEkSVKdNEvgMiy/nFdoFZKk9nXTTfDcc6X1UaNg552Lq0eSJEltrVkCl1Xzy+n99pIkabB6Tpa7884wenQxtUiSJKnt1XoOl26pmk4RMQpYG/h6fp8n6lSPJKmTvfIKXHllZZuHE0mSJKmOBh24RMTRwHd7uwm4MiIGs9nfDrYeSZL6dPHFMHt2aX211eDjHy+uHkmSJLW9oY5w6StVGUzacidw+hBqkSRpQSnBuedWtk2aBIP7x4AkSZJUlaEELtOA23u0fYrs0KDHgJcHuP98YAbwD+Bm4HcppflDqEeSpAXdfz88/HBpvasLJk4srh5JkiR1hEEHLimlC4ALytsiojsw+XZK6aqhFCZJUk30HN2y5Zaw4orF1CJJkqSOUetJc/9ANsJloNEtkiTV31tvwSWXVLY5Wa4kSZIaoKaBS0pp41puT5KkIbniCnjjjdL6csvB1lsXV48kSZI6RlfRBUiSVDc9DyfaYw8YMaKYWiRJktRRahq4RMToiDg3Is6LiE9WeZ9P5v3PjojFalmPJKmDPf003HprZds++xRTiyRJkjpOredw2RWYBLwFfL3K+zwE7AwsBtwBXFjjmiRJnej88yvXN9gA1lijmFokSZLUcWp9SNHm+eUNKaU3+u2Zy/tdBwSwVY3rkSR1onnzYMqUyjYny5UkSVID1TpwGU92lqK7F/J+f8wvP1rbciRJHen3v4fnniutL7447LJLcfVIkiSp49Q6cFkhv3x2Ie/3r/xyxRrWIknqVD0ny915Zxg9uphaJEmS1JHqdZaiWMj+3XXUek4ZSVKnefll+O1vK9s8nEiSJEkNVuvA5eX88v0Leb9x+eWrNaxFktSJpk6FOXNK6x/4AGy0UXH1SJIkqSPVOnB5iGx0y+cX8n47ks398miN65EkdZKUFjycaO+9IRZ24KUkSZI0NLUOXK7NL9eKiK9Uc4eI+CqwVr76uxrXI0nqJPfdB4+WZffDhsHEicXVI0mSpI5V68BlCvDv/PqpEfG9iFi8t44RsXhEHA/8L9nolpeBc2pcjySpk/Qc3bLVVrD88sXUIkmSpI5W00lqU0pvRcQk4GqyMOdbwFcj4lbgcWAGsASwBrAJMJrsEKR5wKSU0sxa1iNJ6iCzZsEvflHZ5mS5kiRJKkjNzwqUUro+InYDzgUWB5YEts2Xct0H1M8A9kkpXYskSYP161/D9Oml9TFjYMsti6tHkiRJHa0up4VOKf2SbF6Wc4DpZOFKz2U6cBawVkrp8nrUIUnqID0PJ5o4EUaMKKYWSZIkdbyaj3DpllL6B7BfROxPFr6sRDbaZTrwHPBwSml+vfYvSeogTz4Jt99e2TZpUjG1SJIkSdQxcOmWhyoP5ku/ImL5lNKL9a5JktRmzj+/cn2jjWD11YupRZIkSaJOhxQtjIgYHhE7RMTVwDNF1yNJajFz58KUKZVtTpYrSZKkgtV9hEtfIuK/gUnAF4FlyeZ1SUXVI0lqUTfeCM8/X1pfYgnYeefi6pEkSZJocOASEcsAu5EFLf/d3VzWZfoCd5IkqT89J8vdZZcsdJEkSZIKVPfAJSIC2IIsZNkGGEFlyDIXuBG4CPhtveuRJLWR//wHrrqqss3DiSRJktQE6ha4RMQHyEKWPYAVupvzywT8Hfgp8IuU0kv1qkOS1MamTs3mcOm2+uqwwQbF1SNJkiTlahq4RMQSwK5kQcv65Tfll/8C3pNfvySl9KNa7l+S1EFSgrPPrmzbZx+I6L2/JEmS1EA1CVwiYhOykGUHYLHu5vxyJvAb4ELgFrJDiCRJGpo774QnniitDx8Oe+xRXD2SJElSmUEHLhGxKrAXMBFYtbs5v5xPFq5cCPw6pTSr7H6D3aUkSSU9R7dstx2MGVNMLZIkSVIPQxnh8nR+WZ6g/IVs8tupKaXnF7yLJEk18NprcPnllW2TJxdTiyRJktSLoQQuQTb5bQIuBv43pfRgTaqSJKk/U6fC22+X1seOhU03LawcSZIkqadaTZq7M7BkRFwAXJNSmlOj7UqSVCkl+PnPK9smT4aurmLqkSRJknoxlL9OzyebEDeARYBtgF8BL0bEzyJiwxrUJ0lSpXvugUcfLa0PGwaTJhVXjyRJktSLQQcuKaV9gOXJzk50e94cwNLAfsAdEfFkRBwdEeOGXKkkSbDgZLnbbAMrrFBMLZIkSVIfhjT+OqU0K6V0QUppE+D9wPHAP8mClwDeC3wX+FtE3BkR+w+1YElSB3vjDbj00so2J8uVJElSE6rZAe8ppX+klL5LFrJ8BrgEeJtS+LIB8JOyu4yNiJG12r8kqQNcfDG89VZpfeWV4bOfLa4eSZIkqQ81n2EwZW5OKe0OrAAcAPyJUvCS8q4TyeZ7OSciNq51HZKkNtPbZLn77pvN4SJJkiQ1mbqe0iGlND2ldFZKaX3gw8ApwH8ohS9Lkc0Bc3NEPBMR369nPZKkFnbfffDQQ6X1ri7Ye+/i6pEkSZL60bBzaKaUHk8pHQ6sBGwL/AaYQyl8WRk4olH1SJJaTM/JcrfcElZaqZhaJEmSpAE0LHDpllKal1K6JqX0eeA9wCHAw42uQ5LUQt58Ey65pLLNyXIlSZLUxBoeuJRLKb2cUjotpTQeWIfKSXUlScr84hcwc2ZpfcUVsxEukiRJUpMaXnQB3VJK9wP3F12HJKkJ9TycaO+9YXjT/AqTJEmSFlDoCBdJkgb0wAPZhLndImCffYqrR5IkSaqCgYskqbn1HN3y2c/C2LGFlCJJkiRVy8BFktS8Zs6EqVMr25wsV5IkSS3AwEWS1Lwuuyw7Q1G3MWNgm22Kq0eSJEmqkoGLJKl59TycaNIkGDGimFokSZKkhWDgIklqTo88AvfcU9m2heAGcwAAIABJREFU777F1CJJkiQtJAMXSVJz6jm6ZdNNYdy4YmqRJEmSFpKBiySp+cyaBRddVNnmZLmSJElqIQYukqTm86tfweuvl9bf/W7Ybrvi6pEkSZIWkoGLJKn5/PznlesTJ8IiixRTiyRJkjQIBi6SpObyyCNw112VbU6WK0mSpBZj4CJJai4/+1nl+qc/DR/8YDG1SJIkSYNk4CJJah5vvrngZLkHHFBMLZIkSdIQGLhIkprH1KkwY0ZpfYUV4HOfK64eSZIkaZAMXCRJzSGlBQ8n2ndfGDGimHokSZKkITBwkSQ1h7vvzibM7dbVBZMnF1ePJEmSNAQGLpKk5tBzdMs228DKKxdTiyRJkjREBi6SpOK99BJcfnll24EHFlOLJEmSVAMGLpKk4p1/PsyeXVofNw423bS4eiRJkqQhMnCRJBVr/nw488zKtv33z+ZwkSRJklqUf81Kkop1ww3wj3+U1keOhEmTiqtHkiRJqgEDF0lSsXpOlrvzzrDsssXUIkmSJNWIgYskqTjTpsE111S2HXBAIaVIkiRJtWTgIkkqzk9/CimV1sePh/XXL64eSZIkqUYMXCRJxZg1C845p7Ltq1+FiGLqkSRJkmrIwEWSVIxLL4XXXiutL7MMfOELxdUjSZIk1ZCBiySp8VKCH/+4sm2ffWCxxYqpR5IkSaoxAxdJUuPdfTc8+GBpPQIOPLC4eiRJkqQaM3CRJDXeGWdUrm+zDYwdW0gpkiRJUj0YuEiSGuuFF+BXv6ps+8pXiqlFkiRJqhMDF0lSY511FsydW1r/4AdhwoTi6pEkSZLqwMBFktQ4s2dngUu5r3wFuvx1JEmSpPbiX7iSpMa54gp48cXS+hJLwJ57FlePJEmSVCcGLpKkxul5KuiJE2HJJYupRZIkSaojAxdJUmPce292OuhyX/5yMbVIkiRJdWbgIklqjNNPr1zfdFNYY41iapEkSZLqzMBFklR/zz8Pv/xlZdvBBxdTiyRJktQABi6SpPr72c9gzpzS+mqrwRZbFFePJEmSVGcGLpKk+nrrLTjzzMq2r33NU0FLkiSprfnXriSpvi65BF5+ubS+1FLZ2YkkSZKkNmbgIkmqn5TgtNMq2yZPhiWWKKYeSZIkqUEMXCRJ9XPLLfDoo6X1ri74yleKq0eSJElqEAMXSVL99BzdssMOsOqqxdQiSZIkNZCBiySpPv7+d7jmmso2TwUtSZKkDmHgIkmqjx/9qHJ9nXVgww2LqUWSJElqMAMXSVLtvfYanH9+ZdvBB0NEMfVIkiRJDWbgIkmqvbPOgpkzS+srrAA77VRcPZIkSVKDGbhIkmrrnXcWPJzooINgkUWKqUeSJEkqgIGLJKm2LrkEXnihtL744vClLxVXjyRJklQAAxdJUu2kBCefXNm2776w9NLF1CNJkiQVxMBFklQ7118Pjz1WWh82zFNBS5IkqSMZuEiSauekkyrXd9oJxo4tpBRJkiSpSAYukqTa+POf4dZbK9sOPbSYWiRJkqSCGbhIkmrjlFMq1zfeGNZZp5BSJEmSpKIZuEiShu6ZZ+CXv6xsO/zwYmqRJEmSmoCBiyRp6E47DebNK61/6EOw+ebF1SNJkiQVzMBFkjQ0r70G55xT2XboodDlrxhJkiR1Lv8aliQNzRlnwIwZpfXll4fddiuuHkmSJKkJGLhIkgZv5kw4/fTKtq99DUaOLKYeSZIkqUkYuEiSBu+cc+CVV0rrSy0FBxxQXD2SJElSkzBwkSQNzuzZcPLJlW1f/nIWukiSJEkdzsBFkjQ4U6fCc8+V1hddNDucSJIkSVL7Bi4RMSoitoiI70TEFRHxTESkfDmm6PokqaXNmwc/+EFl2+TJsNxyxdQjSZIkNZnhRRdQR+sB1xZdhCS1pSuugL/9rbQ+fDgcdlhx9UiSJElNpp0DF4DXgPvLllOB5QutSJJaXUrw/e9Xtu22G6yySjH1SJIkSU2onQOXO1JKy5Q3RMSJRRUjSW3jxhvhgQdK6xFw5JHF1SNJkiQ1obadwyWlNK/oGiSpLfUc3bL99rDGGsXUIkmSJDWptg1cJEl1cOedcPvtlW3f/GYxtUiSJElNrJ0PKaqpiPhzFd1Wr3shklSkY4+tXN90U1hnnWJqkSRJkpqYI1wkSdW5+2646abKtqOOKqYWSZIkqck5wqVKKaWPDdQnHwWzdgPKkaTG6zm6ZeON4ZOfLKQUSZIkqdk5wkWSNLB77snOTlTu6KOLqUWSJElqAQYukqSB9Rzd8slPZiNcJEmSJPXKwEWS1L8//Qmuv76yzdEtkiRJUr8MXCRJ/es5uuXjH4dNNimmFkmSJKlFGLhIkvp2771w7bWVbUcfDRHF1CNJkiS1CAMXSVLfjjuucn3DDWHChGJqkSRJklpIW58WOiKWBoaVNXUHTKMi4r/K2t9OKc1oXGWS1ALuuw+uuaayzdEtkiRJUlXafYTLA8BLZcvKefvhPdrPKKQ6SWpm3/lO5fr668NnPlNMLZIkSVKLaffARZI0GLffDjfcUNl27LGObpEkSZKq1NaHFKWUxhZdgyS1nJTg29+ubPvUpxzdIkmSJC0ER7hIkipdfz3cdVdl2wknOLpFkiRJWggGLpKkkvnzFxzdsuWWsNFGxdQjSZIktSgDF0lSyRVXwAMPVLYdf3wxtUiSJEktzMBFkpSZNw+OOqqybaed4KMfLaYeSZIkqYUZuEiSMlOnwhNPlNa7uuC444qrR5IkSWphBi6SJJg9G445prJtzz1h9dULKUeSJElqdQYukiQ480yYNq20PmIEHH10YeVIkiRJrc7ARZI63euvL3jo0OTJMHZsIeVIkiRJ7cDARZI63Q9+AK+8UlpffPEFJ8+VJEmStFAMXCSpkz37LJx2WmXbEUfA8ssXU48kSZLUJgxcJKmTfec78PbbpfUVVoBDDy2uHkmSJKlNGLhIUqd68EG46KLKtuOOyw4pkiRJkjQkBi6S1IlSgsMPzy67ffjDMGlScTVJkiRJbcTARZI60Q03wE03Vbb98IcwbFgx9UiSJEltxsBFkjrNvHnZ6JZyn/40bLFFMfVIkiRJbcjARZI6zZQp8OijlW0nnQQRhZQjSZIktSMDF0nqJK+/Dt/8ZmXb7rvD2msXU48kSZLUpgxcJKmTHHccvPRSaX2xxeCEE4qrR5IkSWpTBi6S1Ckefxx+/OPKtiOPhFVWKaYeSZIkqY0ZuEhSJ0gJvv51mDu31LbKKgtOnitJkiSpJgxcJKkTXHNNdirociefDKNGFVOPJEmS1OYMXCSp3b3zTja6pdzGG8OOOxZSjiRJktQJDFwkqd2deio89VRpvasLTj/d00BLkiRJdWTgIknt7Pnn4fjjK9v23x/WWquYeiRJkqQOYeAiSe3s0ENh5szS+tJLZ6eGliRJklRXBi6S1K5uvBEuvbSy7fjjYdlli6lHkiRJ6iAGLpLUjt56Cw48sLLtox+F/fYrph5JkiSpwxi4SFI7+v73KyfKjYCzzoLhw4urSZIkSeogBi6S1G6eeAJOPLGy7cADYd11i6lHkiRJ6kAGLpLUTlKCAw6AOXNKbcsvDyecUFxNkiRJUgcycJGkdnLRRXDbbZVtp50GSy1VSDmSJElSpzJwkaR28eqr2Wmgy222Gey8czH1SJIkSR3MwEWS2sVhh8HLL5fWR46En/40mzBXkiRJUkMZuEhSO7j+ejj//Mq273wHxo0rph5JkiSpwxm4SFKrmz4dJk+ubPvQh+Dww4upR5IkSZKBiyS1vMMPh+eeK613dWWjXUaOLK4mSZIkqcMZuEhSK7v5Zvj5zyvbDj0U1luvmHokSZIkAQYuktS6ZsyAffetbPvAB+DYY4upR5IkSdL/MXCRpFb1jW/AtGml9YjsUKLFFiusJEmSJEkZAxdJakW33w4/+Ull29e+BhtuWEw9kiRJkioYuEhSq3njDZg4sbJt3Dg44YRi6pEkSZK0AAMXSWo1X/0qPPNMZdu558KoUcXUI0mSJGkBBi6S1Eouuwwuuqiy7eCD4VOfKqYeSZIkSb0ycJGkVvHcc7D//pVta64J3/9+MfVIkiRJ6pOBiyS1gvnzs3lbXn+91LbIInDxxbDoosXVJUmSJKlXBi6S1ApOPRVuuaWy7cQTYa21iqlHkiRJUr8MXCSp2T30EHzrW5VtEyZkp4GWJEmS1JQMXCSpmc2YAbvuCrNnl9qWXhqmTIEuf4RLkiRJzcq/1iWpWaUEX/oSPPFEZfvPfw4rrVRMTZIkSZKqYuAiSc3q7LPhkksq2yZNgh13LKYeSZIkSVUzcJGkZvTgg3DQQZVta64JZ5xRTD2SJEmSFoqBiyQ1m+nTYaed4J13Sm2LLw6XXw6jRhVXlyRJkqSqGbhIUjNJCfbdF558srL95z+H1VcvpiZJkiRJC83ARZKayRlnZCNZyn3pS/DFLxZTjyRJkqRBMXCRpGZx++1wyCGVbePHw2mnFVOPJEmSpEEzcJGkZvDMM9nZh+bOLbWNHp2Ndll00eLqkiRJkjQoBi6SVLRZs2C77eDllyvbL7wQ3v/+YmqSJEmSNCQGLpJUpJRg772z00CXO+aYLISRJEmS1JIMXCSpSD/4AVx2WWXb9tvDUUcVU48kSZKkmjBwkaSiXHstfOtblW1rrgkXXABd/niWJEmSWpl/0UtSER58EHbZJTukqNvSS8OVV2aT5UqSJElqaQYuktRozz4LW20FM2aU2rq64Je/hHHjiqtLkiRJUs0YuEhSI73xBmy5JTz/fGX7qafCppsWU5MkSZKkmjNwkaRGmT0bdtwRHn20sv1rX4ODDiqmJkmSJEl1YeAiSY2QEuy3H9x0U2X79tvDKacUU5MkSZKkujFwkaRGOOaY7OxD5dZfH6ZOhWHDCilJkiRJUv0YuEhSvZ1+Ohx3XGXbuHFw1VUwalQxNUmSJEmqKwMXSaqn886Dgw+ubFt2WbjuOnj3u4upSZIkSVLdGbhIUr1cfjlMnlzZNmoUXH01rLZaMTVJkiRJaggDF0mqh2uvhd12g/nzS22LLAK//S1ssEFxdUmSJElqCAMXSaq1P/wBPv95mDOn1DZsGPzyl7DppsXVJUmSJKlhDFwkqZb+8AfYckt4++3K9ilT4HOfK6QkSZIkSY1n4CJJtXLLLbDFFjBzZmX7T38Ku+9eTE2SJEmSCmHgIkm18Pvfw1ZbwaxZle0nnggHHFBMTZIkSZIKY+AiSUN13XWwzTYLHkZ04olw5JHF1CRJkiSpUMOLLkCSWtrVV8OOO8Ls2ZXtp5wChxxSTE2SJEmSCucIF0karIsugh12WDBsOf10wxZJkiSpwxm4SNJgnHwy7LknzJ1b2f6Tn8BBBxVTkyRJkqSm4SFFkrQw5s+HI47IDhkqFwFnngn77VdMXZIkSZKaioGLJFVrzhzYe2+YOrWyfcSIrG3nnYupS5IkSVLTMXCRpGpMn54FKjfcUNk+ejT85jcwYUIxdUmSJElqSgYukjSQp5/OTvv82GOV7cstl50Seu21i6lLkiRJUtNy0lxJ6s8f/gDrrbdg2DJuHNx9t2GLJEmSpF4ZuEhSX847DzbdFF55pbJ93XXhrruy0EWSJEmSemHgIkk9zZ0Lhx0G++yTTZRbbpdd4PbbYcyYYmqTJEmS1BKcw0WSyr34Iuy6axaq9HTssXDUUdkpoCVJkiSpHwYuktTt9tuzsOXFFyvbF1sMLrgAdtqpmLokSZIktRwPKZKklOCHP8xO7dwzbFlxxWziXMMWSZIkSQvBES6SOtsrr8Dee8NVVy1424QJcMkl2emfJUmSJGkhOMJFUue68Ub4yEd6D1u+8x244QbDFkmSJEmD4ggXSZ3n7bfhG9+A009f8Lall4apU2HLLRtflyRJkqS2YeAiqbM8/DB88Yvwl78seNu668Lll8Oqqza+LkmSJEltxUOKJHWG2bPhe9/LQpWeYUtXV3YI0V13GbZIkiRJqglHuEhqf3/6E+yzDzz66IK3jR2bHUK00UYNL0uSJElS+3KEi6T2NXMmHHoobLBB72HLnnvCQw8ZtkiSJEmqOUe4SGpPv/sdHHQQPP30grcttxz85Cew446Nr0uSJElSR3CEi6T28uSTsPXW2dJb2LLnnvDYY4YtkiRJkurKES6S2sPMmfD978NJJ2UT5Pa0yipw1lmw+eaNr02SJElSxzFwkdTa5s+Hiy+Gb38bnn12wdu7uuDLX4YTToDRoxtfnyRJkqSOZOAiqTWlBDfeCEcemU1825uNNoIzzoDx4xtbmyRJkqSO5xwuklrP/ffDZz6THR7UW9iy/PJw0UVwxx2GLZIkSZIKYeAiqXU88ABsvz187GNw880L3j5iRHYa6L/+FXbfHSIaX6MkSZIk4SFFklrB/ffDscfCVVf13eeLX4TvfQ/e977G1SVJkiRJfTBwkdS87r47O/PQNdf03WfTTeEHP4C1125cXZIkSZI0AAMXSc1l3jy48ko4+WS4556++62zTnbmoc02a1xtkiRJklQlAxdJzWHGDLjgAjj1VHjqqb77rbceHH00bLGFc7RIkiRJaloGLpKK9dhj8LOfZWHLm2/23e9//geOOQY++1mDFkmSJElNz8BFUuPNnp1NgPuTn8Btt/Xfd4stsjMPffrTBi2SJEmSWoaBi6TGefBBmDIFLr4YXn65734jRmSndT7kEFhzzYaVJ0mSJEm1YuAiqb7+/W+49NIsaHnwwf77LrccTJ4MBx4IK67YkPIkSZIkqR4MXCTV3muvwRVXZEHLLbfA/Pn99//EJ7KQZYcdYJFFGlOjJEmSJNWRgYuk2njlFbjmGvjVr+CGG2DOnP77v+tdsNtusP/+HjYkSZIkqe0YuEgavGeegSuvzJY77oB58/rv39UFm20GkybBttvCoos2pk5JkiRJajADF0nVmz0b7r4brrsuWx55pLr7rbUWfOELsMce8J731LdGSZIkSWoCBi6S+pYS/P3v2TwsN94IN90Eb75Z3X0/8IEsZNllF1hjjfrWKUmSJElNxsBFUqVnnoHbbstClltugeeeq/6+H/kIbLcdbL89jB8PEXUrU5IkSZKamYGL1Mnmz4e//CWbf+XOO7Pl2Werv39XF2ywQRawbLcdjBtXv1olSZIkqYUYuEidIiV4+mm47z64997s8v77qz9EqNuYMbD55rDFFvCZz8Ayy9SnXkmSJElqYQYuUjtKKRupct99pYDlz3+G115b+G0tthh8/OMwYUIWsIwfn41skSRJkiT1ycBFanUvvZQdFlS+PPoovPrq4LY3ciSstx5ssgl8+tOw/vpZmyRJkiSpagYuUitICV54AZ58Eh57rDJc+c9/hrbtZZaBDTeET3wiG8nysY8ZsEiSJEnSEBm4SM1i7lz45z/hqaeyYKX88qmn4K23hr6PJZfMApV11oF1180ux471bEKSJEmSVGMGLlKjvPFGNq9K9/LPf1Zef+aZLHSplVGjYO21s1ClO2B5//udf0WSJEmSGqDtA5eIGA0cCnweeC8wD/gbcCnw45TS7ALLU6tLKTvLz4sv9r688EIpVJk+vT41jBwJq68Oa64JH/5waRk7FoYNq88+JUmSJEn9auvAJSJWBW4DxuZNs4CRwDr5sltETEgpDeLULWpL8+dnZ/J5+eVseeWV0vXy9ZdeKoUqtTjUpxpLLQXjxsFqq1WGK+97Hwxv64+yJEmSJLWctv2WFhHDgavJwpYXgD1TSjdFRBewE3A28FFgKrBVUXWqhlKCd97JRpK88Qa8/vrCX06fnoUuRRkzJgtVxo3LDv8pv1x2WedakSRJkqQW0baBCzAR+Eh+/fMppT8CpJTmA5flwcslwJb5KJebC6qzM8ybB2+/3ffy1luV6zNnZsuMGQt3OW9e0Y+0byNHwkorwcorwyqrZJfl11ddFUaPLrpKSZIkSVINtHvgAnBrd9jSw6XACWTzuuwJNFfgklIWHvS3zJ8/cJ+5c2HOnNIye3b/69X06W19oDCllpPBNptFF4Xll+99GTMmC1lWWQXe/W5HqEiSJElSh2jLwCUiRgEb5avX9dYnpZQi4nrgAGCzmu388cdh/PihByUqzlJLZYfv/Nd/VS7lbcsuWwpVllzSIEWSJEmSVKEtAxdgDaD73LeP9tOv+7blI2KZlNKrQ97zW2/BQw8NeTMapEUWgSWWgHe9K1uWWqp0WX69v9tGjCj6UUiSJEmSWly7Bi4rll3/Vz/9ym9bEegzcImIP1ex3/9+HPhYFR07UgR0dWVL9/W+2oYNK7V3dfW/Xn6950iTN97IFkmSJEmSBuH++++/OKW028Ler10Dl/KZR2f106/8tlrMVjrvLXjjfphWg221n/J5aRpr9fzyiUbvWGpBfl6k6vhZkarjZ0Wqnp+XNtOugUvNpZQcuNKiukcn+RpKA/PzIlXHz4pUHT8rUvX8vLSfroG7tKQ3y66P6qdf+W1v9tlLkiRJkiRpIbRr4PJ82fX39NOv/Lbn++wlSZIkSZK0ENo1cHkcmJ9fX7Offt23vViTMxRJkiRJkiTRpoFLSmkWcFe+unlvfSIigM/mqzc2oi5JkiRJktQZ2jJwyV2QX24SEf/Ty+07Ae/Lr1/YmJIkSZIkSVInaPfA5REggF9HxASAiOiKiJ2As/N+16WUbi6oRkmSJEmS1Iba9rTQKaW5EbEtcCswFrgpImaRhUyL5t0eAHYrpkJJkiRJktSu2nmECymlacBawHHAo0AC5gB/Bg4D1k8pvVZYgZIkSZIkqS1FSqnoGiRJkiRJktpKW49wkSRJkiRJKoKBiyRJkiRJUo0ZuEiSJEmSJNWYgYskSZIkSVKNGbhIkiRJkiTVmIGLJEmSJElSjRm4SJIkSZIk1ZiBiyRJkiRJUo0ZuEhlIuIbEZG6l6LrkZpBRCwbEZMiYmpEPBYRMyPinYh4LiKujIjti65RapSIGB0Rx0TEIxExIyLeiIh7I+LQiFik6Pqkovk7Qxoav4+0l0jJ11ACiIgPAg8Ci3a3pZSiuIqk5hARc4DhZU1vA/OAxcvargN2TCnNamRtUiNFxKrAbcDYvGkWMAwYma8/AExIKb3W8OKkJuHvDGnw/D7SfhzhIgER0QWcR/bD7Y8FlyM1m+HAn4ADgXEppcVSSksA7wXOzftsAZxVUH1S3UXEcOBqsrDlBeAzKaXFgVHArsCbwEeBqUXVKDUJf2dIg+D3kfbkCBcJiIivAacBFwNPAkeDibIEEBGbpJRu7ef2M4Ev5aurpJSebUxlUuNExD7AOfnqhimlP/a4/QvAJfnqpimlmxtZn9Qs/J0hDY7fR9qTI1zU8SLivcAJwCvA1wsuR2o6/f3hnDu37Po69axFKtDE/PLWnmFL7lLgH/n1PRtTktR8/J0hLTy/j7QvAxcJziY7rviQlNJLRRcjtaC3y64PK6wKqU4iYhSwUb56XW99UjZk+Pp8dbNG1CW1KH9nSAvy+0ibMnBRR4uIycAE4KaU0oVF1yO1qI3Lrj9SVBFSHa1B6W+mR/vp133b8hGxTH1LklrWxmXX/Z2hjuf3kfZm4KKOFRHvAU4C3qJ0LLGkhRAR7wK+ma/ekVL6a5H1SHWyYtn1f/XTr/y2FfvsJXUof2dIlfw+0v6GD9xFaltnAUsBR6aUni66GKnV5LPpXwSsQDZE/CvFViTVzeiy6/2dxrb8ttF99pI6kL8zpF75faTNOcJFLSEi9oqINIRl8x7b2x3Yiuw89/9byIOS6qTWn5d+nA5snV//ckrp4To9JElS6/N3hlTG7yOdwcBFHScixpCdcm0eMDmlNLfgkqSWExEnU/rv5NdTSucVWY9UZ2+WXR/VT7/y297ss5fUYfydIVXy+0jn8JAitYpfANcM4f5vlF0/EVgW+BnwREQs0aPvIt1Xym6bnVKaPYT9S41Uy8/LAiLih8Ch+ephKaXThrAvqRU8X3b9PUBf/5l/Tx/3kTqWvzOkXvl9pEMYuKglpJTeAd6p0ebem18ekC/96f4P5enAwTXav1RXNf68VIiIk4DD8tUjUkqn1GM/UpN5HJhPNjJ4Tfo4NXR+G8CLKaVXG1GY1Mz8nSH1ye8jHcJDiiRJVcmHhJf/4XxSkfVIjZJSmgXcla/2OsdRRATw2Xz1xkbUJTUzf2dIkoGLOlBKaeOUUvS1AMeW9e1uN01WR8v/cC4fEu4fzuo0F+SXm0TE//Ry+07A+/LrFzamJKk5+TtD6p/fRzqHgYskqV89jr8/xCHh6lAXAI8AAfw6IiZAdqrbiNgJODvvd11K6eaCapQK5+8MSSqJlFLRNUhNJSKOAY6GLFEuthqpWBGxCvBMvjofeGmAu5ycUjq5vlVJxYiIscCtwNi8aRbZP68WzdcfACaklF5rdG1SM/B3hlQbfh9pH06aK0nqT1eP62MG6N9zln2pbaSUpkXEWmTzUuxANunhHOAvZGcH+7FnkFCH83eGJJVxhIskSZIkSVKNOYeLJEmSJElSjRm4SJIkSZIk1ZiBiyRJkiRJUo0ZuEiSJEmSJNWYgYskSZIkSVKNGbhIkiRJkiTVmIGLJEmSJElSjRm4SJIkSZIk1ZiBiyRJkiRJUo0ZuEiSJEmSJNWYgYskSZIkSVKNGbhIkiRJkiTVmIGLJElqaRExNiJSvkwpup5yEXFMWW0bF12P2lNETCl7n42t875u695XPfcjSe1geNEFSJJaV/kf3CmlKLKWokTEu4CD89UHU0pXFlmP6isixgPb5atXppQeLLIeLSgi9gLGAqSUjimylsHKw7mN89UpKaVphRUjSRo0AxdJkobmXcDR+fULAAOX9jae0us9DTBwaT57AZ/Krx9TXBlDsjGl99ltZO81SVKL8ZAiSZKkOkkpHZNSiny5reh61J5SSnuVvc+mFV2PJClj4CJJkiRJklRjBi6SJEmSJEk1ZuAiSaqbiNi47MwZx+Rtq0TEKRHxRESJtqgSAAAQm0lEQVTMjIjXI+LuiDgwIvqcW6yPbX0kIn4eEU9FxFsR8VJE3BQRXxigrr3KtrXXYPp2nxkH+EdZ94llfcuXsf0/U73ud1p+32n5+uIRcURE3BcRr+bP3aMRcUJELFPlNodHxL4RcW1EPB8R70TEK/k2j4+IFRb2uYiIjSLikrzetyPixYj4bURsMcC2qj57T63O9BMRH4uIoyLi+oj4Z17vWxHxbERcGRG7R8SwPu67V/56n1/WfH4vr/W0ITzOlSPixIi4P3+N34mIf0XE1fn+e62t7P4LnD0mInaNiN/nr8s7EfFMZGe0WX2g52sgtfxM9tjuoJ6H7sdPaf4W+vg8HtPH/bsiYueIuCwi/hERsyLizch+Vv0sIj4yQN0LvNYRsX5EXJw/7+9ExH8i4pqI2Ly/bVCavwXg1l4ew2097jfgWYoiYsmI2C0izo2IByL72Tsnf47vj+zn8rj+HqMkaeE4aa4kqWHyLxm/IJtottwG+bJdRGyTUnqnim3tAZwNjCxrXhSYAEyIiN2AHVNKb9ek+AJFxKrAdcAaPW76cL7sExFbp5Tu62cbHwCuAj7Y46Zl8uVjwMERcWBK6cIq6/oGcAKV/8AZA2wLbBsRZwP7p5TmV7O9eoqIo+l7AtWV8uVzZM/Btiml5xtVG0BEfAk4FVisx00r5svWwCF5bdOq2N6iZJ+17XrctAowEdg1IrZPKV031NrL9jnkz2Stn4eFqH0c8CuySZF7+mC+7BcRJ6SUvlvlNr8NHEfl5+PdwFbAVhFxXErp6F7vXGMRsQjwHypfm25L58tHgYMi4uCU0k8aUZcktTsDF0lSo4wHDgcCOAv4I/AOsA6wP7A48Bng28BAX2jWBb6VXz8P+AMwL2/fJ9/WVsBUYMdaPogy/wG2B5YjezwAtwI/6qPvYI0ALicLW/4/si/RLwKrkn1x/hBZyHFjRIxPKf2z5wYiYiXgTrIvewBPAlPyy6XJApItyJ63KRExL6V08QB1bUcWUMwEzgXuBYYBnwT2JPsbYzIwHThsEI+71hYD5pK97+4ie+zTycKm9wK7A+8hC56ujIiNUkpzyu5/C9nr/Wngq3nbj/P2crMWtrA8ZDizrOlq4HfA68AHgEl5jR8B7oyIj6aUXhpgs+eRvUZ/Bi4F/gn8F7AbsCHZF++pEfHBlNLLC1tzL4b8mazB8/Cd/DEeTxZEQvaa9fREj/2OA+7J7wvZZ+Ua4Bmy9/THyM58tDRwVETMr+J00/sBXwD+RfZZ+wuwCLA5sAvZz8HvRsTtKaXy99ClZGe+2jXvB3AU8GiP7S/sa9ZF9po/D/weeBj4NzAfWJnsPbEt2ef2jIh4PqX0m4XchySpp5SSi4uLi4vLoBYgdS993L5xeR+yLzCr9dJvPWBO3udVYGQV25oOrN9Lv9XIvuR09/t8L332Krt9rwEeY799gbFlt0+p4XM7rcfj/QEQPfqMAC4u63N1H9u6rqzP5X08v3uRfUHufm5XGOC5SPnz3NvruX6+jZRvc91e+hxTtp2NB3gu+u1bzWtA9sV/+X72sQhwWtl2Jg7m/TDI2mflt88Fdu6lz2JkAcD/vYZ97Ou2Hq/P8b28Z7qA35T1OWII79GNe+xvKJ/JujwPVTyGLrJQKgFvAzv10W8M8EDZe/rDA7zWCbgRWLyXfl8v63PtYN43vfSfUtZ/bC+3DyMLe6KfbawFvJBv4ymga6jPr4uLi0unL87hIklqpN1TSn/v2ZhS+hNwWb66NFkAM5DDU0r39LKtv5P9R71bM4yuGKo/At9IKaXyxpSNwNiHLJwB2DoiKg4Zioi1yL5okffbM/VyyFZKaQrws3x1NPDlKurau4/X8x7giHy1Czikim3VVUrp3pTSi/3cPhs4lNKcPHs0pDA4iNLhM6eklH7ZS21vAV8k+zIM8PmIWG2A7d6SUvpOL++Z+WQjzbp9dnBl92oon8l6PQ8D2Q5YO79+eErp8t46pZT+TTbiZB7Ze/prA2z3FWCXlNLMXm47nWzEEcCno5+5q2olpTQvpXR9z/dDjz4PUxql9D6yUS+SpCEwcJEkNcoDKaU7+rm9fFj9hwbY1mtUTl5aIaV0PfBYvrp+RCxfXYlN63/7+qKUsvkwflrW1PMQih3Krv84/9Lalx+S/ee65/1685eU0g393H4e2esEsM1AE742g5TSPLLDtgDWi4howG67n+e5wCl9dUopTaf0Oge9HypT7vR+tvUk8Gy+OtBnrVpD/UzW63kYSHewNp1s/pk+pZT+BvwpX91sgO1emFJ6rbcb8tDr9nx1JNBME9XeXXb9fwqrQpLahHO4SJIaZYH/fPfwr7LrSw/Q9458REJ/bqH0ZXJdsvkgWlXPeUL6u33dHreVjxa6sb+NpJT+GRFPkM0Xs3pELJl/we3NzQNsa3ZE3EU2yeniZK/FI/3dp94iootsRMPnySYIXZFsNE9v/4AaDSwJvFHHepYjm4sH4KGU0kBz/dwIfC+/PtCX4Wo+bysz8GetWoP+TNb5eRjIJ/LLF4DNq8jY5uWXq0bEYv0EmLX8eVcz+RmMJpIdDrY62QTmi/bRfaWGFCVJbczARZLUKANN8lh+mEtfXwC6PVnF/sr7rFhF/2b1akrp1QH69PdYy0/1/Lcq9vc3ssAlgOXJ/vM/0D6rrauwwCWfOPhKsglQq1XXwIXBvTa93bc31X7eejtrzWAM5TNZz+ehTxGxBLBsvvpBsrltFsbSQF+BSy1/3tVERBwMnEj1r/mSdSxHkjqCgYskqVFqeWrgas4EUz53whI13HejDfWxjs4v51YxAgFgRi/3rUddDRMRI4AbKI2ueJnsFNmPkp2p5W1K78+DgE3y6/U+DKr8+e1tro+eqn1tug9baaShvB/q9jwMYKkh3BeyiZb7Uvip0Mvlp+Q+tazpDrLDmqYBbwLdPxvKz7rW9IcBSlKzM3CRJLWiUVX0Wbzs+ow+ew2s6PnOhvpY38wvh0fEIlWELuVfhN/ss1drvQZfoBS2/B7Yvo/JTLu/mDZK+fO7eJ+9Sqp9bYowlPdDUc9DeQ1/SCl9agjbanbdh2DNBbZNKV3XW6eI+HBv7ZKkwSn6j0hJkgbj/QvZ5/ket5UP5+/vv9QA/1VVRfWzTEQMNMdDf4/1hbLr1ZzRpbtPAvo8qw+t9RpsWnb9632FLblV+7mt1gb72sCCz2fRhvJ+KOR5SCm9QSl0adv5SiLifcB789Ur+wpbco18/0tS2zNwkSS1oo/nh4n0Z5Oy6/f2uO31susDze8y0KSc5YcO1OusNp8e4Pb+Huufyq5/pr+NRMTKZBNpAjzRz4S5A9YUEYsAG+WrMymdoaZbLV+DgYwpu/5UX53yyVvHD7Ctmr3e+eSwz+Sr4yPi3QPcpfzMOH/qs1cxBv2ZrMPz8H+vURVnmvpDfvm+iKgmNGqUWv5cqer9n6vlacIlqeMZuEiSWtEywF593RgRmwHdQ+P/mFLqOVKj/Mt/n8FBRLwX2GaAWsoPS6jmcIjB+HpfN0TESODAsqaeE39eUXb9qxHR3wSdh1P62+DXA9S0ZkT0F+DsRensK1flp1wuV+1rsBGw9gC1DKR8fpH+TsH7TWCg0KDWr3f38zwcOLivThExmtLrnFj4CV7rbaifyVo+DwvzGl1Qdv24Afo2Ui3fZ1W9//PAddIQ9yVJKmPgIklqVSdHRM9TIBMR44DzyppO6dknpfQM8Hi++omIWCBUyf/L/isG+AKen0Go+0w246v4j/pgbBQR/6/ntvMRBedQOlzgmpTSX3vU9zDQfQjB+4Dz89EnFSJiD+DL+eqbwE+rqOu8/Pnuua31gJPy1flUTtbZ7R5Ko1x2jYgFzh6Ub3tqFXUMpHzUz/fy00P33Nd+ZBPmDuQfZdeHGgQB/JjSmW6OiIjP91LbomTPQ/dIoF+nlP5eg33X2qA/k9T2eViY1+hXlN4fX4iI03r7fJTVsFhE7BURuw6w3aGq5fvscUqTEX8u/3xWiIgxZGfxGsokxJKkHpw0V5LUiq4lOzzmroi4gOyMG/OAdYF9KE2q+euUUl8jNU4Gzu3uFxHnkR1eEMBHyf7T+y7gcmCnAeq5Bdie7L/Hl0XEFVQeMnN7Sqmv08cO5HngX2SjLzaOiF+QnVlnVWAipVEDr1EKTHraD7gfeDewK7B2/rw9SfYYtwW2Kut/QErphQW2Uum3wOeAByPiXLIvrcOATwJ7UgqqTk0p9TzMiZTSOxHxY+CovO9tEXEmcB/ZaWs3yLcTZGcU2naAevpzPvAtspEC2wP3R8RFwHNkh1vsAHyKbM6aR+j/0KtHgP+Qnc1l94h4iSw86n5930op3V5tYSmlaRHxdeBMsr/LfhURvyV7j79ONl/J3mRhGWTvhQN721bBhvSZrPHzcDOl8OzciDiV7JCl7lFWT6aUnsz3Oz8Pd/4IvAf4GrBzRFwOPEQWpi4BrAKsA0wgex8dVf1TMyh3AHPIPhuHR0QCHqY099GrKaWqDitLKc2OiLOAQ/Lt/SH/eXdvvo+1Kf28u5DscydJqoWUkouLi4uLy6AWsiH9Kft10uvtG5f1OWaAbfXbt+ftwO5kp/NNfSy/AxbtZ38BTOnn/u8A+5IdJtHdtlcf2xpPNmy/r22NHcRzOy2/7zSycOUv/Wz/38A6A2zvA8AT/Wwjkf0XfM9+tlHxXABHkn2J7Wt7ZwNd/WxvJHBjP/d/A9g6f7272zbuZTtjy26f0se+PkcWivS1r+fIwoHy90SvrxtZgNXXdqb16Ntv7WX99h+gvkQW9vT5XgJu6+5bxfur6r7VfmYZ4meyhs/DMLLAoq/79/bzZQXgpgH2273MBfbtZRtVvdbV9gX+Xz813Najb7/vW2BRsmC4v8d1JlmgNdBnacjvHRcXF5dOWTykSJLUklJKU8m+IJ8DPE32Re9Vsi8Vu6WUtkopvd3P/RPZf3W/kN/nNbKQZRrZ4Q/rpJTOqbKWB4GP5bX8lco5E4YsZYdArQd8g2ykyutkX0ofB74PrJFSum+AbfwN+AgwGbiebDTHHLLHfT/Zl7vVUkoXLkRdPyAb0XIp8E9gNvAScA2wZUppckppfj/3fwfYEjgAuBuYTvY6Pgn8CBifUrqm2nr+//buGEWKIAoD8F8HEbyBHsFA0WNoJh7BYNHQG6jRppqZmBoaCR5hlxWMBNFETJ7BG4Nd1FX7LSP4fVkHXfOmp6pp/qmuOqfWF+l/8g+TnKS/+4ckb5IcJLlSP5iJ85O2nia5lX4F411O77j0t/U9Todij5K8Tf/GX9M7+LxM99WrVXW09bMuytYxuWtj83WoXi/oRnq8vE738bNrCJ09531VXU+HSE/SAefH3Xmf0msOPUv31Uu/e2/Yoqrup+9P38freVu6/6qtL+nFhu+lr8nndL89TvI8yc2qupvTi/UCsNHq500A+Letta4lebU7fFhVD/ZXzcVbax2lZ7YcV9Xl/VbT1lq306/nJMmdqjrcXzXs2/82JgHgT5nhAgAAADBM4AIAAAAwTOACAAAAMEzgAgAAADBM4AIAAAAwzC5FAAAAAMPMcAEAAAAYJnABAAAAGCZwAQAAABgmcAEAAAAYJnABAAAAGCZwAQAAABgmcAEAAAAYJnABAAAAGCZwAQAAABgmcAEAAAAYJnABAAAAGCZwAQAAABj2De7Y1VdcLimVAAAAAElFTkSuQmCC\n",
         "text/plain": "<Figure size 576x432 with 1 Axes>"
        },
        "metadata": {
         "image/png": {
          "height": 413,
          "width": 558
         },
         "needs_background": "light"
        },
        "output_type": "display_data"
       }
      ]
     }
    },
    "5a3c36e35c694b14ae815d4f8ab5a795": {
     "model_module": "@jupyter-widgets/controls",
     "model_module_version": "1.5.0",
     "model_name": "SliderStyleModel",
     "state": {
      "_model_module": "@jupyter-widgets/controls",
      "_model_module_version": "1.5.0",
      "_model_name": "SliderStyleModel",
      "_view_count": null,
      "_view_module": "@jupyter-widgets/base",
      "_view_module_version": "1.2.0",
      "_view_name": "StyleView",
      "description_width": "",
      "handle_color": null
     }
    },
    "634058f25fe14bafa41bb1ede48956c6": {
     "model_module": "@jupyter-widgets/controls",
     "model_module_version": "1.5.0",
     "model_name": "SliderStyleModel",
     "state": {
      "_model_module": "@jupyter-widgets/controls",
      "_model_module_version": "1.5.0",
      "_model_name": "SliderStyleModel",
      "_view_count": null,
      "_view_module": "@jupyter-widgets/base",
      "_view_module_version": "1.2.0",
      "_view_name": "StyleView",
      "description_width": "",
      "handle_color": null
     }
    },
    "6941a478564442fcad2f6620ecd15a1f": {
     "model_module": "@jupyter-widgets/base",
     "model_module_version": "1.2.0",
     "model_name": "LayoutModel",
     "state": {
      "_model_module": "@jupyter-widgets/base",
      "_model_module_version": "1.2.0",
      "_model_name": "LayoutModel",
      "_view_count": null,
      "_view_module": "@jupyter-widgets/base",
      "_view_module_version": "1.2.0",
      "_view_name": "LayoutView",
      "align_content": null,
      "align_items": null,
      "align_self": null,
      "border": null,
      "bottom": null,
      "display": null,
      "flex": null,
      "flex_flow": null,
      "grid_area": null,
      "grid_auto_columns": null,
      "grid_auto_flow": null,
      "grid_auto_rows": null,
      "grid_column": null,
      "grid_gap": null,
      "grid_row": null,
      "grid_template_areas": null,
      "grid_template_columns": null,
      "grid_template_rows": null,
      "height": null,
      "justify_content": null,
      "justify_items": null,
      "left": null,
      "margin": null,
      "max_height": null,
      "max_width": null,
      "min_height": null,
      "min_width": null,
      "object_fit": null,
      "object_position": null,
      "order": null,
      "overflow": null,
      "overflow_x": null,
      "overflow_y": null,
      "padding": null,
      "right": null,
      "top": null,
      "visibility": null,
      "width": null
     }
    },
    "8274b09b935341b6b6f5ff53affae687": {
     "model_module": "@jupyter-widgets/controls",
     "model_module_version": "1.5.0",
     "model_name": "FloatSliderModel",
     "state": {
      "_dom_classes": [],
      "_model_module": "@jupyter-widgets/controls",
      "_model_module_version": "1.5.0",
      "_model_name": "FloatSliderModel",
      "_view_count": null,
      "_view_module": "@jupyter-widgets/controls",
      "_view_module_version": "1.5.0",
      "_view_name": "FloatSliderView",
      "continuous_update": true,
      "description": "yslab",
      "description_tooltip": null,
      "disabled": false,
      "layout": "IPY_MODEL_2599d21a14b24fdfb6e19541ce1cb8e7",
      "max": 1.5,
      "min": -1.5,
      "orientation": "horizontal",
      "readout": true,
      "readout_format": ".2f",
      "step": 0.1,
      "style": "IPY_MODEL_4cb4e5278fd34acda56f19d4b02c4c95",
      "value": -0.7
     }
    },
    "830a03d79d0c47a4b5c6c266d5b7ba94": {
     "model_module": "@jupyter-widgets/controls",
     "model_module_version": "1.5.0",
     "model_name": "SliderStyleModel",
     "state": {
      "_model_module": "@jupyter-widgets/controls",
      "_model_module_version": "1.5.0",
      "_model_name": "SliderStyleModel",
      "_view_count": null,
      "_view_module": "@jupyter-widgets/base",
      "_view_module_version": "1.2.0",
      "_view_name": "StyleView",
      "description_width": "",
      "handle_color": null
     }
    },
    "9cc700d35199444aa046597a6b65a7e2": {
     "model_module": "@jupyter-widgets/controls",
     "model_module_version": "1.5.0",
     "model_name": "VBoxModel",
     "state": {
      "_dom_classes": [
       "widget-interact"
      ],
      "_model_module": "@jupyter-widgets/controls",
      "_model_module_version": "1.5.0",
      "_model_name": "VBoxModel",
      "_view_count": null,
      "_view_module": "@jupyter-widgets/controls",
      "_view_module_version": "1.5.0",
      "_view_name": "VBoxView",
      "box_style": "",
      "children": [
       "IPY_MODEL_02b98f3411e041788cbc3cbf463cc443",
       "IPY_MODEL_8274b09b935341b6b6f5ff53affae687",
       "IPY_MODEL_3df0fdb7355f41b4913f01d3d208faeb",
       "IPY_MODEL_fbc557f157944ca3b63a2ed42dee6e0f"
      ],
      "layout": "IPY_MODEL_51ce4511d1124fdbb90c98a9e93bd914"
     }
    },
    "e41a6892271c4c3787b55b28b989a751": {
     "model_module": "@jupyter-widgets/controls",
     "model_module_version": "1.5.0",
     "model_name": "FloatSliderModel",
     "state": {
      "_dom_classes": [],
      "_model_module": "@jupyter-widgets/controls",
      "_model_module_version": "1.5.0",
      "_model_name": "FloatSliderModel",
      "_view_count": null,
      "_view_module": "@jupyter-widgets/controls",
      "_view_module_version": "1.5.0",
      "_view_name": "FloatSliderView",
      "continuous_update": true,
      "description": "Amax",
      "description_tooltip": null,
      "disabled": false,
      "layout": "IPY_MODEL_2599d21a14b24fdfb6e19541ce1cb8e7",
      "max": 5,
      "min": 0,
      "orientation": "horizontal",
      "readout": true,
      "readout_format": ".2f",
      "step": 0.25,
      "style": "IPY_MODEL_34db624589704618afdd664640591e11",
      "value": 3.75
     }
    },
    "fbc557f157944ca3b63a2ed42dee6e0f": {
     "model_module": "@jupyter-widgets/output",
     "model_module_version": "1.0.0",
     "model_name": "OutputModel",
     "state": {
      "_dom_classes": [],
      "_model_module": "@jupyter-widgets/output",
      "_model_module_version": "1.0.0",
      "_model_name": "OutputModel",
      "_view_count": null,
      "_view_module": "@jupyter-widgets/output",
      "_view_module_version": "1.0.0",
      "_view_name": "OutputView",
      "layout": "IPY_MODEL_6941a478564442fcad2f6620ecd15a1f",
      "msg_id": "",
      "outputs": [
       {
        "data": {
         "image/png": "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\n",
         "text/plain": "<Figure size 576x432 with 3 Axes>"
        },
        "metadata": {
         "image/png": {
          "height": 413,
          "width": 558
         },
         "needs_background": "light"
        },
        "output_type": "display_data"
       }
      ]
     }
    }
   }
  }
 },
 "nbformat": 4,
 "nbformat_minor": 1
}
