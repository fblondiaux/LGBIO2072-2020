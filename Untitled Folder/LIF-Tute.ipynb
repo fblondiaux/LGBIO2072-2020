{
 "cells": [
  {
   "cell_type": "markdown",
   "metadata": {},
   "source": [
    "# Leaky Integrate and Fire (LIF) Tutorial\n",
    "__Authors:__ Antoine de Comite and Florence Blondiaux\n",
    "\n",
    "__Content inspired from__: Neuromatch Academy github.com/NeuromatchAcademy"
   ]
  },
  {
   "cell_type": "markdown",
   "metadata": {},
   "source": [
    "## Reminder\n",
    "\n",
    "Integrate-and-fire model\n",
    "\n",
    "The model is characterized by the following linear differential equation:\n",
    "\n",
    "\\begin{equation*}\n",
    "\\tau_m \\frac{du}{dt} = -(u(t)-u_{rest}) +RI(t)\n",
    "\\end{equation*}\n",
    "\n",
    "Euler integration :\n",
    "\\begin{equation*}\n",
    "\\"
   ]
  },
  {
   "cell_type": "code",
   "execution_count": null,
   "metadata": {},
   "outputs": [],
   "source": []
  },
  {
   "cell_type": "code",
   "execution_count": null,
   "metadata": {},
   "outputs": [],
   "source": []
  }
 ],
 "metadata": {
  "kernelspec": {
   "display_name": "Python 3",
   "language": "python",
   "name": "python3"
  },
  "language_info": {
   "codemirror_mode": {
    "name": "ipython",
    "version": 3
   },
   "file_extension": ".py",
   "mimetype": "text/x-python",
   "name": "python",
   "nbconvert_exporter": "python",
   "pygments_lexer": "ipython3",
   "version": "3.8.3"
  }
 },
 "nbformat": 4,
 "nbformat_minor": 4
}
